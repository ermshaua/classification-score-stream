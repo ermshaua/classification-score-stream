{
 "cells": [
  {
   "cell_type": "markdown",
   "metadata": {},
   "source": [
    "# Comparative Analysis\n",
    "In this notebook, we compare ClaSS with different parameter settings."
   ]
  },
  {
   "cell_type": "code",
   "execution_count": 1,
   "metadata": {},
   "outputs": [],
   "source": [
    "import matplotlib\n",
    "\n",
    "matplotlib.rcParams['pdf.fonttype'] = 42\n",
    "matplotlib.rcParams['ps.fonttype'] = 42"
   ]
  },
  {
   "cell_type": "code",
   "execution_count": 2,
   "metadata": {},
   "outputs": [],
   "source": [
    "import numpy as np\n",
    "\n",
    "import pandas as pd\n",
    "\n",
    "pd.set_option('display.max_rows', None)\n",
    "\n",
    "import matplotlib.pyplot as plt\n",
    "import seaborn as sns\n",
    "\n",
    "sns.set_theme()\n",
    "sns.set_color_codes()\n",
    "\n",
    "import Orange\n",
    "import sys\n",
    "\n",
    "sys.path.append(\"../../\")"
   ]
  },
  {
   "cell_type": "markdown",
   "metadata": {},
   "source": [
    "Let's choose a score for evaluation (F1 or Covering)."
   ]
  },
  {
   "cell_type": "code",
   "execution_count": 3,
   "metadata": {},
   "outputs": [],
   "source": [
    "eval_score = \"covering_score\""
   ]
  },
  {
   "cell_type": "markdown",
   "metadata": {},
   "source": [
    "Let's load the scores from the different methods."
   ]
  },
  {
   "cell_type": "code",
   "execution_count": 4,
   "metadata": {},
   "outputs": [
    {
     "data": {
      "text/plain": "                       dataset  1e-10-p_value  1e-20-p_value  1e-30-p_value  \\\n0                DodgerLoopDay          0.758          0.871          0.871   \n1                       EEGRat          0.654          0.717          0.717   \n2                      EEGRat2          0.616          0.616          0.616   \n3                     FaceFour          0.583          0.722          0.785   \n4            GrandMalSeizures2          0.588          0.589          0.693   \n5                 GreatBarbet1          0.461          0.605          0.879   \n6                      Herring          1.000          1.000          1.000   \n7                  InlineSkate          0.744          0.745          0.608   \n8                   InsectEPG1          0.163          0.255          0.356   \n9          MelbournePedestrian          0.540          0.691          0.693   \n10                    NogunGun          0.327          0.490          0.582   \n11  NonInvasiveFetalECGThorax1          0.370          0.752          0.789   \n12                   ShapesAll          0.632          0.756          0.869   \n13                     TiltECG          0.210          0.508          0.519   \n14            ToeSegmentation1          0.312          0.504          0.686   \n15            ToeSegmentation2          0.356          0.612          0.726   \n16                       Trace          0.714          0.755          0.909   \n17        UWaveGestureLibraryY          0.667          0.601          0.910   \n18        UWaveGestureLibraryZ          0.823          0.906          0.781   \n19                WordSynonyms          0.389          0.286          0.373   \n20                        Yoga          0.484          0.955          0.995   \n\n    1e-40-p_value  1e-50-p_value  1e-60-p_value  1e-70-p_value  1e-80-p_value  \\\n0           1.000          1.000          1.000          1.000          1.000   \n1           0.717          0.885          0.885          0.885          0.885   \n2           0.739          0.739          0.739          0.640          0.739   \n3           0.741          0.741          0.741          0.741          0.804   \n4           0.693          0.761          0.730          0.738          0.837   \n5           0.879          0.877          0.857          0.991          0.989   \n6           1.000          1.000          1.000          1.000          1.000   \n7           0.358          0.358          0.358          0.358          0.358   \n8           0.420          0.751          0.753          0.753          0.752   \n9           0.842          0.943          0.944          0.944          0.944   \n10          0.582          0.802          0.802          0.803          0.983   \n11          0.787          0.791          0.822          0.822          0.823   \n12          0.869          0.962          0.963          0.969          0.969   \n13          0.609          0.916          0.531          0.531          0.531   \n14          0.573          0.761          0.477          0.500          0.500   \n15          0.737          0.891          0.891          0.891          0.876   \n16          0.964          0.652          0.643          0.643          0.643   \n17          0.779          0.774          0.774          0.587          0.587   \n18          0.781          0.779          0.802          0.579          0.402   \n19          0.727          0.727          0.727          0.727          0.727   \n20          0.504          0.504          0.504          0.504          0.504   \n\n    1e-90-p_value  1e-100-p_value  \n0           1.000           1.000  \n1           0.915           0.915  \n2           0.739           0.739  \n3           0.804           0.581  \n4           0.838           0.773  \n5           0.989           0.986  \n6           1.000           1.000  \n7           0.358           0.358  \n8           0.753           0.752  \n9           0.987           0.987  \n10          0.983           0.983  \n11          0.822           0.834  \n12          0.395           0.395  \n13          0.531           0.531  \n14          0.500           0.500  \n15          0.876           0.881  \n16          0.643           0.643  \n17          0.587           0.587  \n18          0.402           0.401  \n19          0.727           0.727  \n20          0.504           0.504  ",
      "text/html": "<div>\n<style scoped>\n    .dataframe tbody tr th:only-of-type {\n        vertical-align: middle;\n    }\n\n    .dataframe tbody tr th {\n        vertical-align: top;\n    }\n\n    .dataframe thead th {\n        text-align: right;\n    }\n</style>\n<table border=\"1\" class=\"dataframe\">\n  <thead>\n    <tr style=\"text-align: right;\">\n      <th></th>\n      <th>dataset</th>\n      <th>1e-10-p_value</th>\n      <th>1e-20-p_value</th>\n      <th>1e-30-p_value</th>\n      <th>1e-40-p_value</th>\n      <th>1e-50-p_value</th>\n      <th>1e-60-p_value</th>\n      <th>1e-70-p_value</th>\n      <th>1e-80-p_value</th>\n      <th>1e-90-p_value</th>\n      <th>1e-100-p_value</th>\n    </tr>\n  </thead>\n  <tbody>\n    <tr>\n      <th>0</th>\n      <td>DodgerLoopDay</td>\n      <td>0.758</td>\n      <td>0.871</td>\n      <td>0.871</td>\n      <td>1.000</td>\n      <td>1.000</td>\n      <td>1.000</td>\n      <td>1.000</td>\n      <td>1.000</td>\n      <td>1.000</td>\n      <td>1.000</td>\n    </tr>\n    <tr>\n      <th>1</th>\n      <td>EEGRat</td>\n      <td>0.654</td>\n      <td>0.717</td>\n      <td>0.717</td>\n      <td>0.717</td>\n      <td>0.885</td>\n      <td>0.885</td>\n      <td>0.885</td>\n      <td>0.885</td>\n      <td>0.915</td>\n      <td>0.915</td>\n    </tr>\n    <tr>\n      <th>2</th>\n      <td>EEGRat2</td>\n      <td>0.616</td>\n      <td>0.616</td>\n      <td>0.616</td>\n      <td>0.739</td>\n      <td>0.739</td>\n      <td>0.739</td>\n      <td>0.640</td>\n      <td>0.739</td>\n      <td>0.739</td>\n      <td>0.739</td>\n    </tr>\n    <tr>\n      <th>3</th>\n      <td>FaceFour</td>\n      <td>0.583</td>\n      <td>0.722</td>\n      <td>0.785</td>\n      <td>0.741</td>\n      <td>0.741</td>\n      <td>0.741</td>\n      <td>0.741</td>\n      <td>0.804</td>\n      <td>0.804</td>\n      <td>0.581</td>\n    </tr>\n    <tr>\n      <th>4</th>\n      <td>GrandMalSeizures2</td>\n      <td>0.588</td>\n      <td>0.589</td>\n      <td>0.693</td>\n      <td>0.693</td>\n      <td>0.761</td>\n      <td>0.730</td>\n      <td>0.738</td>\n      <td>0.837</td>\n      <td>0.838</td>\n      <td>0.773</td>\n    </tr>\n    <tr>\n      <th>5</th>\n      <td>GreatBarbet1</td>\n      <td>0.461</td>\n      <td>0.605</td>\n      <td>0.879</td>\n      <td>0.879</td>\n      <td>0.877</td>\n      <td>0.857</td>\n      <td>0.991</td>\n      <td>0.989</td>\n      <td>0.989</td>\n      <td>0.986</td>\n    </tr>\n    <tr>\n      <th>6</th>\n      <td>Herring</td>\n      <td>1.000</td>\n      <td>1.000</td>\n      <td>1.000</td>\n      <td>1.000</td>\n      <td>1.000</td>\n      <td>1.000</td>\n      <td>1.000</td>\n      <td>1.000</td>\n      <td>1.000</td>\n      <td>1.000</td>\n    </tr>\n    <tr>\n      <th>7</th>\n      <td>InlineSkate</td>\n      <td>0.744</td>\n      <td>0.745</td>\n      <td>0.608</td>\n      <td>0.358</td>\n      <td>0.358</td>\n      <td>0.358</td>\n      <td>0.358</td>\n      <td>0.358</td>\n      <td>0.358</td>\n      <td>0.358</td>\n    </tr>\n    <tr>\n      <th>8</th>\n      <td>InsectEPG1</td>\n      <td>0.163</td>\n      <td>0.255</td>\n      <td>0.356</td>\n      <td>0.420</td>\n      <td>0.751</td>\n      <td>0.753</td>\n      <td>0.753</td>\n      <td>0.752</td>\n      <td>0.753</td>\n      <td>0.752</td>\n    </tr>\n    <tr>\n      <th>9</th>\n      <td>MelbournePedestrian</td>\n      <td>0.540</td>\n      <td>0.691</td>\n      <td>0.693</td>\n      <td>0.842</td>\n      <td>0.943</td>\n      <td>0.944</td>\n      <td>0.944</td>\n      <td>0.944</td>\n      <td>0.987</td>\n      <td>0.987</td>\n    </tr>\n    <tr>\n      <th>10</th>\n      <td>NogunGun</td>\n      <td>0.327</td>\n      <td>0.490</td>\n      <td>0.582</td>\n      <td>0.582</td>\n      <td>0.802</td>\n      <td>0.802</td>\n      <td>0.803</td>\n      <td>0.983</td>\n      <td>0.983</td>\n      <td>0.983</td>\n    </tr>\n    <tr>\n      <th>11</th>\n      <td>NonInvasiveFetalECGThorax1</td>\n      <td>0.370</td>\n      <td>0.752</td>\n      <td>0.789</td>\n      <td>0.787</td>\n      <td>0.791</td>\n      <td>0.822</td>\n      <td>0.822</td>\n      <td>0.823</td>\n      <td>0.822</td>\n      <td>0.834</td>\n    </tr>\n    <tr>\n      <th>12</th>\n      <td>ShapesAll</td>\n      <td>0.632</td>\n      <td>0.756</td>\n      <td>0.869</td>\n      <td>0.869</td>\n      <td>0.962</td>\n      <td>0.963</td>\n      <td>0.969</td>\n      <td>0.969</td>\n      <td>0.395</td>\n      <td>0.395</td>\n    </tr>\n    <tr>\n      <th>13</th>\n      <td>TiltECG</td>\n      <td>0.210</td>\n      <td>0.508</td>\n      <td>0.519</td>\n      <td>0.609</td>\n      <td>0.916</td>\n      <td>0.531</td>\n      <td>0.531</td>\n      <td>0.531</td>\n      <td>0.531</td>\n      <td>0.531</td>\n    </tr>\n    <tr>\n      <th>14</th>\n      <td>ToeSegmentation1</td>\n      <td>0.312</td>\n      <td>0.504</td>\n      <td>0.686</td>\n      <td>0.573</td>\n      <td>0.761</td>\n      <td>0.477</td>\n      <td>0.500</td>\n      <td>0.500</td>\n      <td>0.500</td>\n      <td>0.500</td>\n    </tr>\n    <tr>\n      <th>15</th>\n      <td>ToeSegmentation2</td>\n      <td>0.356</td>\n      <td>0.612</td>\n      <td>0.726</td>\n      <td>0.737</td>\n      <td>0.891</td>\n      <td>0.891</td>\n      <td>0.891</td>\n      <td>0.876</td>\n      <td>0.876</td>\n      <td>0.881</td>\n    </tr>\n    <tr>\n      <th>16</th>\n      <td>Trace</td>\n      <td>0.714</td>\n      <td>0.755</td>\n      <td>0.909</td>\n      <td>0.964</td>\n      <td>0.652</td>\n      <td>0.643</td>\n      <td>0.643</td>\n      <td>0.643</td>\n      <td>0.643</td>\n      <td>0.643</td>\n    </tr>\n    <tr>\n      <th>17</th>\n      <td>UWaveGestureLibraryY</td>\n      <td>0.667</td>\n      <td>0.601</td>\n      <td>0.910</td>\n      <td>0.779</td>\n      <td>0.774</td>\n      <td>0.774</td>\n      <td>0.587</td>\n      <td>0.587</td>\n      <td>0.587</td>\n      <td>0.587</td>\n    </tr>\n    <tr>\n      <th>18</th>\n      <td>UWaveGestureLibraryZ</td>\n      <td>0.823</td>\n      <td>0.906</td>\n      <td>0.781</td>\n      <td>0.781</td>\n      <td>0.779</td>\n      <td>0.802</td>\n      <td>0.579</td>\n      <td>0.402</td>\n      <td>0.402</td>\n      <td>0.401</td>\n    </tr>\n    <tr>\n      <th>19</th>\n      <td>WordSynonyms</td>\n      <td>0.389</td>\n      <td>0.286</td>\n      <td>0.373</td>\n      <td>0.727</td>\n      <td>0.727</td>\n      <td>0.727</td>\n      <td>0.727</td>\n      <td>0.727</td>\n      <td>0.727</td>\n      <td>0.727</td>\n    </tr>\n    <tr>\n      <th>20</th>\n      <td>Yoga</td>\n      <td>0.484</td>\n      <td>0.955</td>\n      <td>0.995</td>\n      <td>0.504</td>\n      <td>0.504</td>\n      <td>0.504</td>\n      <td>0.504</td>\n      <td>0.504</td>\n      <td>0.504</td>\n      <td>0.504</td>\n    </tr>\n  </tbody>\n</table>\n</div>"
     },
     "execution_count": 4,
     "metadata": {},
     "output_type": "execute_result"
    }
   ],
   "source": [
    "p_values = (1e-10, 1e-20, 1e-30, 1e-40, 1e-50, 1e-60, 1e-70, 1e-80, 1e-90, 1e-100)\n",
    "methods = list()\n",
    "\n",
    "for p_value in p_values:\n",
    "    candidate_name = f\"{p_value}-p_value\"\n",
    "    methods.append((candidate_name, f\"{candidate_name}.csv\"))\n",
    "\n",
    "for idx, (name, file_name) in enumerate(methods):\n",
    "    methods[idx] = name, pd.read_csv(f\"../../experiments/p_value/{file_name}\")\n",
    "\n",
    "df_scores = pd.DataFrame()\n",
    "\n",
    "for name, df in methods:\n",
    "    df_scores[\"dataset\"] = df.dataset\n",
    "    df_scores[name] = df[eval_score]\n",
    "\n",
    "df_scores"
   ]
  },
  {
   "cell_type": "markdown",
   "metadata": {},
   "source": [
    "Let's calculate the mean/std score."
   ]
  },
  {
   "cell_type": "code",
   "execution_count": 5,
   "metadata": {},
   "outputs": [
    {
     "name": "stderr",
     "output_type": "stream",
     "text": [
      "/var/folders/5_/fv_bzq1n4n76j6l_jqgndj6c0000gn/T/ipykernel_3942/3088260556.py:1: FutureWarning: Dropping of nuisance columns in DataFrame reductions (with 'numeric_only=None') is deprecated; in a future version this will raise TypeError.  Select only valid columns before calling the reduction.\n",
      "  df_scores.mean(axis=0).round(3)\n"
     ]
    },
    {
     "data": {
      "text/plain": "1e-10-p_value     0.542\n1e-20-p_value     0.664\n1e-30-p_value     0.731\n1e-40-p_value     0.729\n1e-50-p_value     0.791\n1e-60-p_value     0.759\n1e-70-p_value     0.743\n1e-80-p_value     0.755\n1e-90-p_value     0.731\n1e-100-p_value    0.718\ndtype: float64"
     },
     "execution_count": 5,
     "metadata": {},
     "output_type": "execute_result"
    }
   ],
   "source": [
    "df_scores.mean(axis=0).round(3)"
   ]
  },
  {
   "cell_type": "code",
   "execution_count": 6,
   "metadata": {},
   "outputs": [
    {
     "name": "stderr",
     "output_type": "stream",
     "text": [
      "/var/folders/5_/fv_bzq1n4n76j6l_jqgndj6c0000gn/T/ipykernel_3942/2527189798.py:1: FutureWarning: Dropping of nuisance columns in DataFrame reductions (with 'numeric_only=None') is deprecated; in a future version this will raise TypeError.  Select only valid columns before calling the reduction.\n",
      "  df_scores.std(axis=0).round(3)\n"
     ]
    },
    {
     "data": {
      "text/plain": "1e-10-p_value     0.212\n1e-20-p_value     0.193\n1e-30-p_value     0.180\n1e-40-p_value     0.175\n1e-50-p_value     0.156\n1e-60-p_value     0.176\n1e-70-p_value     0.190\n1e-80-p_value     0.207\n1e-90-p_value     0.218\n1e-100-p_value    0.219\ndtype: float64"
     },
     "execution_count": 6,
     "metadata": {},
     "output_type": "execute_result"
    }
   ],
   "source": [
    "df_scores.std(axis=0).round(3)"
   ]
  },
  {
   "cell_type": "markdown",
   "metadata": {},
   "source": [
    "Let's compute the wins per method."
   ]
  },
  {
   "cell_type": "code",
   "execution_count": 7,
   "metadata": {},
   "outputs": [],
   "source": [
    "ranks = df_scores.rank(1, method='min', ascending=False)\n",
    "means = np.array(ranks.mean(axis=0))"
   ]
  },
  {
   "cell_type": "code",
   "execution_count": 8,
   "metadata": {
    "scrolled": true
   },
   "outputs": [
    {
     "name": "stdout",
     "output_type": "stream",
     "text": [
      "1e-10-p_value:wins=1 rank=7.95238\n",
      "1e-20-p_value:wins=3 rank=6.57143\n",
      "1e-30-p_value:wins=3 rank=5.33333\n",
      "1e-40-p_value:wins=5 rank=4.14286\n",
      "1e-50-p_value:wins=7 rank=3.47619\n",
      "1e-60-p_value:wins=6 rank=3.42857\n",
      "1e-70-p_value:wins=7 rank=3.38095\n",
      "1e-80-p_value:wins=7 rank=3.04762\n",
      "1e-90-p_value:wins=10 rank=3.09524\n",
      "1e-100-p_value:wins=8 rank=3.80952\n"
     ]
    }
   ],
   "source": [
    "for mean, name in zip(means, df_scores.columns[1:]):\n",
    "    print(f\"{name}:wins={ranks[ranks[name] == 1].shape[0]} rank={np.round(mean, 5)}\")"
   ]
  },
  {
   "cell_type": "markdown",
   "metadata": {},
   "source": [
    "Let's plot and output the ranks."
   ]
  },
  {
   "cell_type": "code",
   "execution_count": 9,
   "metadata": {},
   "outputs": [
    {
     "data": {
      "text/plain": "<Figure size 360x169.2 with 1 Axes>",
      "image/png": "[encoded data removed]"
     },
     "metadata": {},
     "output_type": "display_data"
    }
   ],
   "source": [
    "cd = Orange.evaluation.scoring.compute_CD(means, df_scores.shape[0])\n",
    "Orange.evaluation.scoring.graph_ranks(means, df_scores.columns[1:], cd=cd, reverse=True, width=5,\n",
    "                                      filename=\"../../figures/cd_ablation_p_value.pdf\")"
   ]
  },
  {
   "cell_type": "markdown",
   "metadata": {},
   "source": [
    "Let's compute pairwise wins/losses."
   ]
  },
  {
   "cell_type": "code",
   "execution_count": 10,
   "metadata": {},
   "outputs": [
    {
     "name": "stdout",
     "output_type": "stream",
     "text": [
      "1e-50-p_value vs 1e-10-p_value: (wins/ties/losses): 17/1/3\n",
      "1e-50-p_value vs 1e-20-p_value: (wins/ties/losses): 16/1/4\n",
      "1e-50-p_value vs 1e-30-p_value: (wins/ties/losses): 13/1/7\n",
      "1e-50-p_value vs 1e-40-p_value: (wins/ties/losses): 10/7/4\n",
      "1e-50-p_value vs 1e-60-p_value: (wins/ties/losses): 5/11/5\n",
      "1e-50-p_value vs 1e-70-p_value: (wins/ties/losses): 7/8/6\n",
      "1e-50-p_value vs 1e-80-p_value: (wins/ties/losses): 6/7/8\n",
      "1e-50-p_value vs 1e-90-p_value: (wins/ties/losses): 7/6/8\n",
      "1e-50-p_value vs 1e-100-p_value: (wins/ties/losses): 8/6/7\n"
     ]
    }
   ],
   "source": [
    "selection = \"1e-50-p_value\"\n",
    "\n",
    "for rival in df_scores.columns[1:]:\n",
    "    if rival == selection: continue\n",
    "\n",
    "    df_pair = df_scores[[selection, rival]]\n",
    "    pair_ranks = df_pair.rank(1, method='min', ascending=False)\n",
    "\n",
    "    wins = pair_ranks[(pair_ranks[selection] == 1) & (pair_ranks[rival] == 2)].shape[0]\n",
    "    losses = pair_ranks[(pair_ranks[selection] == 2) & (pair_ranks[rival] == 1)].shape[0]\n",
    "    ties = pair_ranks[(pair_ranks[selection] == 1) & (pair_ranks[rival] == 1)].shape[0]\n",
    "\n",
    "    assert wins + losses + ties == pair_ranks.shape[0]\n",
    "\n",
    "    print(f\"{selection} vs {rival}: (wins/ties/losses): {wins}/{ties}/{losses}\")"
   ]
  },
  {
   "cell_type": "code",
   "execution_count": 11,
   "metadata": {
    "pycharm": {
     "name": "#%%\n"
    }
   },
   "outputs": [
    {
     "name": "stderr",
     "output_type": "stream",
     "text": [
      "/var/folders/5_/fv_bzq1n4n76j6l_jqgndj6c0000gn/T/ipykernel_3942/1551422612.py:8: MatplotlibDeprecationWarning: The label function was deprecated in Matplotlib 3.1 and will be removed in 3.8. Use Tick.label1 instead.\n",
      "  tick.label.set_fontsize(fontsize)\n",
      "/var/folders/5_/fv_bzq1n4n76j6l_jqgndj6c0000gn/T/ipykernel_3942/1551422612.py:11: MatplotlibDeprecationWarning: The label function was deprecated in Matplotlib 3.1 and will be removed in 3.8. Use Tick.label1 instead.\n",
      "  tick.label.set_fontsize(fontsize)\n"
     ]
    },
    {
     "data": {
      "text/plain": "<Figure size 720x720 with 1 Axes>",
      "image/png": "[encoded data removed]"
     },
     "metadata": {
      "needs_background": "light"
     },
     "output_type": "display_data"
    }
   ],
   "source": [
    "fontsize = 18\n",
    "_, ax = plt.subplots(figsize=(10, 10))\n",
    "\n",
    "df_scores.boxplot(ax=ax, rot=90)\n",
    "ax.set_ylabel(eval_score, fontsize=fontsize)\n",
    "\n",
    "for tick in ax.xaxis.get_major_ticks():\n",
    "    tick.label.set_fontsize(fontsize)\n",
    "\n",
    "for tick in ax.yaxis.get_major_ticks():\n",
    "    tick.label.set_fontsize(fontsize)\n",
    "\n",
    "plt.savefig(\"../../figures/bp_ablation_p_value.pdf\", bbox_inches=\"tight\")"
   ]
  }
 ],
 "metadata": {
  "kernelspec": {
   "display_name": "Python 3 (ipykernel)",
   "language": "python",
   "name": "python3"
  },
  "language_info": {
   "codemirror_mode": {
    "name": "ipython",
    "version": 3
   },
   "file_extension": ".py",
   "mimetype": "text/x-python",
   "name": "python",
   "nbconvert_exporter": "python",
   "pygments_lexer": "ipython3",
   "version": "3.8.12"
  }
 },
 "nbformat": 4,
 "nbformat_minor": 4
}