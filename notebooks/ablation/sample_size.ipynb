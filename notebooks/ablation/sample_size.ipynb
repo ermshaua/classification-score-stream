{
 "cells": [
  {
   "cell_type": "markdown",
   "metadata": {},
   "source": [
    "# Comparative Analysis\n",
    "In this notebook, we compare ClaSS with different parameter settings."
   ]
  },
  {
   "cell_type": "code",
   "execution_count": 1,
   "metadata": {},
   "outputs": [],
   "source": [
    "import matplotlib\n",
    "\n",
    "matplotlib.rcParams['pdf.fonttype'] = 42\n",
    "matplotlib.rcParams['ps.fonttype'] = 42"
   ]
  },
  {
   "cell_type": "code",
   "execution_count": 2,
   "metadata": {},
   "outputs": [],
   "source": [
    "import numpy as np\n",
    "import pandas as pd\n",
    "import daproli as dp\n",
    "\n",
    "import pandas as pd\n",
    "pd.set_option('display.max_rows', None)\n",
    "\n",
    "import matplotlib.pyplot as plt\n",
    "import seaborn as sns\n",
    "\n",
    "sns.set_theme()\n",
    "sns.set_color_codes()\n",
    "\n",
    "import Orange\n",
    "import sys\n",
    "sys.path.append(\"../../\")\n",
    "\n",
    "from tqdm import tqdm"
   ]
  },
  {
   "cell_type": "markdown",
   "metadata": {},
   "source": [
    "Let's choose a score for evaluation (F1 or Covering)."
   ]
  },
  {
   "cell_type": "code",
   "execution_count": 3,
   "metadata": {},
   "outputs": [],
   "source": [
    "eval_score = \"covering_score\""
   ]
  },
  {
   "cell_type": "markdown",
   "metadata": {},
   "source": [
    "Let's load the scores from the different methods."
   ]
  },
  {
   "cell_type": "code",
   "execution_count": 4,
   "metadata": {},
   "outputs": [
    {
     "data": {
      "text/html": [
       "<div>\n",
       "<style scoped>\n",
       "    .dataframe tbody tr th:only-of-type {\n",
       "        vertical-align: middle;\n",
       "    }\n",
       "\n",
       "    .dataframe tbody tr th {\n",
       "        vertical-align: top;\n",
       "    }\n",
       "\n",
       "    .dataframe thead th {\n",
       "        text-align: right;\n",
       "    }\n",
       "</style>\n",
       "<table border=\"1\" class=\"dataframe\">\n",
       "  <thead>\n",
       "    <tr style=\"text-align: right;\">\n",
       "      <th></th>\n",
       "      <th>dataset</th>\n",
       "      <th>None-sample_size</th>\n",
       "      <th>10-sample_size</th>\n",
       "      <th>100-sample_size</th>\n",
       "      <th>1000-sample_size</th>\n",
       "      <th>10000-sample_size</th>\n",
       "    </tr>\n",
       "  </thead>\n",
       "  <tbody>\n",
       "    <tr>\n",
       "      <th>0</th>\n",
       "      <td>DodgerLoopDay</td>\n",
       "      <td>1.000</td>\n",
       "      <td>1.000</td>\n",
       "      <td>1.000</td>\n",
       "      <td>1.000</td>\n",
       "      <td>0.758</td>\n",
       "    </tr>\n",
       "    <tr>\n",
       "      <th>1</th>\n",
       "      <td>EEGRat</td>\n",
       "      <td>0.885</td>\n",
       "      <td>0.500</td>\n",
       "      <td>0.500</td>\n",
       "      <td>0.885</td>\n",
       "      <td>0.654</td>\n",
       "    </tr>\n",
       "    <tr>\n",
       "      <th>2</th>\n",
       "      <td>EEGRat2</td>\n",
       "      <td>0.848</td>\n",
       "      <td>0.500</td>\n",
       "      <td>0.500</td>\n",
       "      <td>0.739</td>\n",
       "      <td>0.475</td>\n",
       "    </tr>\n",
       "    <tr>\n",
       "      <th>3</th>\n",
       "      <td>FaceFour</td>\n",
       "      <td>0.898</td>\n",
       "      <td>0.281</td>\n",
       "      <td>0.281</td>\n",
       "      <td>0.741</td>\n",
       "      <td>0.384</td>\n",
       "    </tr>\n",
       "    <tr>\n",
       "      <th>4</th>\n",
       "      <td>GrandMalSeizures2</td>\n",
       "      <td>0.411</td>\n",
       "      <td>0.508</td>\n",
       "      <td>0.508</td>\n",
       "      <td>0.761</td>\n",
       "      <td>0.300</td>\n",
       "    </tr>\n",
       "    <tr>\n",
       "      <th>5</th>\n",
       "      <td>GreatBarbet1</td>\n",
       "      <td>0.877</td>\n",
       "      <td>0.355</td>\n",
       "      <td>0.355</td>\n",
       "      <td>0.877</td>\n",
       "      <td>0.319</td>\n",
       "    </tr>\n",
       "    <tr>\n",
       "      <th>6</th>\n",
       "      <td>Herring</td>\n",
       "      <td>1.000</td>\n",
       "      <td>1.000</td>\n",
       "      <td>1.000</td>\n",
       "      <td>1.000</td>\n",
       "      <td>0.128</td>\n",
       "    </tr>\n",
       "    <tr>\n",
       "      <th>7</th>\n",
       "      <td>InlineSkate</td>\n",
       "      <td>0.686</td>\n",
       "      <td>0.358</td>\n",
       "      <td>0.358</td>\n",
       "      <td>0.358</td>\n",
       "      <td>0.598</td>\n",
       "    </tr>\n",
       "    <tr>\n",
       "      <th>8</th>\n",
       "      <td>InsectEPG1</td>\n",
       "      <td>0.287</td>\n",
       "      <td>0.653</td>\n",
       "      <td>0.653</td>\n",
       "      <td>0.751</td>\n",
       "      <td>0.124</td>\n",
       "    </tr>\n",
       "    <tr>\n",
       "      <th>9</th>\n",
       "      <td>MelbournePedestrian</td>\n",
       "      <td>0.987</td>\n",
       "      <td>0.149</td>\n",
       "      <td>0.149</td>\n",
       "      <td>0.943</td>\n",
       "      <td>0.443</td>\n",
       "    </tr>\n",
       "    <tr>\n",
       "      <th>10</th>\n",
       "      <td>NogunGun</td>\n",
       "      <td>0.489</td>\n",
       "      <td>0.518</td>\n",
       "      <td>0.518</td>\n",
       "      <td>0.802</td>\n",
       "      <td>0.339</td>\n",
       "    </tr>\n",
       "    <tr>\n",
       "      <th>11</th>\n",
       "      <td>NonInvasiveFetalECGThorax1</td>\n",
       "      <td>0.812</td>\n",
       "      <td>0.169</td>\n",
       "      <td>0.169</td>\n",
       "      <td>0.791</td>\n",
       "      <td>0.339</td>\n",
       "    </tr>\n",
       "    <tr>\n",
       "      <th>12</th>\n",
       "      <td>ShapesAll</td>\n",
       "      <td>0.962</td>\n",
       "      <td>0.200</td>\n",
       "      <td>0.200</td>\n",
       "      <td>0.962</td>\n",
       "      <td>0.454</td>\n",
       "    </tr>\n",
       "    <tr>\n",
       "      <th>13</th>\n",
       "      <td>TiltECG</td>\n",
       "      <td>0.264</td>\n",
       "      <td>0.531</td>\n",
       "      <td>0.531</td>\n",
       "      <td>0.916</td>\n",
       "      <td>0.184</td>\n",
       "    </tr>\n",
       "    <tr>\n",
       "      <th>14</th>\n",
       "      <td>ToeSegmentation1</td>\n",
       "      <td>0.878</td>\n",
       "      <td>0.500</td>\n",
       "      <td>0.500</td>\n",
       "      <td>0.761</td>\n",
       "      <td>0.312</td>\n",
       "    </tr>\n",
       "    <tr>\n",
       "      <th>15</th>\n",
       "      <td>ToeSegmentation2</td>\n",
       "      <td>0.891</td>\n",
       "      <td>0.500</td>\n",
       "      <td>0.500</td>\n",
       "      <td>0.891</td>\n",
       "      <td>0.401</td>\n",
       "    </tr>\n",
       "    <tr>\n",
       "      <th>16</th>\n",
       "      <td>Trace</td>\n",
       "      <td>0.966</td>\n",
       "      <td>0.344</td>\n",
       "      <td>0.344</td>\n",
       "      <td>0.652</td>\n",
       "      <td>0.501</td>\n",
       "    </tr>\n",
       "    <tr>\n",
       "      <th>17</th>\n",
       "      <td>UWaveGestureLibraryY</td>\n",
       "      <td>0.932</td>\n",
       "      <td>0.201</td>\n",
       "      <td>0.201</td>\n",
       "      <td>0.774</td>\n",
       "      <td>0.584</td>\n",
       "    </tr>\n",
       "    <tr>\n",
       "      <th>18</th>\n",
       "      <td>UWaveGestureLibraryZ</td>\n",
       "      <td>0.795</td>\n",
       "      <td>0.201</td>\n",
       "      <td>0.201</td>\n",
       "      <td>0.779</td>\n",
       "      <td>0.484</td>\n",
       "    </tr>\n",
       "    <tr>\n",
       "      <th>19</th>\n",
       "      <td>WordSynonyms</td>\n",
       "      <td>0.727</td>\n",
       "      <td>0.727</td>\n",
       "      <td>0.727</td>\n",
       "      <td>0.727</td>\n",
       "      <td>0.297</td>\n",
       "    </tr>\n",
       "    <tr>\n",
       "      <th>20</th>\n",
       "      <td>Yoga</td>\n",
       "      <td>0.875</td>\n",
       "      <td>0.504</td>\n",
       "      <td>0.504</td>\n",
       "      <td>0.504</td>\n",
       "      <td>0.465</td>\n",
       "    </tr>\n",
       "  </tbody>\n",
       "</table>\n",
       "</div>"
      ],
      "text/plain": [
       "                       dataset  None-sample_size  10-sample_size  \\\n",
       "0                DodgerLoopDay             1.000           1.000   \n",
       "1                       EEGRat             0.885           0.500   \n",
       "2                      EEGRat2             0.848           0.500   \n",
       "3                     FaceFour             0.898           0.281   \n",
       "4            GrandMalSeizures2             0.411           0.508   \n",
       "5                 GreatBarbet1             0.877           0.355   \n",
       "6                      Herring             1.000           1.000   \n",
       "7                  InlineSkate             0.686           0.358   \n",
       "8                   InsectEPG1             0.287           0.653   \n",
       "9          MelbournePedestrian             0.987           0.149   \n",
       "10                    NogunGun             0.489           0.518   \n",
       "11  NonInvasiveFetalECGThorax1             0.812           0.169   \n",
       "12                   ShapesAll             0.962           0.200   \n",
       "13                     TiltECG             0.264           0.531   \n",
       "14            ToeSegmentation1             0.878           0.500   \n",
       "15            ToeSegmentation2             0.891           0.500   \n",
       "16                       Trace             0.966           0.344   \n",
       "17        UWaveGestureLibraryY             0.932           0.201   \n",
       "18        UWaveGestureLibraryZ             0.795           0.201   \n",
       "19                WordSynonyms             0.727           0.727   \n",
       "20                        Yoga             0.875           0.504   \n",
       "\n",
       "    100-sample_size  1000-sample_size  10000-sample_size  \n",
       "0             1.000             1.000              0.758  \n",
       "1             0.500             0.885              0.654  \n",
       "2             0.500             0.739              0.475  \n",
       "3             0.281             0.741              0.384  \n",
       "4             0.508             0.761              0.300  \n",
       "5             0.355             0.877              0.319  \n",
       "6             1.000             1.000              0.128  \n",
       "7             0.358             0.358              0.598  \n",
       "8             0.653             0.751              0.124  \n",
       "9             0.149             0.943              0.443  \n",
       "10            0.518             0.802              0.339  \n",
       "11            0.169             0.791              0.339  \n",
       "12            0.200             0.962              0.454  \n",
       "13            0.531             0.916              0.184  \n",
       "14            0.500             0.761              0.312  \n",
       "15            0.500             0.891              0.401  \n",
       "16            0.344             0.652              0.501  \n",
       "17            0.201             0.774              0.584  \n",
       "18            0.201             0.779              0.484  \n",
       "19            0.727             0.727              0.297  \n",
       "20            0.504             0.504              0.465  "
      ]
     },
     "execution_count": 4,
     "metadata": {},
     "output_type": "execute_result"
    }
   ],
   "source": [
    "sample_sizes = (\"None\", 10, 100, 1_000, 10_000)\n",
    "methods = list()\n",
    "\n",
    "for sample_size in sample_sizes:\n",
    "    candidate_name = f\"{sample_size}-sample_size\"\n",
    "    methods.append((candidate_name, f\"{candidate_name}.csv\"))\n",
    "\n",
    "for idx, (name, file_name) in enumerate(methods):\n",
    "    methods[idx] = name, pd.read_csv(f\"../../experiments/sample_size/{file_name}\")\n",
    "    \n",
    "df_scores = pd.DataFrame()\n",
    "\n",
    "for name, df in methods:\n",
    "    df_scores[\"dataset\"] = df.dataset\n",
    "    df_scores[name] = df[eval_score]\n",
    "    \n",
    "df_scores"
   ]
  },
  {
   "cell_type": "markdown",
   "metadata": {},
   "source": [
    "Let's calculate the mean/std score."
   ]
  },
  {
   "cell_type": "code",
   "execution_count": 5,
   "metadata": {},
   "outputs": [
    {
     "name": "stderr",
     "output_type": "stream",
     "text": [
      "/var/folders/5_/fv_bzq1n4n76j6l_jqgndj6c0000gn/T/ipykernel_2448/2219294936.py:1: FutureWarning: Dropping of nuisance columns in DataFrame reductions (with 'numeric_only=None') is deprecated; in a future version this will raise TypeError.  Select only valid columns before calling the reduction.\n",
      "  df_scores.mean(axis=0).round(3)\n"
     ]
    },
    {
     "data": {
      "text/plain": [
       "None-sample_size     0.784\n",
       "10-sample_size       0.462\n",
       "100-sample_size      0.462\n",
       "1000-sample_size     0.791\n",
       "10000-sample_size    0.407\n",
       "dtype: float64"
      ]
     },
     "execution_count": 5,
     "metadata": {},
     "output_type": "execute_result"
    }
   ],
   "source": [
    "df_scores.mean(axis=0).round(3)"
   ]
  },
  {
   "cell_type": "code",
   "execution_count": 6,
   "metadata": {},
   "outputs": [
    {
     "name": "stderr",
     "output_type": "stream",
     "text": [
      "/var/folders/5_/fv_bzq1n4n76j6l_jqgndj6c0000gn/T/ipykernel_2448/1084607075.py:1: FutureWarning: Dropping of nuisance columns in DataFrame reductions (with 'numeric_only=None') is deprecated; in a future version this will raise TypeError.  Select only valid columns before calling the reduction.\n",
      "  df_scores.std(axis=0).round(3)\n"
     ]
    },
    {
     "data": {
      "text/plain": [
       "None-sample_size     0.228\n",
       "10-sample_size       0.241\n",
       "100-sample_size      0.241\n",
       "1000-sample_size     0.156\n",
       "10000-sample_size    0.164\n",
       "dtype: float64"
      ]
     },
     "execution_count": 6,
     "metadata": {},
     "output_type": "execute_result"
    }
   ],
   "source": [
    "df_scores.std(axis=0).round(3)"
   ]
  },
  {
   "cell_type": "markdown",
   "metadata": {},
   "source": [
    "Let's compute the wins per method."
   ]
  },
  {
   "cell_type": "code",
   "execution_count": 7,
   "metadata": {},
   "outputs": [],
   "source": [
    "ranks = df_scores.rank(1, method = 'min', ascending=False)\n",
    "means = np.array(ranks.mean(axis=0))"
   ]
  },
  {
   "cell_type": "code",
   "execution_count": 8,
   "metadata": {
    "scrolled": true
   },
   "outputs": [
    {
     "name": "stdout",
     "output_type": "stream",
     "text": [
      "None-sample_size:wins=17 rank=1.57143\n",
      "10-sample_size:wins=3 rank=2.85714\n",
      "100-sample_size:wins=3 rank=2.85714\n",
      "1000-sample_size:wins=11 rank=1.52381\n",
      "10000-sample_size:wins=0 rank=4.09524\n"
     ]
    }
   ],
   "source": [
    "for mean, name in zip(means, df_scores.columns[1:]):\n",
    "    print(f\"{name}:wins={ranks[ranks[name] == 1].shape[0]} rank={np.round(mean, 5)}\")"
   ]
  },
  {
   "cell_type": "markdown",
   "metadata": {},
   "source": [
    "Let's plot and output the ranks."
   ]
  },
  {
   "cell_type": "code",
   "execution_count": 9,
   "metadata": {},
   "outputs": [
    {
     "data": {
      "image/png": "[encoded data removed]",
      "text/plain": [
       "<Figure size 360x133.2 with 1 Axes>"
      ]
     },
     "metadata": {},
     "output_type": "display_data"
    }
   ],
   "source": [
    "cd = Orange.evaluation.scoring.compute_CD(means, df_scores.shape[0])\n",
    "Orange.evaluation.scoring.graph_ranks(means, df_scores.columns[1:], cd=cd, reverse=True, width=5, filename=\"../../figures/cd_ablation_sample_size.pdf\")"
   ]
  },
  {
   "cell_type": "markdown",
   "metadata": {},
   "source": [
    "Let's compute wins/losses against ClaSP."
   ]
  },
  {
   "cell_type": "code",
   "execution_count": 10,
   "metadata": {},
   "outputs": [
    {
     "name": "stdout",
     "output_type": "stream",
     "text": [
      "1000-sample_size vs None-sample_size: (wins/ties/losses): 4/7/10\n",
      "1000-sample_size vs 10-sample_size: (wins/ties/losses): 16/5/0\n",
      "1000-sample_size vs 100-sample_size: (wins/ties/losses): 16/5/0\n",
      "1000-sample_size vs 10000-sample_size: (wins/ties/losses): 20/0/1\n"
     ]
    }
   ],
   "source": [
    "selection = \"1000-sample_size\"\n",
    "\n",
    "for rival in df_scores.columns[1:]:\n",
    "    if rival == selection: continue\n",
    "    \n",
    "    df_pair = df_scores[[selection, rival]]\n",
    "    pair_ranks = df_pair.rank(1, method = 'min', ascending=False)\n",
    "    \n",
    "    wins = pair_ranks[(pair_ranks[selection] == 1) & (pair_ranks[rival] == 2)].shape[0]\n",
    "    losses = pair_ranks[(pair_ranks[selection] == 2) & (pair_ranks[rival] == 1)].shape[0]\n",
    "    ties = pair_ranks[(pair_ranks[selection] == 1) & (pair_ranks[rival] == 1)].shape[0]\n",
    "    \n",
    "    assert wins + losses + ties == pair_ranks.shape[0]\n",
    "    \n",
    "    print(f\"{selection} vs {rival}: (wins/ties/losses): {wins}/{ties}/{losses}\")"
   ]
  },
  {
   "cell_type": "code",
   "execution_count": 11,
   "metadata": {},
   "outputs": [
    {
     "data": {
      "image/png": "[encoded data removed]",
      "text/plain": [
       "<Figure size 720x720 with 1 Axes>"
      ]
     },
     "metadata": {},
     "output_type": "display_data"
    }
   ],
   "source": [
    "fontsize = 18\n",
    "_, ax = plt.subplots(figsize=(10,10))\n",
    "\n",
    "df_scores.boxplot(ax=ax, rot=90)\n",
    "ax.set_ylabel(eval_score, fontsize=fontsize)\n",
    "\n",
    "for tick in ax.xaxis.get_major_ticks():\n",
    "    tick.label.set_fontsize(fontsize)\n",
    "\n",
    "for tick in ax.yaxis.get_major_ticks():\n",
    "    tick.label.set_fontsize(fontsize)\n",
    "    \n",
    "plt.savefig(\"../../figures/bp_ablation_sample_size.pdf\", bbox_inches=\"tight\") "
   ]
  },
  {
   "cell_type": "code",
   "execution_count": null,
   "metadata": {},
   "outputs": [],
   "source": []
  }
 ],
 "metadata": {
  "kernelspec": {
   "display_name": "Python 3 (ipykernel)",
   "language": "python",
   "name": "python3"
  },
  "language_info": {
   "codemirror_mode": {
    "name": "ipython",
    "version": 3
   },
   "file_extension": ".py",
   "mimetype": "text/x-python",
   "name": "python",
   "nbconvert_exporter": "python",
   "pygments_lexer": "ipython3",
   "version": "3.8.12"
  }
 },
 "nbformat": 4,
 "nbformat_minor": 4
}
