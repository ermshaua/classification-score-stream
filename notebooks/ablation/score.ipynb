{
 "cells": [
  {
   "cell_type": "markdown",
   "metadata": {},
   "source": [
    "# Comparative Analysis\n",
    "In this notebook, we compare ClaSS with different parameter settings."
   ]
  },
  {
   "cell_type": "code",
   "execution_count": 1,
   "metadata": {},
   "outputs": [],
   "source": [
    "import matplotlib\n",
    "\n",
    "matplotlib.rcParams['pdf.fonttype'] = 42\n",
    "matplotlib.rcParams['ps.fonttype'] = 42"
   ]
  },
  {
   "cell_type": "code",
   "execution_count": 2,
   "metadata": {},
   "outputs": [],
   "source": [
    "import numpy as np\n",
    "\n",
    "import pandas as pd\n",
    "\n",
    "pd.set_option('display.max_rows', None)\n",
    "\n",
    "import matplotlib.pyplot as plt\n",
    "import seaborn as sns\n",
    "\n",
    "sns.set_theme()\n",
    "sns.set_color_codes()\n",
    "\n",
    "import Orange\n",
    "import sys\n",
    "\n",
    "sys.path.append(\"../../\")"
   ]
  },
  {
   "cell_type": "markdown",
   "metadata": {},
   "source": [
    "Let's choose a score for evaluation (F1 or Covering)."
   ]
  },
  {
   "cell_type": "code",
   "execution_count": 3,
   "metadata": {},
   "outputs": [],
   "source": [
    "eval_score = \"covering_score\""
   ]
  },
  {
   "cell_type": "markdown",
   "metadata": {},
   "source": [
    "Let's load the scores from the different methods."
   ]
  },
  {
   "cell_type": "code",
   "execution_count": 4,
   "metadata": {},
   "outputs": [
    {
     "data": {
      "text/plain": "                       dataset     F1  Accuracy\n0                DodgerLoopDay  1.000     1.000\n1                       EEGRat  0.885     0.885\n2                      EEGRat2  0.739     0.630\n3                     FaceFour  0.741     0.746\n4            GrandMalSeizures2  0.761     0.878\n5                 GreatBarbet1  0.877     0.991\n6                      Herring  1.000     1.000\n7                  InlineSkate  0.358     0.358\n8                   InsectEPG1  0.751     0.996\n9          MelbournePedestrian  0.943     0.943\n10                    NogunGun  0.802     0.802\n11  NonInvasiveFetalECGThorax1  0.791     0.661\n12                   ShapesAll  0.962     0.891\n13                     TiltECG  0.916     0.531\n14            ToeSegmentation1  0.761     0.477\n15            ToeSegmentation2  0.891     0.891\n16                       Trace  0.652     0.643\n17        UWaveGestureLibraryY  0.774     0.587\n18        UWaveGestureLibraryZ  0.779     0.582\n19                WordSynonyms  0.727     0.727\n20                        Yoga  0.504     0.504",
      "text/html": "<div>\n<style scoped>\n    .dataframe tbody tr th:only-of-type {\n        vertical-align: middle;\n    }\n\n    .dataframe tbody tr th {\n        vertical-align: top;\n    }\n\n    .dataframe thead th {\n        text-align: right;\n    }\n</style>\n<table border=\"1\" class=\"dataframe\">\n  <thead>\n    <tr style=\"text-align: right;\">\n      <th></th>\n      <th>dataset</th>\n      <th>F1</th>\n      <th>Accuracy</th>\n    </tr>\n  </thead>\n  <tbody>\n    <tr>\n      <th>0</th>\n      <td>DodgerLoopDay</td>\n      <td>1.000</td>\n      <td>1.000</td>\n    </tr>\n    <tr>\n      <th>1</th>\n      <td>EEGRat</td>\n      <td>0.885</td>\n      <td>0.885</td>\n    </tr>\n    <tr>\n      <th>2</th>\n      <td>EEGRat2</td>\n      <td>0.739</td>\n      <td>0.630</td>\n    </tr>\n    <tr>\n      <th>3</th>\n      <td>FaceFour</td>\n      <td>0.741</td>\n      <td>0.746</td>\n    </tr>\n    <tr>\n      <th>4</th>\n      <td>GrandMalSeizures2</td>\n      <td>0.761</td>\n      <td>0.878</td>\n    </tr>\n    <tr>\n      <th>5</th>\n      <td>GreatBarbet1</td>\n      <td>0.877</td>\n      <td>0.991</td>\n    </tr>\n    <tr>\n      <th>6</th>\n      <td>Herring</td>\n      <td>1.000</td>\n      <td>1.000</td>\n    </tr>\n    <tr>\n      <th>7</th>\n      <td>InlineSkate</td>\n      <td>0.358</td>\n      <td>0.358</td>\n    </tr>\n    <tr>\n      <th>8</th>\n      <td>InsectEPG1</td>\n      <td>0.751</td>\n      <td>0.996</td>\n    </tr>\n    <tr>\n      <th>9</th>\n      <td>MelbournePedestrian</td>\n      <td>0.943</td>\n      <td>0.943</td>\n    </tr>\n    <tr>\n      <th>10</th>\n      <td>NogunGun</td>\n      <td>0.802</td>\n      <td>0.802</td>\n    </tr>\n    <tr>\n      <th>11</th>\n      <td>NonInvasiveFetalECGThorax1</td>\n      <td>0.791</td>\n      <td>0.661</td>\n    </tr>\n    <tr>\n      <th>12</th>\n      <td>ShapesAll</td>\n      <td>0.962</td>\n      <td>0.891</td>\n    </tr>\n    <tr>\n      <th>13</th>\n      <td>TiltECG</td>\n      <td>0.916</td>\n      <td>0.531</td>\n    </tr>\n    <tr>\n      <th>14</th>\n      <td>ToeSegmentation1</td>\n      <td>0.761</td>\n      <td>0.477</td>\n    </tr>\n    <tr>\n      <th>15</th>\n      <td>ToeSegmentation2</td>\n      <td>0.891</td>\n      <td>0.891</td>\n    </tr>\n    <tr>\n      <th>16</th>\n      <td>Trace</td>\n      <td>0.652</td>\n      <td>0.643</td>\n    </tr>\n    <tr>\n      <th>17</th>\n      <td>UWaveGestureLibraryY</td>\n      <td>0.774</td>\n      <td>0.587</td>\n    </tr>\n    <tr>\n      <th>18</th>\n      <td>UWaveGestureLibraryZ</td>\n      <td>0.779</td>\n      <td>0.582</td>\n    </tr>\n    <tr>\n      <th>19</th>\n      <td>WordSynonyms</td>\n      <td>0.727</td>\n      <td>0.727</td>\n    </tr>\n    <tr>\n      <th>20</th>\n      <td>Yoga</td>\n      <td>0.504</td>\n      <td>0.504</td>\n    </tr>\n  </tbody>\n</table>\n</div>"
     },
     "execution_count": 4,
     "metadata": {},
     "output_type": "execute_result"
    }
   ],
   "source": [
    "scores = (\"F1\", \"Accuracy\")\n",
    "methods = list()\n",
    "\n",
    "for candidate_name in scores:\n",
    "    methods.append((candidate_name, f\"{candidate_name}.csv\"))\n",
    "\n",
    "for idx, (name, file_name) in enumerate(methods):\n",
    "    methods[idx] = name, pd.read_csv(f\"../../experiments/score/{file_name}\")\n",
    "\n",
    "df_scores = pd.DataFrame()\n",
    "\n",
    "for name, df in methods:\n",
    "    df_scores[\"dataset\"] = df.dataset\n",
    "    df_scores[name] = df[eval_score]\n",
    "\n",
    "df_scores"
   ]
  },
  {
   "cell_type": "markdown",
   "metadata": {},
   "source": [
    "Let's calculate the mean/std score."
   ]
  },
  {
   "cell_type": "code",
   "execution_count": 5,
   "metadata": {},
   "outputs": [
    {
     "name": "stderr",
     "output_type": "stream",
     "text": [
      "/var/folders/5_/fv_bzq1n4n76j6l_jqgndj6c0000gn/T/ipykernel_3970/3088260556.py:1: FutureWarning: Dropping of nuisance columns in DataFrame reductions (with 'numeric_only=None') is deprecated; in a future version this will raise TypeError.  Select only valid columns before calling the reduction.\n",
      "  df_scores.mean(axis=0).round(3)\n"
     ]
    },
    {
     "data": {
      "text/plain": "F1          0.791\nAccuracy    0.749\ndtype: float64"
     },
     "execution_count": 5,
     "metadata": {},
     "output_type": "execute_result"
    }
   ],
   "source": [
    "df_scores.mean(axis=0).round(3)"
   ]
  },
  {
   "cell_type": "code",
   "execution_count": 6,
   "metadata": {},
   "outputs": [
    {
     "name": "stderr",
     "output_type": "stream",
     "text": [
      "/var/folders/5_/fv_bzq1n4n76j6l_jqgndj6c0000gn/T/ipykernel_3970/2527189798.py:1: FutureWarning: Dropping of nuisance columns in DataFrame reductions (with 'numeric_only=None') is deprecated; in a future version this will raise TypeError.  Select only valid columns before calling the reduction.\n",
      "  df_scores.std(axis=0).round(3)\n"
     ]
    },
    {
     "data": {
      "text/plain": "F1          0.156\nAccuracy    0.198\ndtype: float64"
     },
     "execution_count": 6,
     "metadata": {},
     "output_type": "execute_result"
    }
   ],
   "source": [
    "df_scores.std(axis=0).round(3)"
   ]
  },
  {
   "cell_type": "markdown",
   "metadata": {},
   "source": [
    "Let's compute the wins per method."
   ]
  },
  {
   "cell_type": "code",
   "execution_count": 7,
   "metadata": {},
   "outputs": [],
   "source": [
    "ranks = df_scores.rank(1, method='min', ascending=False)\n",
    "means = np.array(ranks.mean(axis=0))"
   ]
  },
  {
   "cell_type": "code",
   "execution_count": 8,
   "metadata": {
    "scrolled": true
   },
   "outputs": [
    {
     "name": "stdout",
     "output_type": "stream",
     "text": [
      "F1:wins=17 rank=1.19048\n",
      "Accuracy:wins=13 rank=1.38095\n"
     ]
    }
   ],
   "source": [
    "for mean, name in zip(means, df_scores.columns[1:]):\n",
    "    print(f\"{name}:wins={ranks[ranks[name] == 1].shape[0]} rank={np.round(mean, 5)}\")"
   ]
  },
  {
   "cell_type": "markdown",
   "metadata": {},
   "source": [
    "Let's plot and output the ranks."
   ]
  },
  {
   "cell_type": "code",
   "execution_count": 9,
   "metadata": {},
   "outputs": [
    {
     "data": {
      "text/plain": "<Figure size 360x97.2 with 1 Axes>",
      "image/png": "[encoded data removed]"
     },
     "metadata": {},
     "output_type": "display_data"
    }
   ],
   "source": [
    "cd = Orange.evaluation.scoring.compute_CD(means, df_scores.shape[0])\n",
    "Orange.evaluation.scoring.graph_ranks(means, df_scores.columns[1:], cd=cd, reverse=True, width=5,\n",
    "                                      filename=\"../../figures/cd_ablation_score.pdf\")"
   ]
  },
  {
   "cell_type": "markdown",
   "metadata": {},
   "source": [
    "Let's compute pairwise wins/losses."
   ]
  },
  {
   "cell_type": "code",
   "execution_count": 10,
   "metadata": {},
   "outputs": [
    {
     "name": "stdout",
     "output_type": "stream",
     "text": [
      "F1 vs Accuracy: (wins/ties/losses): 8/9/4\n"
     ]
    }
   ],
   "source": [
    "selection = \"F1\"\n",
    "\n",
    "for rival in df_scores.columns[1:]:\n",
    "    if rival == selection: continue\n",
    "\n",
    "    df_pair = df_scores[[selection, rival]]\n",
    "    pair_ranks = df_pair.rank(1, method='min', ascending=False)\n",
    "\n",
    "    wins = pair_ranks[(pair_ranks[selection] == 1) & (pair_ranks[rival] == 2)].shape[0]\n",
    "    losses = pair_ranks[(pair_ranks[selection] == 2) & (pair_ranks[rival] == 1)].shape[0]\n",
    "    ties = pair_ranks[(pair_ranks[selection] == 1) & (pair_ranks[rival] == 1)].shape[0]\n",
    "\n",
    "    assert wins + losses + ties == pair_ranks.shape[0]\n",
    "\n",
    "    print(f\"{selection} vs {rival}: (wins/ties/losses): {wins}/{ties}/{losses}\")"
   ]
  },
  {
   "cell_type": "code",
   "execution_count": 11,
   "metadata": {
    "pycharm": {
     "name": "#%%\n"
    }
   },
   "outputs": [
    {
     "name": "stderr",
     "output_type": "stream",
     "text": [
      "/var/folders/5_/fv_bzq1n4n76j6l_jqgndj6c0000gn/T/ipykernel_3970/3915868703.py:8: MatplotlibDeprecationWarning: The label function was deprecated in Matplotlib 3.1 and will be removed in 3.8. Use Tick.label1 instead.\n",
      "  tick.label.set_fontsize(fontsize)\n",
      "/var/folders/5_/fv_bzq1n4n76j6l_jqgndj6c0000gn/T/ipykernel_3970/3915868703.py:11: MatplotlibDeprecationWarning: The label function was deprecated in Matplotlib 3.1 and will be removed in 3.8. Use Tick.label1 instead.\n",
      "  tick.label.set_fontsize(fontsize)\n"
     ]
    },
    {
     "data": {
      "text/plain": "<Figure size 720x720 with 1 Axes>",
      "image/png": "[encoded data removed]"
     },
     "metadata": {
      "needs_background": "light"
     },
     "output_type": "display_data"
    }
   ],
   "source": [
    "fontsize = 18\n",
    "_, ax = plt.subplots(figsize=(10, 10))\n",
    "\n",
    "df_scores.boxplot(ax=ax, rot=90)\n",
    "ax.set_ylabel(eval_score, fontsize=fontsize)\n",
    "\n",
    "for tick in ax.xaxis.get_major_ticks():\n",
    "    tick.label.set_fontsize(fontsize)\n",
    "\n",
    "for tick in ax.yaxis.get_major_ticks():\n",
    "    tick.label.set_fontsize(fontsize)\n",
    "\n",
    "plt.savefig(\"../../figures/bp_ablation_score.pdf\", bbox_inches=\"tight\")"
   ]
  }
 ],
 "metadata": {
  "kernelspec": {
   "display_name": "Python 3 (ipykernel)",
   "language": "python",
   "name": "python3"
  },
  "language_info": {
   "codemirror_mode": {
    "name": "ipython",
    "version": 3
   },
   "file_extension": ".py",
   "mimetype": "text/x-python",
   "name": "python",
   "nbconvert_exporter": "python",
   "pygments_lexer": "ipython3",
   "version": "3.8.12"
  }
 },
 "nbformat": 4,
 "nbformat_minor": 4
}