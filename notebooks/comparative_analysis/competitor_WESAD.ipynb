{
 "cells": [
  {
   "cell_type": "markdown",
   "metadata": {},
   "source": [
    "# Comparative Analysis\n",
    "In this notebook, we compare ClaSS with competitors."
   ]
  },
  {
   "cell_type": "code",
   "execution_count": 1,
   "metadata": {},
   "outputs": [],
   "source": [
    "import matplotlib\n",
    "\n",
    "matplotlib.rcParams['pdf.fonttype'] = 42\n",
    "matplotlib.rcParams['ps.fonttype'] = 42"
   ]
  },
  {
   "cell_type": "code",
   "execution_count": 2,
   "metadata": {},
   "outputs": [],
   "source": [
    "import numpy as np\n",
    "import pandas as pd\n",
    "import daproli as dp\n",
    "\n",
    "import pandas as pd\n",
    "pd.set_option('display.max_rows', None)\n",
    "\n",
    "import matplotlib.pyplot as plt\n",
    "import seaborn as sns\n",
    "\n",
    "sns.set_theme()\n",
    "sns.set_color_codes()\n",
    "\n",
    "import Orange\n",
    "import sys\n",
    "sys.path.append(\"../../\")\n",
    "\n",
    "from tqdm import tqdm"
   ]
  },
  {
   "cell_type": "code",
   "execution_count": 3,
   "metadata": {},
   "outputs": [],
   "source": [
    "from src.visualizer import plot_profile, plot_profile_with_ts"
   ]
  },
  {
   "cell_type": "markdown",
   "metadata": {},
   "source": [
    "Let's choose a score for evaluation (F1 or Covering)."
   ]
  },
  {
   "cell_type": "code",
   "execution_count": 4,
   "metadata": {},
   "outputs": [],
   "source": [
    "eval_score = \"covering_score\""
   ]
  },
  {
   "cell_type": "markdown",
   "metadata": {},
   "source": [
    "Let's load the scores from the different methods."
   ]
  },
  {
   "cell_type": "code",
   "execution_count": 5,
   "metadata": {},
   "outputs": [
    {
     "data": {
      "text/html": [
       "<div>\n",
       "<style scoped>\n",
       "    .dataframe tbody tr th:only-of-type {\n",
       "        vertical-align: middle;\n",
       "    }\n",
       "\n",
       "    .dataframe tbody tr th {\n",
       "        vertical-align: top;\n",
       "    }\n",
       "\n",
       "    .dataframe thead th {\n",
       "        text-align: right;\n",
       "    }\n",
       "</style>\n",
       "<table border=\"1\" class=\"dataframe\">\n",
       "  <thead>\n",
       "    <tr style=\"text-align: right;\">\n",
       "      <th></th>\n",
       "      <th>dataset</th>\n",
       "      <th>ClaSS</th>\n",
       "      <th>FLOSS</th>\n",
       "      <th>Window</th>\n",
       "    </tr>\n",
       "  </thead>\n",
       "  <tbody>\n",
       "    <tr>\n",
       "      <th>0</th>\n",
       "      <td>WESAD_Subject2_chest_X-ACC</td>\n",
       "      <td>0.726</td>\n",
       "      <td>0.445</td>\n",
       "      <td>0.253</td>\n",
       "    </tr>\n",
       "    <tr>\n",
       "      <th>1</th>\n",
       "      <td>WESAD_Subject2_chest_Y-ACC</td>\n",
       "      <td>0.218</td>\n",
       "      <td>0.349</td>\n",
       "      <td>0.253</td>\n",
       "    </tr>\n",
       "    <tr>\n",
       "      <th>2</th>\n",
       "      <td>WESAD_Subject2_chest_Z-ACC</td>\n",
       "      <td>0.541</td>\n",
       "      <td>0.362</td>\n",
       "      <td>0.253</td>\n",
       "    </tr>\n",
       "    <tr>\n",
       "      <th>3</th>\n",
       "      <td>WESAD_Subject2_chest_ECG</td>\n",
       "      <td>0.775</td>\n",
       "      <td>0.303</td>\n",
       "      <td>0.253</td>\n",
       "    </tr>\n",
       "    <tr>\n",
       "      <th>4</th>\n",
       "      <td>WESAD_Subject2_chest_EMG</td>\n",
       "      <td>0.622</td>\n",
       "      <td>0.544</td>\n",
       "      <td>0.253</td>\n",
       "    </tr>\n",
       "    <tr>\n",
       "      <th>5</th>\n",
       "      <td>WESAD_Subject2_chest_EDA</td>\n",
       "      <td>0.385</td>\n",
       "      <td>0.652</td>\n",
       "      <td>0.253</td>\n",
       "    </tr>\n",
       "    <tr>\n",
       "      <th>6</th>\n",
       "      <td>WESAD_Subject2_chest_Temp</td>\n",
       "      <td>0.503</td>\n",
       "      <td>0.518</td>\n",
       "      <td>0.253</td>\n",
       "    </tr>\n",
       "    <tr>\n",
       "      <th>7</th>\n",
       "      <td>WESAD_Subject2_chest_Resp</td>\n",
       "      <td>0.511</td>\n",
       "      <td>0.488</td>\n",
       "      <td>0.253</td>\n",
       "    </tr>\n",
       "    <tr>\n",
       "      <th>8</th>\n",
       "      <td>WESAD_Subject3_chest_X-ACC</td>\n",
       "      <td>0.420</td>\n",
       "      <td>0.309</td>\n",
       "      <td>0.250</td>\n",
       "    </tr>\n",
       "    <tr>\n",
       "      <th>9</th>\n",
       "      <td>WESAD_Subject3_chest_Y-ACC</td>\n",
       "      <td>0.353</td>\n",
       "      <td>0.142</td>\n",
       "      <td>0.250</td>\n",
       "    </tr>\n",
       "    <tr>\n",
       "      <th>10</th>\n",
       "      <td>WESAD_Subject3_chest_Z-ACC</td>\n",
       "      <td>0.374</td>\n",
       "      <td>0.257</td>\n",
       "      <td>0.250</td>\n",
       "    </tr>\n",
       "    <tr>\n",
       "      <th>11</th>\n",
       "      <td>WESAD_Subject3_chest_ECG</td>\n",
       "      <td>0.397</td>\n",
       "      <td>0.195</td>\n",
       "      <td>0.250</td>\n",
       "    </tr>\n",
       "    <tr>\n",
       "      <th>12</th>\n",
       "      <td>WESAD_Subject3_chest_EMG</td>\n",
       "      <td>0.491</td>\n",
       "      <td>0.452</td>\n",
       "      <td>0.250</td>\n",
       "    </tr>\n",
       "    <tr>\n",
       "      <th>13</th>\n",
       "      <td>WESAD_Subject3_chest_EDA</td>\n",
       "      <td>0.628</td>\n",
       "      <td>0.305</td>\n",
       "      <td>0.250</td>\n",
       "    </tr>\n",
       "    <tr>\n",
       "      <th>14</th>\n",
       "      <td>WESAD_Subject3_chest_Temp</td>\n",
       "      <td>0.408</td>\n",
       "      <td>0.461</td>\n",
       "      <td>0.454</td>\n",
       "    </tr>\n",
       "    <tr>\n",
       "      <th>15</th>\n",
       "      <td>WESAD_Subject3_chest_Resp</td>\n",
       "      <td>0.196</td>\n",
       "      <td>0.473</td>\n",
       "      <td>0.454</td>\n",
       "    </tr>\n",
       "    <tr>\n",
       "      <th>16</th>\n",
       "      <td>WESAD_Subject4_chest_X-ACC</td>\n",
       "      <td>0.533</td>\n",
       "      <td>0.567</td>\n",
       "      <td>0.250</td>\n",
       "    </tr>\n",
       "    <tr>\n",
       "      <th>17</th>\n",
       "      <td>WESAD_Subject4_chest_Y-ACC</td>\n",
       "      <td>0.496</td>\n",
       "      <td>0.504</td>\n",
       "      <td>0.250</td>\n",
       "    </tr>\n",
       "    <tr>\n",
       "      <th>18</th>\n",
       "      <td>WESAD_Subject4_chest_Z-ACC</td>\n",
       "      <td>0.493</td>\n",
       "      <td>0.383</td>\n",
       "      <td>0.250</td>\n",
       "    </tr>\n",
       "    <tr>\n",
       "      <th>19</th>\n",
       "      <td>WESAD_Subject4_chest_ECG</td>\n",
       "      <td>0.517</td>\n",
       "      <td>0.265</td>\n",
       "      <td>0.250</td>\n",
       "    </tr>\n",
       "    <tr>\n",
       "      <th>20</th>\n",
       "      <td>WESAD_Subject4_chest_EMG</td>\n",
       "      <td>0.580</td>\n",
       "      <td>0.521</td>\n",
       "      <td>0.250</td>\n",
       "    </tr>\n",
       "    <tr>\n",
       "      <th>21</th>\n",
       "      <td>WESAD_Subject4_chest_EDA</td>\n",
       "      <td>0.259</td>\n",
       "      <td>0.415</td>\n",
       "      <td>0.250</td>\n",
       "    </tr>\n",
       "    <tr>\n",
       "      <th>22</th>\n",
       "      <td>WESAD_Subject4_chest_Temp</td>\n",
       "      <td>0.549</td>\n",
       "      <td>0.283</td>\n",
       "      <td>0.250</td>\n",
       "    </tr>\n",
       "    <tr>\n",
       "      <th>23</th>\n",
       "      <td>WESAD_Subject4_chest_Resp</td>\n",
       "      <td>0.352</td>\n",
       "      <td>0.593</td>\n",
       "      <td>0.250</td>\n",
       "    </tr>\n",
       "    <tr>\n",
       "      <th>24</th>\n",
       "      <td>WESAD_Subject5_chest_X-ACC</td>\n",
       "      <td>0.459</td>\n",
       "      <td>0.518</td>\n",
       "      <td>0.254</td>\n",
       "    </tr>\n",
       "    <tr>\n",
       "      <th>25</th>\n",
       "      <td>WESAD_Subject5_chest_Y-ACC</td>\n",
       "      <td>0.420</td>\n",
       "      <td>0.309</td>\n",
       "      <td>0.254</td>\n",
       "    </tr>\n",
       "    <tr>\n",
       "      <th>26</th>\n",
       "      <td>WESAD_Subject5_chest_Z-ACC</td>\n",
       "      <td>0.756</td>\n",
       "      <td>0.314</td>\n",
       "      <td>0.254</td>\n",
       "    </tr>\n",
       "    <tr>\n",
       "      <th>27</th>\n",
       "      <td>WESAD_Subject5_chest_ECG</td>\n",
       "      <td>0.368</td>\n",
       "      <td>0.091</td>\n",
       "      <td>0.254</td>\n",
       "    </tr>\n",
       "    <tr>\n",
       "      <th>28</th>\n",
       "      <td>WESAD_Subject5_chest_EMG</td>\n",
       "      <td>0.659</td>\n",
       "      <td>0.595</td>\n",
       "      <td>0.254</td>\n",
       "    </tr>\n",
       "    <tr>\n",
       "      <th>29</th>\n",
       "      <td>WESAD_Subject5_chest_EDA</td>\n",
       "      <td>0.555</td>\n",
       "      <td>0.419</td>\n",
       "      <td>0.254</td>\n",
       "    </tr>\n",
       "    <tr>\n",
       "      <th>30</th>\n",
       "      <td>WESAD_Subject5_chest_Temp</td>\n",
       "      <td>0.588</td>\n",
       "      <td>0.401</td>\n",
       "      <td>0.254</td>\n",
       "    </tr>\n",
       "    <tr>\n",
       "      <th>31</th>\n",
       "      <td>WESAD_Subject5_chest_Resp</td>\n",
       "      <td>0.202</td>\n",
       "      <td>0.420</td>\n",
       "      <td>0.254</td>\n",
       "    </tr>\n",
       "  </tbody>\n",
       "</table>\n",
       "</div>"
      ],
      "text/plain": [
       "                       dataset  ClaSS  FLOSS  Window\n",
       "0   WESAD_Subject2_chest_X-ACC  0.726  0.445   0.253\n",
       "1   WESAD_Subject2_chest_Y-ACC  0.218  0.349   0.253\n",
       "2   WESAD_Subject2_chest_Z-ACC  0.541  0.362   0.253\n",
       "3     WESAD_Subject2_chest_ECG  0.775  0.303   0.253\n",
       "4     WESAD_Subject2_chest_EMG  0.622  0.544   0.253\n",
       "5     WESAD_Subject2_chest_EDA  0.385  0.652   0.253\n",
       "6    WESAD_Subject2_chest_Temp  0.503  0.518   0.253\n",
       "7    WESAD_Subject2_chest_Resp  0.511  0.488   0.253\n",
       "8   WESAD_Subject3_chest_X-ACC  0.420  0.309   0.250\n",
       "9   WESAD_Subject3_chest_Y-ACC  0.353  0.142   0.250\n",
       "10  WESAD_Subject3_chest_Z-ACC  0.374  0.257   0.250\n",
       "11    WESAD_Subject3_chest_ECG  0.397  0.195   0.250\n",
       "12    WESAD_Subject3_chest_EMG  0.491  0.452   0.250\n",
       "13    WESAD_Subject3_chest_EDA  0.628  0.305   0.250\n",
       "14   WESAD_Subject3_chest_Temp  0.408  0.461   0.454\n",
       "15   WESAD_Subject3_chest_Resp  0.196  0.473   0.454\n",
       "16  WESAD_Subject4_chest_X-ACC  0.533  0.567   0.250\n",
       "17  WESAD_Subject4_chest_Y-ACC  0.496  0.504   0.250\n",
       "18  WESAD_Subject4_chest_Z-ACC  0.493  0.383   0.250\n",
       "19    WESAD_Subject4_chest_ECG  0.517  0.265   0.250\n",
       "20    WESAD_Subject4_chest_EMG  0.580  0.521   0.250\n",
       "21    WESAD_Subject4_chest_EDA  0.259  0.415   0.250\n",
       "22   WESAD_Subject4_chest_Temp  0.549  0.283   0.250\n",
       "23   WESAD_Subject4_chest_Resp  0.352  0.593   0.250\n",
       "24  WESAD_Subject5_chest_X-ACC  0.459  0.518   0.254\n",
       "25  WESAD_Subject5_chest_Y-ACC  0.420  0.309   0.254\n",
       "26  WESAD_Subject5_chest_Z-ACC  0.756  0.314   0.254\n",
       "27    WESAD_Subject5_chest_ECG  0.368  0.091   0.254\n",
       "28    WESAD_Subject5_chest_EMG  0.659  0.595   0.254\n",
       "29    WESAD_Subject5_chest_EDA  0.555  0.419   0.254\n",
       "30   WESAD_Subject5_chest_Temp  0.588  0.401   0.254\n",
       "31   WESAD_Subject5_chest_Resp  0.202  0.420   0.254"
      ]
     },
     "execution_count": 5,
     "metadata": {},
     "output_type": "execute_result"
    }
   ],
   "source": [
    "competitors = [\"ADWIN\", \"HDDM\", \"NEWMA\", \"ChangeFinder\", \"DDM\", \"Window\", \"FLOSS\", \"ClaSS\"]\n",
    "dataset = \"WESAD\"\n",
    "methods = list()\n",
    "\n",
    "for candidate_name in competitors:\n",
    "    methods.append((candidate_name, f\"{candidate_name}.csv.gz\"))\n",
    "\n",
    "for idx, (name, file_name) in enumerate(methods):\n",
    "    methods[idx] = name, pd.read_csv(f\"../../experiments/competitor_{dataset}/{file_name}\", usecols=[\"dataset\", eval_score], compression=\"gzip\")\n",
    "    \n",
    "df_scores = pd.DataFrame()\n",
    "\n",
    "for name, df in methods:\n",
    "    df_scores[\"dataset\"] = df.dataset\n",
    "    df_scores[name] = df[eval_score]\n",
    "    \n",
    "df_scores"
   ]
  },
  {
   "cell_type": "markdown",
   "metadata": {},
   "source": [
    "Let's calculate the mean/median/std score."
   ]
  },
  {
   "cell_type": "code",
   "execution_count": 6,
   "metadata": {},
   "outputs": [
    {
     "name": "stderr",
     "output_type": "stream",
     "text": [
      "/var/folders/5_/fv_bzq1n4n76j6l_jqgndj6c0000gn/T/ipykernel_1223/2219294936.py:1: FutureWarning: Dropping of nuisance columns in DataFrame reductions (with 'numeric_only=None') is deprecated; in a future version this will raise TypeError.  Select only valid columns before calling the reduction.\n",
      "  df_scores.mean(axis=0).round(3)\n"
     ]
    },
    {
     "data": {
      "text/plain": [
       "ClaSS     0.479\n",
       "FLOSS     0.402\n",
       "Window    0.264\n",
       "dtype: float64"
      ]
     },
     "execution_count": 6,
     "metadata": {},
     "output_type": "execute_result"
    }
   ],
   "source": [
    "df_scores.mean(axis=0).round(3)"
   ]
  },
  {
   "cell_type": "code",
   "execution_count": 7,
   "metadata": {},
   "outputs": [
    {
     "name": "stderr",
     "output_type": "stream",
     "text": [
      "/var/folders/5_/fv_bzq1n4n76j6l_jqgndj6c0000gn/T/ipykernel_1223/1729043111.py:1: FutureWarning: Dropping of nuisance columns in DataFrame reductions (with 'numeric_only=None') is deprecated; in a future version this will raise TypeError.  Select only valid columns before calling the reduction.\n",
      "  df_scores.median(axis=0).round(3)\n"
     ]
    },
    {
     "data": {
      "text/plain": [
       "ClaSS     0.494\n",
       "FLOSS     0.417\n",
       "Window    0.253\n",
       "dtype: float64"
      ]
     },
     "execution_count": 7,
     "metadata": {},
     "output_type": "execute_result"
    }
   ],
   "source": [
    "df_scores.median(axis=0).round(3)"
   ]
  },
  {
   "cell_type": "code",
   "execution_count": 8,
   "metadata": {},
   "outputs": [
    {
     "name": "stderr",
     "output_type": "stream",
     "text": [
      "/var/folders/5_/fv_bzq1n4n76j6l_jqgndj6c0000gn/T/ipykernel_1223/1084607075.py:1: FutureWarning: Dropping of nuisance columns in DataFrame reductions (with 'numeric_only=None') is deprecated; in a future version this will raise TypeError.  Select only valid columns before calling the reduction.\n",
      "  df_scores.std(axis=0).round(3)\n"
     ]
    },
    {
     "data": {
      "text/plain": [
       "ClaSS     0.150\n",
       "FLOSS     0.135\n",
       "Window    0.050\n",
       "dtype: float64"
      ]
     },
     "execution_count": 8,
     "metadata": {},
     "output_type": "execute_result"
    }
   ],
   "source": [
    "df_scores.std(axis=0).round(3)"
   ]
  },
  {
   "cell_type": "markdown",
   "metadata": {},
   "source": [
    "Let's compute the wins per method."
   ]
  },
  {
   "cell_type": "code",
   "execution_count": 9,
   "metadata": {},
   "outputs": [],
   "source": [
    "ranks = df_scores.rank(1, method = 'min', ascending=False)\n",
    "means = np.array(ranks.mean(axis=0))"
   ]
  },
  {
   "cell_type": "code",
   "execution_count": 10,
   "metadata": {
    "scrolled": true
   },
   "outputs": [
    {
     "name": "stdout",
     "output_type": "stream",
     "text": [
      "ClaSS:wins=21 rank=1.46875\n",
      "FLOSS:wins=11 rank=1.75\n",
      "Window:wins=0 rank=2.78125\n"
     ]
    }
   ],
   "source": [
    "for mean, name in zip(means, df_scores.columns[1:]):\n",
    "    print(f\"{name}:wins={ranks[ranks[name] == 1].shape[0]} rank={np.round(mean, 5)}\")"
   ]
  },
  {
   "cell_type": "markdown",
   "metadata": {},
   "source": [
    "Let's plot and output the ranks."
   ]
  },
  {
   "cell_type": "code",
   "execution_count": 11,
   "metadata": {},
   "outputs": [
    {
     "data": {
      "image/png": "[encoded data removed]",
      "text/plain": [
       "<Figure size 288x104.4 with 1 Axes>"
      ]
     },
     "metadata": {},
     "output_type": "display_data"
    }
   ],
   "source": [
    "cd = Orange.evaluation.scoring.compute_CD(means, df_scores.shape[0])\n",
    "Orange.evaluation.scoring.graph_ranks(means, df_scores.columns[1:], cd=cd, reverse=True, width=4, filename=f\"../../figures/cd_comparative_{dataset}.pdf\") # "
   ]
  },
  {
   "cell_type": "markdown",
   "metadata": {},
   "source": [
    "Let's compute wins/losses against ClaSP."
   ]
  },
  {
   "cell_type": "code",
   "execution_count": 12,
   "metadata": {},
   "outputs": [
    {
     "name": "stdout",
     "output_type": "stream",
     "text": [
      "ClaSS vs FLOSS: (wins/ties/losses): 21/0/11\n",
      "ClaSS vs Window: (wins/ties/losses): 28/0/4\n"
     ]
    }
   ],
   "source": [
    "selection = \"ClaSS\"\n",
    "\n",
    "for rival in df_scores.columns[1:]:\n",
    "    if rival == selection: continue\n",
    "    \n",
    "    df_pair = df_scores[[selection, rival]]\n",
    "    pair_ranks = df_pair.rank(1, method = 'min', ascending=False)\n",
    "    \n",
    "    wins = pair_ranks[(pair_ranks[selection] == 1) & (pair_ranks[rival] == 2)].shape[0]\n",
    "    losses = pair_ranks[(pair_ranks[selection] == 2) & (pair_ranks[rival] == 1)].shape[0]\n",
    "    ties = pair_ranks[(pair_ranks[selection] == 1) & (pair_ranks[rival] == 1)].shape[0]\n",
    "    \n",
    "    assert wins + losses + ties == pair_ranks.shape[0]\n",
    "    \n",
    "    print(f\"{selection} vs {rival}: (wins/ties/losses): {wins}/{ties}/{losses}\")"
   ]
  },
  {
   "cell_type": "code",
   "execution_count": 13,
   "metadata": {},
   "outputs": [
    {
     "data": {
      "image/png": "[encoded data removed]",
      "text/plain": [
       "<Figure size 720x360 with 1 Axes>"
      ]
     },
     "metadata": {},
     "output_type": "display_data"
    }
   ],
   "source": [
    "fontsize = 24\n",
    "_, ax = plt.subplots(figsize=(10,5))\n",
    "\n",
    "df_scores.boxplot(ax=ax, rot=90)\n",
    "ax.set_ylabel(\"Covering\", fontsize=fontsize)\n",
    "\n",
    "for tick in ax.xaxis.get_major_ticks():\n",
    "    tick.label.set_fontsize(fontsize)\n",
    "\n",
    "for tick in ax.yaxis.get_major_ticks():\n",
    "    tick.label.set_fontsize(fontsize)\n",
    "    \n",
    "ax.set_xticklabels(df_scores.columns[1:], rotation=45, ha=\"right\")\n",
    "ax.set_yticks(np.round(np.arange(0, 1.0+.2,.2),1))\n",
    "    \n",
    "plt.savefig(f\"../../figures/bp_comparative_{dataset}.pdf\", bbox_inches=\"tight\") "
   ]
  },
  {
   "cell_type": "code",
   "execution_count": null,
   "metadata": {},
   "outputs": [],
   "source": []
  }
 ],
 "metadata": {
  "kernelspec": {
   "display_name": "Python 3 (ipykernel)",
   "language": "python",
   "name": "python3"
  },
  "language_info": {
   "codemirror_mode": {
    "name": "ipython",
    "version": 3
   },
   "file_extension": ".py",
   "mimetype": "text/x-python",
   "name": "python",
   "nbconvert_exporter": "python",
   "pygments_lexer": "ipython3",
   "version": "3.8.12"
  }
 },
 "nbformat": 4,
 "nbformat_minor": 4
}
