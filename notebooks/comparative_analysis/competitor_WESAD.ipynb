{
 "cells": [
  {
   "cell_type": "markdown",
   "metadata": {},
   "source": [
    "# Comparative Analysis\n",
    "In this notebook, we compare ClaSS with competitors."
   ]
  },
  {
   "cell_type": "code",
   "execution_count": 1,
   "metadata": {},
   "outputs": [],
   "source": [
    "import matplotlib\n",
    "\n",
    "matplotlib.rcParams['pdf.fonttype'] = 42\n",
    "matplotlib.rcParams['ps.fonttype'] = 42"
   ]
  },
  {
   "cell_type": "code",
   "execution_count": 2,
   "metadata": {},
   "outputs": [],
   "source": [
    "import numpy as np\n",
    "\n",
    "import pandas as pd\n",
    "\n",
    "pd.set_option('display.max_rows', None)\n",
    "\n",
    "import matplotlib.pyplot as plt\n",
    "import seaborn as sns\n",
    "\n",
    "sns.set_theme()\n",
    "sns.set_color_codes()\n",
    "\n",
    "import Orange\n",
    "import sys\n",
    "\n",
    "sys.path.append(\"../../\")"
   ]
  },
  {
   "cell_type": "markdown",
   "metadata": {},
   "source": [
    "Let's choose a score for evaluation (F1 or Covering)."
   ]
  },
  {
   "cell_type": "code",
   "execution_count": 3,
   "metadata": {},
   "outputs": [],
   "source": [
    "eval_score = \"covering_score\""
   ]
  },
  {
   "cell_type": "markdown",
   "metadata": {},
   "source": [
    "Let's load the scores from the different methods."
   ]
  },
  {
   "cell_type": "code",
   "execution_count": 4,
   "metadata": {},
   "outputs": [
    {
     "data": {
      "text/plain": "                       dataset  ADWIN   HDDM  NEWMA  ChangeFinder    DDM  \\\n0   WESAD_Subject2_chest_X-ACC  0.090  0.636  0.253         0.958  0.672   \n1   WESAD_Subject2_chest_Y-ACC  0.079  0.227  0.253         0.961  0.253   \n2   WESAD_Subject2_chest_Z-ACC  0.081  0.604  0.253         0.950  0.253   \n3     WESAD_Subject2_chest_ECG  0.222  0.239  0.253         0.027  0.050   \n4     WESAD_Subject2_chest_EMG  0.534  0.253  0.253         0.474  0.253   \n5     WESAD_Subject2_chest_EDA  0.046  0.749  0.253         0.370  0.253   \n6    WESAD_Subject2_chest_Temp  0.047  0.503  0.253         0.737  0.253   \n7    WESAD_Subject2_chest_Resp  0.004  0.009  0.253         0.452  0.060   \n8   WESAD_Subject3_chest_X-ACC  0.116  0.570  0.250         0.789  0.250   \n9   WESAD_Subject3_chest_Y-ACC  0.124  0.509  0.250         0.628  0.250   \n10  WESAD_Subject3_chest_Z-ACC  0.036  0.734  0.250         0.813  0.250   \n11    WESAD_Subject3_chest_ECG  0.225  0.250  0.250         0.028  0.134   \n12    WESAD_Subject3_chest_EMG  0.388  0.454  0.250         0.485  0.250   \n13    WESAD_Subject3_chest_EDA  0.032  0.594  0.250         0.121  0.250   \n14   WESAD_Subject3_chest_Temp  0.049  0.513  0.250         0.548  0.250   \n15   WESAD_Subject3_chest_Resp  0.005  0.014  0.250         0.173  0.036   \n16  WESAD_Subject4_chest_X-ACC  0.071  0.636  0.250         0.738  0.250   \n17  WESAD_Subject4_chest_Y-ACC  0.100  0.618  0.250         0.999  0.250   \n18  WESAD_Subject4_chest_Z-ACC  0.070  0.436  0.250         0.905  0.250   \n19    WESAD_Subject4_chest_ECG  0.246  0.250  0.250         0.021  0.035   \n20    WESAD_Subject4_chest_EMG  0.495  0.250  0.250         0.402  0.250   \n21    WESAD_Subject4_chest_EDA  0.111  0.660  0.250         0.497  0.250   \n22   WESAD_Subject4_chest_Temp  0.063  0.554  0.250         0.424  0.250   \n23   WESAD_Subject4_chest_Resp  0.004  0.009  0.250         0.499  0.053   \n24  WESAD_Subject5_chest_X-ACC  0.128  0.575  0.254         0.677  0.469   \n25  WESAD_Subject5_chest_Y-ACC  0.085  0.223  0.254         0.616  0.254   \n26  WESAD_Subject5_chest_Z-ACC  0.049  0.635  0.254         0.683  0.254   \n27    WESAD_Subject5_chest_ECG  0.251  0.412  0.254         0.024  0.026   \n28    WESAD_Subject5_chest_EMG  0.555  0.254  0.254         0.290  0.254   \n29    WESAD_Subject5_chest_EDA  0.024  0.676  0.254         0.269  0.254   \n30   WESAD_Subject5_chest_Temp  0.115  0.399  0.254         0.475  0.254   \n31   WESAD_Subject5_chest_Resp  0.004  0.011  0.254         0.236  0.022   \n\n    Window  FLOSS  ClaSS  \n0    0.253  0.445  0.726  \n1    0.253  0.349  0.218  \n2    0.253  0.362  0.541  \n3    0.253  0.303  0.775  \n4    0.253  0.544  0.622  \n5    0.253  0.652  0.385  \n6    0.253  0.518  0.503  \n7    0.253  0.488  0.511  \n8    0.250  0.309  0.420  \n9    0.250  0.142  0.353  \n10   0.250  0.257  0.374  \n11   0.250  0.195  0.397  \n12   0.250  0.452  0.491  \n13   0.250  0.305  0.628  \n14   0.454  0.461  0.408  \n15   0.454  0.473  0.196  \n16   0.250  0.567  0.533  \n17   0.250  0.504  0.496  \n18   0.250  0.383  0.493  \n19   0.250  0.265  0.517  \n20   0.250  0.521  0.580  \n21   0.250  0.415  0.259  \n22   0.250  0.283  0.549  \n23   0.250  0.593  0.352  \n24   0.254  0.518  0.459  \n25   0.254  0.309  0.420  \n26   0.254  0.314  0.756  \n27   0.254  0.091  0.368  \n28   0.254  0.595  0.659  \n29   0.254  0.419  0.555  \n30   0.254  0.401  0.588  \n31   0.254  0.420  0.202  ",
      "text/html": "<div>\n<style scoped>\n    .dataframe tbody tr th:only-of-type {\n        vertical-align: middle;\n    }\n\n    .dataframe tbody tr th {\n        vertical-align: top;\n    }\n\n    .dataframe thead th {\n        text-align: right;\n    }\n</style>\n<table border=\"1\" class=\"dataframe\">\n  <thead>\n    <tr style=\"text-align: right;\">\n      <th></th>\n      <th>dataset</th>\n      <th>ADWIN</th>\n      <th>HDDM</th>\n      <th>NEWMA</th>\n      <th>ChangeFinder</th>\n      <th>DDM</th>\n      <th>Window</th>\n      <th>FLOSS</th>\n      <th>ClaSS</th>\n    </tr>\n  </thead>\n  <tbody>\n    <tr>\n      <th>0</th>\n      <td>WESAD_Subject2_chest_X-ACC</td>\n      <td>0.090</td>\n      <td>0.636</td>\n      <td>0.253</td>\n      <td>0.958</td>\n      <td>0.672</td>\n      <td>0.253</td>\n      <td>0.445</td>\n      <td>0.726</td>\n    </tr>\n    <tr>\n      <th>1</th>\n      <td>WESAD_Subject2_chest_Y-ACC</td>\n      <td>0.079</td>\n      <td>0.227</td>\n      <td>0.253</td>\n      <td>0.961</td>\n      <td>0.253</td>\n      <td>0.253</td>\n      <td>0.349</td>\n      <td>0.218</td>\n    </tr>\n    <tr>\n      <th>2</th>\n      <td>WESAD_Subject2_chest_Z-ACC</td>\n      <td>0.081</td>\n      <td>0.604</td>\n      <td>0.253</td>\n      <td>0.950</td>\n      <td>0.253</td>\n      <td>0.253</td>\n      <td>0.362</td>\n      <td>0.541</td>\n    </tr>\n    <tr>\n      <th>3</th>\n      <td>WESAD_Subject2_chest_ECG</td>\n      <td>0.222</td>\n      <td>0.239</td>\n      <td>0.253</td>\n      <td>0.027</td>\n      <td>0.050</td>\n      <td>0.253</td>\n      <td>0.303</td>\n      <td>0.775</td>\n    </tr>\n    <tr>\n      <th>4</th>\n      <td>WESAD_Subject2_chest_EMG</td>\n      <td>0.534</td>\n      <td>0.253</td>\n      <td>0.253</td>\n      <td>0.474</td>\n      <td>0.253</td>\n      <td>0.253</td>\n      <td>0.544</td>\n      <td>0.622</td>\n    </tr>\n    <tr>\n      <th>5</th>\n      <td>WESAD_Subject2_chest_EDA</td>\n      <td>0.046</td>\n      <td>0.749</td>\n      <td>0.253</td>\n      <td>0.370</td>\n      <td>0.253</td>\n      <td>0.253</td>\n      <td>0.652</td>\n      <td>0.385</td>\n    </tr>\n    <tr>\n      <th>6</th>\n      <td>WESAD_Subject2_chest_Temp</td>\n      <td>0.047</td>\n      <td>0.503</td>\n      <td>0.253</td>\n      <td>0.737</td>\n      <td>0.253</td>\n      <td>0.253</td>\n      <td>0.518</td>\n      <td>0.503</td>\n    </tr>\n    <tr>\n      <th>7</th>\n      <td>WESAD_Subject2_chest_Resp</td>\n      <td>0.004</td>\n      <td>0.009</td>\n      <td>0.253</td>\n      <td>0.452</td>\n      <td>0.060</td>\n      <td>0.253</td>\n      <td>0.488</td>\n      <td>0.511</td>\n    </tr>\n    <tr>\n      <th>8</th>\n      <td>WESAD_Subject3_chest_X-ACC</td>\n      <td>0.116</td>\n      <td>0.570</td>\n      <td>0.250</td>\n      <td>0.789</td>\n      <td>0.250</td>\n      <td>0.250</td>\n      <td>0.309</td>\n      <td>0.420</td>\n    </tr>\n    <tr>\n      <th>9</th>\n      <td>WESAD_Subject3_chest_Y-ACC</td>\n      <td>0.124</td>\n      <td>0.509</td>\n      <td>0.250</td>\n      <td>0.628</td>\n      <td>0.250</td>\n      <td>0.250</td>\n      <td>0.142</td>\n      <td>0.353</td>\n    </tr>\n    <tr>\n      <th>10</th>\n      <td>WESAD_Subject3_chest_Z-ACC</td>\n      <td>0.036</td>\n      <td>0.734</td>\n      <td>0.250</td>\n      <td>0.813</td>\n      <td>0.250</td>\n      <td>0.250</td>\n      <td>0.257</td>\n      <td>0.374</td>\n    </tr>\n    <tr>\n      <th>11</th>\n      <td>WESAD_Subject3_chest_ECG</td>\n      <td>0.225</td>\n      <td>0.250</td>\n      <td>0.250</td>\n      <td>0.028</td>\n      <td>0.134</td>\n      <td>0.250</td>\n      <td>0.195</td>\n      <td>0.397</td>\n    </tr>\n    <tr>\n      <th>12</th>\n      <td>WESAD_Subject3_chest_EMG</td>\n      <td>0.388</td>\n      <td>0.454</td>\n      <td>0.250</td>\n      <td>0.485</td>\n      <td>0.250</td>\n      <td>0.250</td>\n      <td>0.452</td>\n      <td>0.491</td>\n    </tr>\n    <tr>\n      <th>13</th>\n      <td>WESAD_Subject3_chest_EDA</td>\n      <td>0.032</td>\n      <td>0.594</td>\n      <td>0.250</td>\n      <td>0.121</td>\n      <td>0.250</td>\n      <td>0.250</td>\n      <td>0.305</td>\n      <td>0.628</td>\n    </tr>\n    <tr>\n      <th>14</th>\n      <td>WESAD_Subject3_chest_Temp</td>\n      <td>0.049</td>\n      <td>0.513</td>\n      <td>0.250</td>\n      <td>0.548</td>\n      <td>0.250</td>\n      <td>0.454</td>\n      <td>0.461</td>\n      <td>0.408</td>\n    </tr>\n    <tr>\n      <th>15</th>\n      <td>WESAD_Subject3_chest_Resp</td>\n      <td>0.005</td>\n      <td>0.014</td>\n      <td>0.250</td>\n      <td>0.173</td>\n      <td>0.036</td>\n      <td>0.454</td>\n      <td>0.473</td>\n      <td>0.196</td>\n    </tr>\n    <tr>\n      <th>16</th>\n      <td>WESAD_Subject4_chest_X-ACC</td>\n      <td>0.071</td>\n      <td>0.636</td>\n      <td>0.250</td>\n      <td>0.738</td>\n      <td>0.250</td>\n      <td>0.250</td>\n      <td>0.567</td>\n      <td>0.533</td>\n    </tr>\n    <tr>\n      <th>17</th>\n      <td>WESAD_Subject4_chest_Y-ACC</td>\n      <td>0.100</td>\n      <td>0.618</td>\n      <td>0.250</td>\n      <td>0.999</td>\n      <td>0.250</td>\n      <td>0.250</td>\n      <td>0.504</td>\n      <td>0.496</td>\n    </tr>\n    <tr>\n      <th>18</th>\n      <td>WESAD_Subject4_chest_Z-ACC</td>\n      <td>0.070</td>\n      <td>0.436</td>\n      <td>0.250</td>\n      <td>0.905</td>\n      <td>0.250</td>\n      <td>0.250</td>\n      <td>0.383</td>\n      <td>0.493</td>\n    </tr>\n    <tr>\n      <th>19</th>\n      <td>WESAD_Subject4_chest_ECG</td>\n      <td>0.246</td>\n      <td>0.250</td>\n      <td>0.250</td>\n      <td>0.021</td>\n      <td>0.035</td>\n      <td>0.250</td>\n      <td>0.265</td>\n      <td>0.517</td>\n    </tr>\n    <tr>\n      <th>20</th>\n      <td>WESAD_Subject4_chest_EMG</td>\n      <td>0.495</td>\n      <td>0.250</td>\n      <td>0.250</td>\n      <td>0.402</td>\n      <td>0.250</td>\n      <td>0.250</td>\n      <td>0.521</td>\n      <td>0.580</td>\n    </tr>\n    <tr>\n      <th>21</th>\n      <td>WESAD_Subject4_chest_EDA</td>\n      <td>0.111</td>\n      <td>0.660</td>\n      <td>0.250</td>\n      <td>0.497</td>\n      <td>0.250</td>\n      <td>0.250</td>\n      <td>0.415</td>\n      <td>0.259</td>\n    </tr>\n    <tr>\n      <th>22</th>\n      <td>WESAD_Subject4_chest_Temp</td>\n      <td>0.063</td>\n      <td>0.554</td>\n      <td>0.250</td>\n      <td>0.424</td>\n      <td>0.250</td>\n      <td>0.250</td>\n      <td>0.283</td>\n      <td>0.549</td>\n    </tr>\n    <tr>\n      <th>23</th>\n      <td>WESAD_Subject4_chest_Resp</td>\n      <td>0.004</td>\n      <td>0.009</td>\n      <td>0.250</td>\n      <td>0.499</td>\n      <td>0.053</td>\n      <td>0.250</td>\n      <td>0.593</td>\n      <td>0.352</td>\n    </tr>\n    <tr>\n      <th>24</th>\n      <td>WESAD_Subject5_chest_X-ACC</td>\n      <td>0.128</td>\n      <td>0.575</td>\n      <td>0.254</td>\n      <td>0.677</td>\n      <td>0.469</td>\n      <td>0.254</td>\n      <td>0.518</td>\n      <td>0.459</td>\n    </tr>\n    <tr>\n      <th>25</th>\n      <td>WESAD_Subject5_chest_Y-ACC</td>\n      <td>0.085</td>\n      <td>0.223</td>\n      <td>0.254</td>\n      <td>0.616</td>\n      <td>0.254</td>\n      <td>0.254</td>\n      <td>0.309</td>\n      <td>0.420</td>\n    </tr>\n    <tr>\n      <th>26</th>\n      <td>WESAD_Subject5_chest_Z-ACC</td>\n      <td>0.049</td>\n      <td>0.635</td>\n      <td>0.254</td>\n      <td>0.683</td>\n      <td>0.254</td>\n      <td>0.254</td>\n      <td>0.314</td>\n      <td>0.756</td>\n    </tr>\n    <tr>\n      <th>27</th>\n      <td>WESAD_Subject5_chest_ECG</td>\n      <td>0.251</td>\n      <td>0.412</td>\n      <td>0.254</td>\n      <td>0.024</td>\n      <td>0.026</td>\n      <td>0.254</td>\n      <td>0.091</td>\n      <td>0.368</td>\n    </tr>\n    <tr>\n      <th>28</th>\n      <td>WESAD_Subject5_chest_EMG</td>\n      <td>0.555</td>\n      <td>0.254</td>\n      <td>0.254</td>\n      <td>0.290</td>\n      <td>0.254</td>\n      <td>0.254</td>\n      <td>0.595</td>\n      <td>0.659</td>\n    </tr>\n    <tr>\n      <th>29</th>\n      <td>WESAD_Subject5_chest_EDA</td>\n      <td>0.024</td>\n      <td>0.676</td>\n      <td>0.254</td>\n      <td>0.269</td>\n      <td>0.254</td>\n      <td>0.254</td>\n      <td>0.419</td>\n      <td>0.555</td>\n    </tr>\n    <tr>\n      <th>30</th>\n      <td>WESAD_Subject5_chest_Temp</td>\n      <td>0.115</td>\n      <td>0.399</td>\n      <td>0.254</td>\n      <td>0.475</td>\n      <td>0.254</td>\n      <td>0.254</td>\n      <td>0.401</td>\n      <td>0.588</td>\n    </tr>\n    <tr>\n      <th>31</th>\n      <td>WESAD_Subject5_chest_Resp</td>\n      <td>0.004</td>\n      <td>0.011</td>\n      <td>0.254</td>\n      <td>0.236</td>\n      <td>0.022</td>\n      <td>0.254</td>\n      <td>0.420</td>\n      <td>0.202</td>\n    </tr>\n  </tbody>\n</table>\n</div>"
     },
     "execution_count": 4,
     "metadata": {},
     "output_type": "execute_result"
    }
   ],
   "source": [
    "competitors = [\"ADWIN\", \"HDDM\", \"NEWMA\", \"ChangeFinder\", \"DDM\", \"Window\", \"FLOSS\", \"ClaSS\"]\n",
    "dataset = \"WESAD\"\n",
    "methods = list()\n",
    "\n",
    "for candidate_name in competitors:\n",
    "    methods.append((candidate_name, f\"{candidate_name}.csv.gz\"))\n",
    "\n",
    "for idx, (name, file_name) in enumerate(methods):\n",
    "    methods[idx] = name, pd.read_csv(f\"../../experiments/competitor_{dataset}/{file_name}\",\n",
    "                                     usecols=[\"dataset\", eval_score], compression=\"gzip\")\n",
    "\n",
    "df_scores = pd.DataFrame()\n",
    "\n",
    "for name, df in methods:\n",
    "    df_scores[\"dataset\"] = df.dataset\n",
    "    df_scores[name] = df[eval_score]\n",
    "\n",
    "df_scores"
   ]
  },
  {
   "cell_type": "markdown",
   "metadata": {},
   "source": [
    "Let's calculate the mean/median/std score."
   ]
  },
  {
   "cell_type": "code",
   "execution_count": 5,
   "metadata": {},
   "outputs": [
    {
     "name": "stderr",
     "output_type": "stream",
     "text": [
      "/var/folders/5_/fv_bzq1n4n76j6l_jqgndj6c0000gn/T/ipykernel_4061/3088260556.py:1: FutureWarning: Dropping of nuisance columns in DataFrame reductions (with 'numeric_only=None') is deprecated; in a future version this will raise TypeError.  Select only valid columns before calling the reduction.\n",
      "  df_scores.mean(axis=0).round(3)\n"
     ]
    },
    {
     "data": {
      "text/plain": "ADWIN           0.139\nHDDM            0.420\nNEWMA           0.252\nChangeFinder    0.508\nDDM             0.222\nWindow          0.264\nFLOSS           0.402\nClaSS           0.479\ndtype: float64"
     },
     "execution_count": 5,
     "metadata": {},
     "output_type": "execute_result"
    }
   ],
   "source": [
    "df_scores.mean(axis=0).round(3)"
   ]
  },
  {
   "cell_type": "code",
   "execution_count": 6,
   "metadata": {},
   "outputs": [
    {
     "name": "stderr",
     "output_type": "stream",
     "text": [
      "/var/folders/5_/fv_bzq1n4n76j6l_jqgndj6c0000gn/T/ipykernel_4061/803467923.py:1: FutureWarning: Dropping of nuisance columns in DataFrame reductions (with 'numeric_only=None') is deprecated; in a future version this will raise TypeError.  Select only valid columns before calling the reduction.\n",
      "  df_scores.median(axis=0).round(3)\n"
     ]
    },
    {
     "data": {
      "text/plain": "ADWIN           0.083\nHDDM            0.479\nNEWMA           0.252\nChangeFinder    0.491\nDDM             0.250\nWindow          0.253\nFLOSS           0.417\nClaSS           0.494\ndtype: float64"
     },
     "execution_count": 6,
     "metadata": {},
     "output_type": "execute_result"
    }
   ],
   "source": [
    "df_scores.median(axis=0).round(3)"
   ]
  },
  {
   "cell_type": "code",
   "execution_count": 7,
   "metadata": {},
   "outputs": [
    {
     "name": "stderr",
     "output_type": "stream",
     "text": [
      "/var/folders/5_/fv_bzq1n4n76j6l_jqgndj6c0000gn/T/ipykernel_4061/2527189798.py:1: FutureWarning: Dropping of nuisance columns in DataFrame reductions (with 'numeric_only=None') is deprecated; in a future version this will raise TypeError.  Select only valid columns before calling the reduction.\n",
      "  df_scores.std(axis=0).round(3)\n"
     ]
    },
    {
     "data": {
      "text/plain": "ADWIN           0.153\nHDDM            0.226\nNEWMA           0.002\nChangeFinder    0.300\nDDM             0.130\nWindow          0.050\nFLOSS           0.135\nClaSS           0.150\ndtype: float64"
     },
     "execution_count": 7,
     "metadata": {},
     "output_type": "execute_result"
    }
   ],
   "source": [
    "df_scores.std(axis=0).round(3)"
   ]
  },
  {
   "cell_type": "markdown",
   "metadata": {},
   "source": [
    "Let's compute the wins per method."
   ]
  },
  {
   "cell_type": "code",
   "execution_count": 8,
   "metadata": {},
   "outputs": [],
   "source": [
    "ranks = df_scores.rank(1, method='min', ascending=False)\n",
    "means = np.array(ranks.mean(axis=0))"
   ]
  },
  {
   "cell_type": "code",
   "execution_count": 9,
   "metadata": {
    "scrolled": true
   },
   "outputs": [
    {
     "name": "stdout",
     "output_type": "stream",
     "text": [
      "ADWIN:wins=0 rank=7.125\n",
      "HDDM:wins=5 rank=3.40625\n",
      "NEWMA:wins=0 rank=4.46875\n",
      "ChangeFinder:wins=13 rank=3.03125\n",
      "DDM:wins=0 rank=5.1875\n",
      "Window:wins=0 rank=4.375\n",
      "FLOSS:wins=3 rank=3.125\n",
      "ClaSS:wins=11 rank=2.5625\n"
     ]
    }
   ],
   "source": [
    "for mean, name in zip(means, df_scores.columns[1:]):\n",
    "    print(f\"{name}:wins={ranks[ranks[name] == 1].shape[0]} rank={np.round(mean, 5)}\")"
   ]
  },
  {
   "cell_type": "markdown",
   "metadata": {},
   "source": [
    "Let's plot and output the ranks."
   ]
  },
  {
   "cell_type": "code",
   "execution_count": 10,
   "metadata": {},
   "outputs": [
    {
     "data": {
      "text/plain": "<Figure size 288x154.8 with 1 Axes>",
      "image/png": "[encoded data removed]"
     },
     "metadata": {},
     "output_type": "display_data"
    }
   ],
   "source": [
    "cd = Orange.evaluation.scoring.compute_CD(means, df_scores.shape[0])\n",
    "Orange.evaluation.scoring.graph_ranks(means, df_scores.columns[1:], cd=cd, reverse=True, width=4,\n",
    "                                      filename=f\"../../figures/cd_comparative_{dataset}.pdf\")  #"
   ]
  },
  {
   "cell_type": "markdown",
   "metadata": {},
   "source": [
    "Let's compute wins/losses against ClaSS."
   ]
  },
  {
   "cell_type": "code",
   "execution_count": 11,
   "metadata": {},
   "outputs": [
    {
     "name": "stdout",
     "output_type": "stream",
     "text": [
      "ClaSS vs ADWIN: (wins/ties/losses): 32/0/0\n",
      "ClaSS vs HDDM: (wins/ties/losses): 17/1/14\n",
      "ClaSS vs NEWMA: (wins/ties/losses): 29/0/3\n",
      "ClaSS vs ChangeFinder: (wins/ties/losses): 16/0/16\n",
      "ClaSS vs DDM: (wins/ties/losses): 30/0/2\n",
      "ClaSS vs Window: (wins/ties/losses): 28/0/4\n",
      "ClaSS vs FLOSS: (wins/ties/losses): 21/0/11\n"
     ]
    }
   ],
   "source": [
    "selection = \"ClaSS\"\n",
    "\n",
    "for rival in df_scores.columns[1:]:\n",
    "    if rival == selection: continue\n",
    "\n",
    "    df_pair = df_scores[[selection, rival]]\n",
    "    pair_ranks = df_pair.rank(1, method='min', ascending=False)\n",
    "\n",
    "    wins = pair_ranks[(pair_ranks[selection] == 1) & (pair_ranks[rival] == 2)].shape[0]\n",
    "    losses = pair_ranks[(pair_ranks[selection] == 2) & (pair_ranks[rival] == 1)].shape[0]\n",
    "    ties = pair_ranks[(pair_ranks[selection] == 1) & (pair_ranks[rival] == 1)].shape[0]\n",
    "\n",
    "    assert wins + losses + ties == pair_ranks.shape[0]\n",
    "\n",
    "    print(f\"{selection} vs {rival}: (wins/ties/losses): {wins}/{ties}/{losses}\")"
   ]
  },
  {
   "cell_type": "code",
   "execution_count": 12,
   "metadata": {
    "pycharm": {
     "name": "#%%\n"
    }
   },
   "outputs": [
    {
     "name": "stderr",
     "output_type": "stream",
     "text": [
      "/var/folders/5_/fv_bzq1n4n76j6l_jqgndj6c0000gn/T/ipykernel_4061/3898032719.py:8: MatplotlibDeprecationWarning: The label function was deprecated in Matplotlib 3.1 and will be removed in 3.8. Use Tick.label1 instead.\n",
      "  tick.label.set_fontsize(fontsize)\n",
      "/var/folders/5_/fv_bzq1n4n76j6l_jqgndj6c0000gn/T/ipykernel_4061/3898032719.py:11: MatplotlibDeprecationWarning: The label function was deprecated in Matplotlib 3.1 and will be removed in 3.8. Use Tick.label1 instead.\n",
      "  tick.label.set_fontsize(fontsize)\n"
     ]
    },
    {
     "data": {
      "text/plain": "<Figure size 720x360 with 1 Axes>",
      "image/png": "[encoded data removed]"
     },
     "metadata": {
      "needs_background": "light"
     },
     "output_type": "display_data"
    }
   ],
   "source": [
    "fontsize = 24\n",
    "_, ax = plt.subplots(figsize=(10, 5))\n",
    "\n",
    "df_scores.boxplot(ax=ax, rot=90)\n",
    "ax.set_ylabel(\"Covering\", fontsize=fontsize)\n",
    "\n",
    "for tick in ax.xaxis.get_major_ticks():\n",
    "    tick.label.set_fontsize(fontsize)\n",
    "\n",
    "for tick in ax.yaxis.get_major_ticks():\n",
    "    tick.label.set_fontsize(fontsize)\n",
    "\n",
    "ax.set_xticklabels(df_scores.columns[1:], rotation=45, ha=\"right\")\n",
    "ax.set_yticks(np.round(np.arange(0, 1.0 + .2, .2), 1))\n",
    "\n",
    "plt.savefig(f\"../../figures/bp_comparative_{dataset}.pdf\", bbox_inches=\"tight\")"
   ]
  }
 ],
 "metadata": {
  "kernelspec": {
   "display_name": "Python 3 (ipykernel)",
   "language": "python",
   "name": "python3"
  },
  "language_info": {
   "codemirror_mode": {
    "name": "ipython",
    "version": 3
   },
   "file_extension": ".py",
   "mimetype": "text/x-python",
   "name": "python",
   "nbconvert_exporter": "python",
   "pygments_lexer": "ipython3",
   "version": "3.8.12"
  }
 },
 "nbformat": 4,
 "nbformat_minor": 4
}