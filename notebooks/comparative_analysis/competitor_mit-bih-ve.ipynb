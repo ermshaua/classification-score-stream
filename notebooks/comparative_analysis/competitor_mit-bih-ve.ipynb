{
 "cells": [
  {
   "cell_type": "markdown",
   "metadata": {},
   "source": [
    "# Comparative Analysis\n",
    "In this notebook, we compare ClaSS with competitors."
   ]
  },
  {
   "cell_type": "code",
   "execution_count": 1,
   "metadata": {},
   "outputs": [],
   "source": [
    "import matplotlib\n",
    "\n",
    "matplotlib.rcParams['pdf.fonttype'] = 42\n",
    "matplotlib.rcParams['ps.fonttype'] = 42"
   ]
  },
  {
   "cell_type": "code",
   "execution_count": 2,
   "metadata": {},
   "outputs": [],
   "source": [
    "import numpy as np\n",
    "import pandas as pd\n",
    "import daproli as dp\n",
    "\n",
    "import pandas as pd\n",
    "pd.set_option('display.max_rows', None)\n",
    "\n",
    "import matplotlib.pyplot as plt\n",
    "import seaborn as sns\n",
    "\n",
    "sns.set_theme()\n",
    "sns.set_color_codes()\n",
    "\n",
    "import Orange\n",
    "import sys\n",
    "sys.path.append(\"../../\")\n",
    "\n",
    "from tqdm import tqdm"
   ]
  },
  {
   "cell_type": "code",
   "execution_count": 3,
   "metadata": {},
   "outputs": [],
   "source": [
    "from src.visualizer import plot_profile, plot_profile_with_ts"
   ]
  },
  {
   "cell_type": "markdown",
   "metadata": {},
   "source": [
    "Let's choose a score for evaluation (F1 or Covering)."
   ]
  },
  {
   "cell_type": "code",
   "execution_count": 4,
   "metadata": {},
   "outputs": [],
   "source": [
    "eval_score = \"covering_score\""
   ]
  },
  {
   "cell_type": "markdown",
   "metadata": {},
   "source": [
    "Let's load the scores from the different methods."
   ]
  },
  {
   "cell_type": "code",
   "execution_count": 5,
   "metadata": {},
   "outputs": [
    {
     "data": {
      "text/html": [
       "<div>\n",
       "<style scoped>\n",
       "    .dataframe tbody tr th:only-of-type {\n",
       "        vertical-align: middle;\n",
       "    }\n",
       "\n",
       "    .dataframe tbody tr th {\n",
       "        vertical-align: top;\n",
       "    }\n",
       "\n",
       "    .dataframe thead th {\n",
       "        text-align: right;\n",
       "    }\n",
       "</style>\n",
       "<table border=\"1\" class=\"dataframe\">\n",
       "  <thead>\n",
       "    <tr style=\"text-align: right;\">\n",
       "      <th></th>\n",
       "      <th>dataset</th>\n",
       "      <th>ClaSS</th>\n",
       "      <th>FLOSS</th>\n",
       "      <th>Window</th>\n",
       "    </tr>\n",
       "  </thead>\n",
       "  <tbody>\n",
       "    <tr>\n",
       "      <th>0</th>\n",
       "      <td>MIT-BIH-VE_ECG_Subject418</td>\n",
       "      <td>0.466</td>\n",
       "      <td>0.593</td>\n",
       "      <td>0.102</td>\n",
       "    </tr>\n",
       "    <tr>\n",
       "      <th>1</th>\n",
       "      <td>MIT-BIH-VE_ECG_Subject418</td>\n",
       "      <td>0.466</td>\n",
       "      <td>0.593</td>\n",
       "      <td>0.102</td>\n",
       "    </tr>\n",
       "    <tr>\n",
       "      <th>2</th>\n",
       "      <td>MIT-BIH-VE_ECG_Subject419</td>\n",
       "      <td>0.387</td>\n",
       "      <td>0.391</td>\n",
       "      <td>0.116</td>\n",
       "    </tr>\n",
       "    <tr>\n",
       "      <th>3</th>\n",
       "      <td>MIT-BIH-VE_ECG_Subject419</td>\n",
       "      <td>0.387</td>\n",
       "      <td>0.391</td>\n",
       "      <td>0.116</td>\n",
       "    </tr>\n",
       "    <tr>\n",
       "      <th>4</th>\n",
       "      <td>MIT-BIH-VE_ECG_Subject420</td>\n",
       "      <td>0.555</td>\n",
       "      <td>0.289</td>\n",
       "      <td>0.351</td>\n",
       "    </tr>\n",
       "    <tr>\n",
       "      <th>5</th>\n",
       "      <td>MIT-BIH-VE_ECG_Subject420</td>\n",
       "      <td>0.555</td>\n",
       "      <td>0.289</td>\n",
       "      <td>0.351</td>\n",
       "    </tr>\n",
       "    <tr>\n",
       "      <th>6</th>\n",
       "      <td>MIT-BIH-VE_ECG_Subject421</td>\n",
       "      <td>0.416</td>\n",
       "      <td>0.358</td>\n",
       "      <td>0.092</td>\n",
       "    </tr>\n",
       "    <tr>\n",
       "      <th>7</th>\n",
       "      <td>MIT-BIH-VE_ECG_Subject421</td>\n",
       "      <td>0.416</td>\n",
       "      <td>0.358</td>\n",
       "      <td>0.092</td>\n",
       "    </tr>\n",
       "    <tr>\n",
       "      <th>8</th>\n",
       "      <td>MIT-BIH-VE_ECG_Subject422</td>\n",
       "      <td>0.467</td>\n",
       "      <td>0.425</td>\n",
       "      <td>0.137</td>\n",
       "    </tr>\n",
       "    <tr>\n",
       "      <th>9</th>\n",
       "      <td>MIT-BIH-VE_ECG_Subject422</td>\n",
       "      <td>0.467</td>\n",
       "      <td>0.425</td>\n",
       "      <td>0.137</td>\n",
       "    </tr>\n",
       "    <tr>\n",
       "      <th>10</th>\n",
       "      <td>MIT-BIH-VE_ECG_Subject423</td>\n",
       "      <td>0.662</td>\n",
       "      <td>0.488</td>\n",
       "      <td>0.207</td>\n",
       "    </tr>\n",
       "    <tr>\n",
       "      <th>11</th>\n",
       "      <td>MIT-BIH-VE_ECG_Subject423</td>\n",
       "      <td>0.662</td>\n",
       "      <td>0.488</td>\n",
       "      <td>0.207</td>\n",
       "    </tr>\n",
       "    <tr>\n",
       "      <th>12</th>\n",
       "      <td>MIT-BIH-VE_ECG_Subject424</td>\n",
       "      <td>0.484</td>\n",
       "      <td>0.456</td>\n",
       "      <td>0.389</td>\n",
       "    </tr>\n",
       "    <tr>\n",
       "      <th>13</th>\n",
       "      <td>MIT-BIH-VE_ECG_Subject424</td>\n",
       "      <td>0.484</td>\n",
       "      <td>0.456</td>\n",
       "      <td>0.389</td>\n",
       "    </tr>\n",
       "    <tr>\n",
       "      <th>14</th>\n",
       "      <td>MIT-BIH-VE_ECG_Subject425</td>\n",
       "      <td>0.381</td>\n",
       "      <td>0.438</td>\n",
       "      <td>0.115</td>\n",
       "    </tr>\n",
       "    <tr>\n",
       "      <th>15</th>\n",
       "      <td>MIT-BIH-VE_ECG_Subject425</td>\n",
       "      <td>0.381</td>\n",
       "      <td>0.438</td>\n",
       "      <td>0.115</td>\n",
       "    </tr>\n",
       "    <tr>\n",
       "      <th>16</th>\n",
       "      <td>MIT-BIH-VE_ECG_Subject426</td>\n",
       "      <td>0.574</td>\n",
       "      <td>0.369</td>\n",
       "      <td>0.179</td>\n",
       "    </tr>\n",
       "    <tr>\n",
       "      <th>17</th>\n",
       "      <td>MIT-BIH-VE_ECG_Subject426</td>\n",
       "      <td>0.574</td>\n",
       "      <td>0.369</td>\n",
       "      <td>0.179</td>\n",
       "    </tr>\n",
       "    <tr>\n",
       "      <th>18</th>\n",
       "      <td>MIT-BIH-VE_ECG_Subject427</td>\n",
       "      <td>0.739</td>\n",
       "      <td>0.286</td>\n",
       "      <td>0.346</td>\n",
       "    </tr>\n",
       "    <tr>\n",
       "      <th>19</th>\n",
       "      <td>MIT-BIH-VE_ECG_Subject427</td>\n",
       "      <td>0.739</td>\n",
       "      <td>0.286</td>\n",
       "      <td>0.346</td>\n",
       "    </tr>\n",
       "    <tr>\n",
       "      <th>20</th>\n",
       "      <td>MIT-BIH-VE_ECG_Subject428</td>\n",
       "      <td>0.328</td>\n",
       "      <td>0.181</td>\n",
       "      <td>0.642</td>\n",
       "    </tr>\n",
       "    <tr>\n",
       "      <th>21</th>\n",
       "      <td>MIT-BIH-VE_ECG_Subject428</td>\n",
       "      <td>0.328</td>\n",
       "      <td>0.181</td>\n",
       "      <td>0.642</td>\n",
       "    </tr>\n",
       "    <tr>\n",
       "      <th>22</th>\n",
       "      <td>MIT-BIH-VE_ECG_Subject429</td>\n",
       "      <td>0.642</td>\n",
       "      <td>0.430</td>\n",
       "      <td>0.187</td>\n",
       "    </tr>\n",
       "    <tr>\n",
       "      <th>23</th>\n",
       "      <td>MIT-BIH-VE_ECG_Subject429</td>\n",
       "      <td>0.642</td>\n",
       "      <td>0.430</td>\n",
       "      <td>0.187</td>\n",
       "    </tr>\n",
       "    <tr>\n",
       "      <th>24</th>\n",
       "      <td>MIT-BIH-VE_ECG_Subject430</td>\n",
       "      <td>0.594</td>\n",
       "      <td>0.409</td>\n",
       "      <td>0.096</td>\n",
       "    </tr>\n",
       "    <tr>\n",
       "      <th>25</th>\n",
       "      <td>MIT-BIH-VE_ECG_Subject430</td>\n",
       "      <td>0.594</td>\n",
       "      <td>0.409</td>\n",
       "      <td>0.096</td>\n",
       "    </tr>\n",
       "    <tr>\n",
       "      <th>26</th>\n",
       "      <td>MIT-BIH-VE_ECG_Subject602</td>\n",
       "      <td>0.413</td>\n",
       "      <td>0.437</td>\n",
       "      <td>0.208</td>\n",
       "    </tr>\n",
       "    <tr>\n",
       "      <th>27</th>\n",
       "      <td>MIT-BIH-VE_ECG_Subject602</td>\n",
       "      <td>0.413</td>\n",
       "      <td>0.437</td>\n",
       "      <td>0.208</td>\n",
       "    </tr>\n",
       "    <tr>\n",
       "      <th>28</th>\n",
       "      <td>MIT-BIH-VE_ECG_Subject605</td>\n",
       "      <td>0.479</td>\n",
       "      <td>0.098</td>\n",
       "      <td>0.657</td>\n",
       "    </tr>\n",
       "    <tr>\n",
       "      <th>29</th>\n",
       "      <td>MIT-BIH-VE_ECG_Subject605</td>\n",
       "      <td>0.479</td>\n",
       "      <td>0.098</td>\n",
       "      <td>0.657</td>\n",
       "    </tr>\n",
       "    <tr>\n",
       "      <th>30</th>\n",
       "      <td>MIT-BIH-VE_ECG_Subject607</td>\n",
       "      <td>0.304</td>\n",
       "      <td>0.215</td>\n",
       "      <td>0.494</td>\n",
       "    </tr>\n",
       "    <tr>\n",
       "      <th>31</th>\n",
       "      <td>MIT-BIH-VE_ECG_Subject607</td>\n",
       "      <td>0.304</td>\n",
       "      <td>0.215</td>\n",
       "      <td>0.494</td>\n",
       "    </tr>\n",
       "    <tr>\n",
       "      <th>32</th>\n",
       "      <td>MIT-BIH-VE_ECG_Subject609</td>\n",
       "      <td>0.536</td>\n",
       "      <td>0.364</td>\n",
       "      <td>0.335</td>\n",
       "    </tr>\n",
       "    <tr>\n",
       "      <th>33</th>\n",
       "      <td>MIT-BIH-VE_ECG_Subject609</td>\n",
       "      <td>0.536</td>\n",
       "      <td>0.364</td>\n",
       "      <td>0.335</td>\n",
       "    </tr>\n",
       "    <tr>\n",
       "      <th>34</th>\n",
       "      <td>MIT-BIH-VE_ECG_Subject610</td>\n",
       "      <td>0.658</td>\n",
       "      <td>0.523</td>\n",
       "      <td>0.087</td>\n",
       "    </tr>\n",
       "    <tr>\n",
       "      <th>35</th>\n",
       "      <td>MIT-BIH-VE_ECG_Subject610</td>\n",
       "      <td>0.658</td>\n",
       "      <td>0.523</td>\n",
       "      <td>0.087</td>\n",
       "    </tr>\n",
       "    <tr>\n",
       "      <th>36</th>\n",
       "      <td>MIT-BIH-VE_ECG_Subject611</td>\n",
       "      <td>0.421</td>\n",
       "      <td>0.379</td>\n",
       "      <td>0.510</td>\n",
       "    </tr>\n",
       "    <tr>\n",
       "      <th>37</th>\n",
       "      <td>MIT-BIH-VE_ECG_Subject611</td>\n",
       "      <td>0.421</td>\n",
       "      <td>0.379</td>\n",
       "      <td>0.510</td>\n",
       "    </tr>\n",
       "    <tr>\n",
       "      <th>38</th>\n",
       "      <td>MIT-BIH-VE_ECG_Subject612</td>\n",
       "      <td>0.557</td>\n",
       "      <td>0.106</td>\n",
       "      <td>0.696</td>\n",
       "    </tr>\n",
       "    <tr>\n",
       "      <th>39</th>\n",
       "      <td>MIT-BIH-VE_ECG_Subject612</td>\n",
       "      <td>0.557</td>\n",
       "      <td>0.106</td>\n",
       "      <td>0.696</td>\n",
       "    </tr>\n",
       "    <tr>\n",
       "      <th>40</th>\n",
       "      <td>MIT-BIH-VE_ECG_Subject614</td>\n",
       "      <td>0.697</td>\n",
       "      <td>0.551</td>\n",
       "      <td>0.171</td>\n",
       "    </tr>\n",
       "    <tr>\n",
       "      <th>41</th>\n",
       "      <td>MIT-BIH-VE_ECG_Subject614</td>\n",
       "      <td>0.697</td>\n",
       "      <td>0.551</td>\n",
       "      <td>0.171</td>\n",
       "    </tr>\n",
       "    <tr>\n",
       "      <th>42</th>\n",
       "      <td>MIT-BIH-VE_ECG_Subject615</td>\n",
       "      <td>0.570</td>\n",
       "      <td>0.471</td>\n",
       "      <td>0.272</td>\n",
       "    </tr>\n",
       "    <tr>\n",
       "      <th>43</th>\n",
       "      <td>MIT-BIH-VE_ECG_Subject615</td>\n",
       "      <td>0.570</td>\n",
       "      <td>0.471</td>\n",
       "      <td>0.272</td>\n",
       "    </tr>\n",
       "  </tbody>\n",
       "</table>\n",
       "</div>"
      ],
      "text/plain": [
       "                      dataset  ClaSS  FLOSS  Window\n",
       "0   MIT-BIH-VE_ECG_Subject418  0.466  0.593   0.102\n",
       "1   MIT-BIH-VE_ECG_Subject418  0.466  0.593   0.102\n",
       "2   MIT-BIH-VE_ECG_Subject419  0.387  0.391   0.116\n",
       "3   MIT-BIH-VE_ECG_Subject419  0.387  0.391   0.116\n",
       "4   MIT-BIH-VE_ECG_Subject420  0.555  0.289   0.351\n",
       "5   MIT-BIH-VE_ECG_Subject420  0.555  0.289   0.351\n",
       "6   MIT-BIH-VE_ECG_Subject421  0.416  0.358   0.092\n",
       "7   MIT-BIH-VE_ECG_Subject421  0.416  0.358   0.092\n",
       "8   MIT-BIH-VE_ECG_Subject422  0.467  0.425   0.137\n",
       "9   MIT-BIH-VE_ECG_Subject422  0.467  0.425   0.137\n",
       "10  MIT-BIH-VE_ECG_Subject423  0.662  0.488   0.207\n",
       "11  MIT-BIH-VE_ECG_Subject423  0.662  0.488   0.207\n",
       "12  MIT-BIH-VE_ECG_Subject424  0.484  0.456   0.389\n",
       "13  MIT-BIH-VE_ECG_Subject424  0.484  0.456   0.389\n",
       "14  MIT-BIH-VE_ECG_Subject425  0.381  0.438   0.115\n",
       "15  MIT-BIH-VE_ECG_Subject425  0.381  0.438   0.115\n",
       "16  MIT-BIH-VE_ECG_Subject426  0.574  0.369   0.179\n",
       "17  MIT-BIH-VE_ECG_Subject426  0.574  0.369   0.179\n",
       "18  MIT-BIH-VE_ECG_Subject427  0.739  0.286   0.346\n",
       "19  MIT-BIH-VE_ECG_Subject427  0.739  0.286   0.346\n",
       "20  MIT-BIH-VE_ECG_Subject428  0.328  0.181   0.642\n",
       "21  MIT-BIH-VE_ECG_Subject428  0.328  0.181   0.642\n",
       "22  MIT-BIH-VE_ECG_Subject429  0.642  0.430   0.187\n",
       "23  MIT-BIH-VE_ECG_Subject429  0.642  0.430   0.187\n",
       "24  MIT-BIH-VE_ECG_Subject430  0.594  0.409   0.096\n",
       "25  MIT-BIH-VE_ECG_Subject430  0.594  0.409   0.096\n",
       "26  MIT-BIH-VE_ECG_Subject602  0.413  0.437   0.208\n",
       "27  MIT-BIH-VE_ECG_Subject602  0.413  0.437   0.208\n",
       "28  MIT-BIH-VE_ECG_Subject605  0.479  0.098   0.657\n",
       "29  MIT-BIH-VE_ECG_Subject605  0.479  0.098   0.657\n",
       "30  MIT-BIH-VE_ECG_Subject607  0.304  0.215   0.494\n",
       "31  MIT-BIH-VE_ECG_Subject607  0.304  0.215   0.494\n",
       "32  MIT-BIH-VE_ECG_Subject609  0.536  0.364   0.335\n",
       "33  MIT-BIH-VE_ECG_Subject609  0.536  0.364   0.335\n",
       "34  MIT-BIH-VE_ECG_Subject610  0.658  0.523   0.087\n",
       "35  MIT-BIH-VE_ECG_Subject610  0.658  0.523   0.087\n",
       "36  MIT-BIH-VE_ECG_Subject611  0.421  0.379   0.510\n",
       "37  MIT-BIH-VE_ECG_Subject611  0.421  0.379   0.510\n",
       "38  MIT-BIH-VE_ECG_Subject612  0.557  0.106   0.696\n",
       "39  MIT-BIH-VE_ECG_Subject612  0.557  0.106   0.696\n",
       "40  MIT-BIH-VE_ECG_Subject614  0.697  0.551   0.171\n",
       "41  MIT-BIH-VE_ECG_Subject614  0.697  0.551   0.171\n",
       "42  MIT-BIH-VE_ECG_Subject615  0.570  0.471   0.272\n",
       "43  MIT-BIH-VE_ECG_Subject615  0.570  0.471   0.272"
      ]
     },
     "execution_count": 5,
     "metadata": {},
     "output_type": "execute_result"
    }
   ],
   "source": [
    "competitors = [\"ClaSS\", \"FLOSS\", \"Window\"] # \"BOCD\", \n",
    "dataset = \"MIT-BIH-VE\"\n",
    "methods = list()\n",
    "\n",
    "for candidate_name in competitors:\n",
    "    methods.append((candidate_name, f\"{candidate_name}.csv.gz\"))\n",
    "\n",
    "for idx, (name, file_name) in enumerate(methods):\n",
    "    methods[idx] = name, pd.read_csv(f\"../../experiments/competitor_{dataset}/{file_name}\", usecols=[\"dataset\", eval_score], compression=\"gzip\")\n",
    "    \n",
    "df_scores = pd.DataFrame()\n",
    "\n",
    "for name, df in methods:\n",
    "    df_scores[\"dataset\"] = df.dataset\n",
    "    df_scores[name] = df[eval_score]\n",
    "    \n",
    "df_scores"
   ]
  },
  {
   "cell_type": "markdown",
   "metadata": {},
   "source": [
    "Let's calculate the mean/median/std score."
   ]
  },
  {
   "cell_type": "code",
   "execution_count": 6,
   "metadata": {},
   "outputs": [
    {
     "name": "stderr",
     "output_type": "stream",
     "text": [
      "/var/folders/5_/fv_bzq1n4n76j6l_jqgndj6c0000gn/T/ipykernel_1743/2219294936.py:1: FutureWarning: Dropping of nuisance columns in DataFrame reductions (with 'numeric_only=None') is deprecated; in a future version this will raise TypeError.  Select only valid columns before calling the reduction.\n",
      "  df_scores.mean(axis=0).round(3)\n"
     ]
    },
    {
     "data": {
      "text/plain": [
       "ClaSS     0.515\n",
       "FLOSS     0.375\n",
       "Window    0.290\n",
       "dtype: float64"
      ]
     },
     "execution_count": 6,
     "metadata": {},
     "output_type": "execute_result"
    }
   ],
   "source": [
    "df_scores.mean(axis=0).round(3)"
   ]
  },
  {
   "cell_type": "code",
   "execution_count": 7,
   "metadata": {},
   "outputs": [
    {
     "name": "stderr",
     "output_type": "stream",
     "text": [
      "/var/folders/5_/fv_bzq1n4n76j6l_jqgndj6c0000gn/T/ipykernel_1743/1729043111.py:1: FutureWarning: Dropping of nuisance columns in DataFrame reductions (with 'numeric_only=None') is deprecated; in a future version this will raise TypeError.  Select only valid columns before calling the reduction.\n",
      "  df_scores.median(axis=0).round(3)\n"
     ]
    },
    {
     "data": {
      "text/plain": [
       "ClaSS     0.510\n",
       "FLOSS     0.400\n",
       "Window    0.208\n",
       "dtype: float64"
      ]
     },
     "execution_count": 7,
     "metadata": {},
     "output_type": "execute_result"
    }
   ],
   "source": [
    "df_scores.median(axis=0).round(3)"
   ]
  },
  {
   "cell_type": "code",
   "execution_count": 8,
   "metadata": {},
   "outputs": [
    {
     "name": "stderr",
     "output_type": "stream",
     "text": [
      "/var/folders/5_/fv_bzq1n4n76j6l_jqgndj6c0000gn/T/ipykernel_1743/1084607075.py:1: FutureWarning: Dropping of nuisance columns in DataFrame reductions (with 'numeric_only=None') is deprecated; in a future version this will raise TypeError.  Select only valid columns before calling the reduction.\n",
      "  df_scores.std(axis=0).round(3)\n"
     ]
    },
    {
     "data": {
      "text/plain": [
       "ClaSS     0.120\n",
       "FLOSS     0.132\n",
       "Window    0.195\n",
       "dtype: float64"
      ]
     },
     "execution_count": 8,
     "metadata": {},
     "output_type": "execute_result"
    }
   ],
   "source": [
    "df_scores.std(axis=0).round(3)"
   ]
  },
  {
   "cell_type": "markdown",
   "metadata": {},
   "source": [
    "Let's compute the wins per method."
   ]
  },
  {
   "cell_type": "code",
   "execution_count": 9,
   "metadata": {},
   "outputs": [],
   "source": [
    "ranks = df_scores.rank(1, method = 'min', ascending=False)\n",
    "means = np.array(ranks.mean(axis=0))"
   ]
  },
  {
   "cell_type": "code",
   "execution_count": 10,
   "metadata": {
    "scrolled": true
   },
   "outputs": [
    {
     "name": "stdout",
     "output_type": "stream",
     "text": [
      "ClaSS:wins=26 rank=1.40909\n",
      "FLOSS:wins=8 rank=2.13636\n",
      "Window:wins=10 rank=2.45455\n"
     ]
    }
   ],
   "source": [
    "for mean, name in zip(means, df_scores.columns[1:]):\n",
    "    print(f\"{name}:wins={ranks[ranks[name] == 1].shape[0]} rank={np.round(mean, 5)}\")"
   ]
  },
  {
   "cell_type": "markdown",
   "metadata": {},
   "source": [
    "Let's plot and output the ranks."
   ]
  },
  {
   "cell_type": "code",
   "execution_count": 11,
   "metadata": {},
   "outputs": [
    {
     "data": {
      "image/png": "[encoded data removed]",
      "text/plain": [
       "<Figure size 288x104.4 with 1 Axes>"
      ]
     },
     "metadata": {},
     "output_type": "display_data"
    }
   ],
   "source": [
    "cd = Orange.evaluation.scoring.compute_CD(means, df_scores.shape[0])\n",
    "Orange.evaluation.scoring.graph_ranks(means, df_scores.columns[1:], cd=cd, reverse=True, width=4, filename=f\"../../figures/cd_comparative_{dataset}.pdf\") # "
   ]
  },
  {
   "cell_type": "markdown",
   "metadata": {},
   "source": [
    "Let's compute wins/losses against ClaSP."
   ]
  },
  {
   "cell_type": "code",
   "execution_count": 12,
   "metadata": {},
   "outputs": [
    {
     "name": "stdout",
     "output_type": "stream",
     "text": [
      "ClaSS vs FLOSS: (wins/ties/losses): 36/0/8\n",
      "ClaSS vs Window: (wins/ties/losses): 34/0/10\n"
     ]
    }
   ],
   "source": [
    "selection = \"ClaSS\"\n",
    "\n",
    "for rival in df_scores.columns[1:]:\n",
    "    if rival == selection: continue\n",
    "    \n",
    "    df_pair = df_scores[[selection, rival]]\n",
    "    pair_ranks = df_pair.rank(1, method = 'min', ascending=False)\n",
    "    \n",
    "    wins = pair_ranks[(pair_ranks[selection] == 1) & (pair_ranks[rival] == 2)].shape[0]\n",
    "    losses = pair_ranks[(pair_ranks[selection] == 2) & (pair_ranks[rival] == 1)].shape[0]\n",
    "    ties = pair_ranks[(pair_ranks[selection] == 1) & (pair_ranks[rival] == 1)].shape[0]\n",
    "    \n",
    "    assert wins + losses + ties == pair_ranks.shape[0]\n",
    "    \n",
    "    print(f\"{selection} vs {rival}: (wins/ties/losses): {wins}/{ties}/{losses}\")"
   ]
  },
  {
   "cell_type": "code",
   "execution_count": 13,
   "metadata": {},
   "outputs": [
    {
     "data": {
      "image/png": "[encoded data removed]",
      "text/plain": [
       "<Figure size 720x360 with 1 Axes>"
      ]
     },
     "metadata": {},
     "output_type": "display_data"
    }
   ],
   "source": [
    "fontsize = 24\n",
    "_, ax = plt.subplots(figsize=(10,5))\n",
    "\n",
    "df_scores.boxplot(ax=ax, rot=90)\n",
    "ax.set_ylabel(\"Covering\", fontsize=fontsize)\n",
    "\n",
    "for tick in ax.xaxis.get_major_ticks():\n",
    "    tick.label.set_fontsize(fontsize)\n",
    "\n",
    "for tick in ax.yaxis.get_major_ticks():\n",
    "    tick.label.set_fontsize(fontsize)\n",
    "    \n",
    "ax.set_xticklabels(df_scores.columns[1:], rotation=45, ha=\"right\")\n",
    "ax.set_yticks(np.round(np.arange(0, 1.0+.2,.2),1))\n",
    "    \n",
    "plt.savefig(f\"../../figures/bp_comparative_{dataset}.pdf\", bbox_inches=\"tight\") "
   ]
  },
  {
   "cell_type": "code",
   "execution_count": null,
   "metadata": {},
   "outputs": [],
   "source": []
  }
 ],
 "metadata": {
  "kernelspec": {
   "display_name": "Python 3 (ipykernel)",
   "language": "python",
   "name": "python3"
  },
  "language_info": {
   "codemirror_mode": {
    "name": "ipython",
    "version": 3
   },
   "file_extension": ".py",
   "mimetype": "text/x-python",
   "name": "python",
   "nbconvert_exporter": "python",
   "pygments_lexer": "ipython3",
   "version": "3.8.12"
  }
 },
 "nbformat": 4,
 "nbformat_minor": 4
}
