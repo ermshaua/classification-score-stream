{
 "cells": [
  {
   "cell_type": "markdown",
   "metadata": {},
   "source": [
    "# Comparative Analysis\n",
    "In this notebook, we compare ClaSS with competitors."
   ]
  },
  {
   "cell_type": "code",
   "execution_count": 1,
   "metadata": {},
   "outputs": [],
   "source": [
    "import matplotlib\n",
    "\n",
    "matplotlib.rcParams['pdf.fonttype'] = 42\n",
    "matplotlib.rcParams['ps.fonttype'] = 42"
   ]
  },
  {
   "cell_type": "code",
   "execution_count": 2,
   "metadata": {},
   "outputs": [],
   "source": [
    "import numpy as np\n",
    "import pandas as pd\n",
    "import daproli as dp\n",
    "\n",
    "import pandas as pd\n",
    "pd.set_option('display.max_rows', None)\n",
    "\n",
    "import matplotlib.pyplot as plt\n",
    "import seaborn as sns\n",
    "\n",
    "sns.set_theme()\n",
    "sns.set_color_codes()\n",
    "\n",
    "import Orange\n",
    "import sys\n",
    "sys.path.append(\"../../\")\n",
    "\n",
    "from tqdm import tqdm"
   ]
  },
  {
   "cell_type": "code",
   "execution_count": 3,
   "metadata": {},
   "outputs": [],
   "source": [
    "from src.visualizer import plot_profile, plot_profile_with_ts"
   ]
  },
  {
   "cell_type": "markdown",
   "metadata": {},
   "source": [
    "Let's choose a score for evaluation (F1 or Covering)."
   ]
  },
  {
   "cell_type": "code",
   "execution_count": 4,
   "metadata": {},
   "outputs": [],
   "source": [
    "eval_score = \"covering_score\""
   ]
  },
  {
   "cell_type": "markdown",
   "metadata": {},
   "source": [
    "Let's load the scores from the different methods."
   ]
  },
  {
   "cell_type": "code",
   "execution_count": 5,
   "metadata": {},
   "outputs": [
    {
     "data": {
      "text/html": [
       "<div>\n",
       "<style scoped>\n",
       "    .dataframe tbody tr th:only-of-type {\n",
       "        vertical-align: middle;\n",
       "    }\n",
       "\n",
       "    .dataframe tbody tr th {\n",
       "        vertical-align: top;\n",
       "    }\n",
       "\n",
       "    .dataframe thead th {\n",
       "        text-align: right;\n",
       "    }\n",
       "</style>\n",
       "<table border=\"1\" class=\"dataframe\">\n",
       "  <thead>\n",
       "    <tr style=\"text-align: right;\">\n",
       "      <th></th>\n",
       "      <th>dataset</th>\n",
       "      <th>ClaSS</th>\n",
       "      <th>FLOSS</th>\n",
       "      <th>BOCD</th>\n",
       "      <th>Window</th>\n",
       "    </tr>\n",
       "  </thead>\n",
       "  <tbody>\n",
       "    <tr>\n",
       "      <th>0</th>\n",
       "      <td>Cane</td>\n",
       "      <td>0.831</td>\n",
       "      <td>0.637</td>\n",
       "      <td>0.503</td>\n",
       "      <td>0.507</td>\n",
       "    </tr>\n",
       "    <tr>\n",
       "      <th>1</th>\n",
       "      <td>DutchFactory</td>\n",
       "      <td>0.998</td>\n",
       "      <td>0.973</td>\n",
       "      <td>0.626</td>\n",
       "      <td>0.033</td>\n",
       "    </tr>\n",
       "    <tr>\n",
       "      <th>2</th>\n",
       "      <td>EEGRat</td>\n",
       "      <td>0.885</td>\n",
       "      <td>0.500</td>\n",
       "      <td>0.851</td>\n",
       "      <td>0.616</td>\n",
       "    </tr>\n",
       "    <tr>\n",
       "      <th>3</th>\n",
       "      <td>EEGRat2</td>\n",
       "      <td>0.739</td>\n",
       "      <td>0.500</td>\n",
       "      <td>0.516</td>\n",
       "      <td>0.856</td>\n",
       "    </tr>\n",
       "    <tr>\n",
       "      <th>4</th>\n",
       "      <td>Fetal2013</td>\n",
       "      <td>0.781</td>\n",
       "      <td>0.553</td>\n",
       "      <td>0.333</td>\n",
       "      <td>0.064</td>\n",
       "    </tr>\n",
       "    <tr>\n",
       "      <th>5</th>\n",
       "      <td>GrandMalSeizures</td>\n",
       "      <td>0.542</td>\n",
       "      <td>0.587</td>\n",
       "      <td>0.506</td>\n",
       "      <td>0.007</td>\n",
       "    </tr>\n",
       "    <tr>\n",
       "      <th>6</th>\n",
       "      <td>GrandMalSeizures2</td>\n",
       "      <td>0.761</td>\n",
       "      <td>0.508</td>\n",
       "      <td>0.508</td>\n",
       "      <td>0.013</td>\n",
       "    </tr>\n",
       "    <tr>\n",
       "      <th>7</th>\n",
       "      <td>GreatBarbet1</td>\n",
       "      <td>0.877</td>\n",
       "      <td>0.531</td>\n",
       "      <td>0.592</td>\n",
       "      <td>0.355</td>\n",
       "    </tr>\n",
       "    <tr>\n",
       "      <th>8</th>\n",
       "      <td>GreatBarbet2</td>\n",
       "      <td>0.817</td>\n",
       "      <td>0.792</td>\n",
       "      <td>0.729</td>\n",
       "      <td>0.355</td>\n",
       "    </tr>\n",
       "    <tr>\n",
       "      <th>9</th>\n",
       "      <td>InsectEPG1</td>\n",
       "      <td>0.751</td>\n",
       "      <td>0.255</td>\n",
       "      <td>0.657</td>\n",
       "      <td>0.653</td>\n",
       "    </tr>\n",
       "    <tr>\n",
       "      <th>10</th>\n",
       "      <td>InsectEPG2</td>\n",
       "      <td>0.981</td>\n",
       "      <td>0.925</td>\n",
       "      <td>0.715</td>\n",
       "      <td>0.705</td>\n",
       "    </tr>\n",
       "    <tr>\n",
       "      <th>11</th>\n",
       "      <td>InsectEPG3</td>\n",
       "      <td>0.997</td>\n",
       "      <td>0.894</td>\n",
       "      <td>0.641</td>\n",
       "      <td>0.631</td>\n",
       "    </tr>\n",
       "    <tr>\n",
       "      <th>12</th>\n",
       "      <td>InsectEPG4</td>\n",
       "      <td>0.987</td>\n",
       "      <td>0.537</td>\n",
       "      <td>0.728</td>\n",
       "      <td>0.723</td>\n",
       "    </tr>\n",
       "    <tr>\n",
       "      <th>13</th>\n",
       "      <td>NogunGun</td>\n",
       "      <td>0.802</td>\n",
       "      <td>0.823</td>\n",
       "      <td>0.518</td>\n",
       "      <td>0.458</td>\n",
       "    </tr>\n",
       "    <tr>\n",
       "      <th>14</th>\n",
       "      <td>PigInternalBleedingDatasetAirwayPressure</td>\n",
       "      <td>0.483</td>\n",
       "      <td>0.500</td>\n",
       "      <td>0.223</td>\n",
       "      <td>0.500</td>\n",
       "    </tr>\n",
       "    <tr>\n",
       "      <th>15</th>\n",
       "      <td>PigInternalBleedingDatasetArtPressureFluidFilled</td>\n",
       "      <td>0.995</td>\n",
       "      <td>0.987</td>\n",
       "      <td>0.500</td>\n",
       "      <td>0.500</td>\n",
       "    </tr>\n",
       "    <tr>\n",
       "      <th>16</th>\n",
       "      <td>PigInternalBleedingDatasetCVP</td>\n",
       "      <td>0.986</td>\n",
       "      <td>0.929</td>\n",
       "      <td>0.594</td>\n",
       "      <td>0.500</td>\n",
       "    </tr>\n",
       "    <tr>\n",
       "      <th>17</th>\n",
       "      <td>Powerdemand</td>\n",
       "      <td>0.335</td>\n",
       "      <td>0.278</td>\n",
       "      <td>0.515</td>\n",
       "      <td>0.023</td>\n",
       "    </tr>\n",
       "    <tr>\n",
       "      <th>18</th>\n",
       "      <td>PulsusParadoxusECG1</td>\n",
       "      <td>1.000</td>\n",
       "      <td>0.510</td>\n",
       "      <td>0.510</td>\n",
       "      <td>0.510</td>\n",
       "    </tr>\n",
       "    <tr>\n",
       "      <th>19</th>\n",
       "      <td>PulsusParadoxusECG2</td>\n",
       "      <td>0.824</td>\n",
       "      <td>0.676</td>\n",
       "      <td>0.510</td>\n",
       "      <td>0.510</td>\n",
       "    </tr>\n",
       "    <tr>\n",
       "      <th>20</th>\n",
       "      <td>PulsusParadoxusSP02</td>\n",
       "      <td>0.665</td>\n",
       "      <td>0.808</td>\n",
       "      <td>0.510</td>\n",
       "      <td>0.510</td>\n",
       "    </tr>\n",
       "    <tr>\n",
       "      <th>21</th>\n",
       "      <td>RoboticDogActivityX</td>\n",
       "      <td>0.996</td>\n",
       "      <td>0.666</td>\n",
       "      <td>0.412</td>\n",
       "      <td>0.882</td>\n",
       "    </tr>\n",
       "    <tr>\n",
       "      <th>22</th>\n",
       "      <td>RoboticDogActivityY</td>\n",
       "      <td>0.997</td>\n",
       "      <td>0.711</td>\n",
       "      <td>0.374</td>\n",
       "      <td>0.897</td>\n",
       "    </tr>\n",
       "    <tr>\n",
       "      <th>23</th>\n",
       "      <td>RoboticDogActivityZ</td>\n",
       "      <td>0.656</td>\n",
       "      <td>0.716</td>\n",
       "      <td>0.418</td>\n",
       "      <td>0.537</td>\n",
       "    </tr>\n",
       "    <tr>\n",
       "      <th>24</th>\n",
       "      <td>SimpleSynthetic</td>\n",
       "      <td>0.995</td>\n",
       "      <td>0.344</td>\n",
       "      <td>0.344</td>\n",
       "      <td>0.344</td>\n",
       "    </tr>\n",
       "    <tr>\n",
       "      <th>25</th>\n",
       "      <td>SuddenCardiacDeath1</td>\n",
       "      <td>0.683</td>\n",
       "      <td>0.465</td>\n",
       "      <td>0.415</td>\n",
       "      <td>0.034</td>\n",
       "    </tr>\n",
       "    <tr>\n",
       "      <th>26</th>\n",
       "      <td>SuddenCardiacDeath2</td>\n",
       "      <td>0.992</td>\n",
       "      <td>0.475</td>\n",
       "      <td>0.605</td>\n",
       "      <td>0.024</td>\n",
       "    </tr>\n",
       "    <tr>\n",
       "      <th>27</th>\n",
       "      <td>SuddenCardiacDeath3</td>\n",
       "      <td>0.942</td>\n",
       "      <td>0.484</td>\n",
       "      <td>0.605</td>\n",
       "      <td>0.024</td>\n",
       "    </tr>\n",
       "    <tr>\n",
       "      <th>28</th>\n",
       "      <td>TiltABP</td>\n",
       "      <td>0.445</td>\n",
       "      <td>0.288</td>\n",
       "      <td>0.531</td>\n",
       "      <td>0.054</td>\n",
       "    </tr>\n",
       "    <tr>\n",
       "      <th>29</th>\n",
       "      <td>TiltECG</td>\n",
       "      <td>0.916</td>\n",
       "      <td>0.487</td>\n",
       "      <td>0.531</td>\n",
       "      <td>0.074</td>\n",
       "    </tr>\n",
       "    <tr>\n",
       "      <th>30</th>\n",
       "      <td>WalkJogRun1</td>\n",
       "      <td>0.864</td>\n",
       "      <td>0.412</td>\n",
       "      <td>0.337</td>\n",
       "      <td>0.715</td>\n",
       "    </tr>\n",
       "    <tr>\n",
       "      <th>31</th>\n",
       "      <td>WalkJogRun2</td>\n",
       "      <td>0.830</td>\n",
       "      <td>0.657</td>\n",
       "      <td>0.337</td>\n",
       "      <td>0.337</td>\n",
       "    </tr>\n",
       "  </tbody>\n",
       "</table>\n",
       "</div>"
      ],
      "text/plain": [
       "                                             dataset  ClaSS  FLOSS   BOCD  \\\n",
       "0                                               Cane  0.831  0.637  0.503   \n",
       "1                                       DutchFactory  0.998  0.973  0.626   \n",
       "2                                             EEGRat  0.885  0.500  0.851   \n",
       "3                                            EEGRat2  0.739  0.500  0.516   \n",
       "4                                          Fetal2013  0.781  0.553  0.333   \n",
       "5                                   GrandMalSeizures  0.542  0.587  0.506   \n",
       "6                                  GrandMalSeizures2  0.761  0.508  0.508   \n",
       "7                                       GreatBarbet1  0.877  0.531  0.592   \n",
       "8                                       GreatBarbet2  0.817  0.792  0.729   \n",
       "9                                         InsectEPG1  0.751  0.255  0.657   \n",
       "10                                        InsectEPG2  0.981  0.925  0.715   \n",
       "11                                        InsectEPG3  0.997  0.894  0.641   \n",
       "12                                        InsectEPG4  0.987  0.537  0.728   \n",
       "13                                          NogunGun  0.802  0.823  0.518   \n",
       "14          PigInternalBleedingDatasetAirwayPressure  0.483  0.500  0.223   \n",
       "15  PigInternalBleedingDatasetArtPressureFluidFilled  0.995  0.987  0.500   \n",
       "16                     PigInternalBleedingDatasetCVP  0.986  0.929  0.594   \n",
       "17                                       Powerdemand  0.335  0.278  0.515   \n",
       "18                               PulsusParadoxusECG1  1.000  0.510  0.510   \n",
       "19                               PulsusParadoxusECG2  0.824  0.676  0.510   \n",
       "20                               PulsusParadoxusSP02  0.665  0.808  0.510   \n",
       "21                               RoboticDogActivityX  0.996  0.666  0.412   \n",
       "22                               RoboticDogActivityY  0.997  0.711  0.374   \n",
       "23                               RoboticDogActivityZ  0.656  0.716  0.418   \n",
       "24                                   SimpleSynthetic  0.995  0.344  0.344   \n",
       "25                               SuddenCardiacDeath1  0.683  0.465  0.415   \n",
       "26                               SuddenCardiacDeath2  0.992  0.475  0.605   \n",
       "27                               SuddenCardiacDeath3  0.942  0.484  0.605   \n",
       "28                                           TiltABP  0.445  0.288  0.531   \n",
       "29                                           TiltECG  0.916  0.487  0.531   \n",
       "30                                       WalkJogRun1  0.864  0.412  0.337   \n",
       "31                                       WalkJogRun2  0.830  0.657  0.337   \n",
       "\n",
       "    Window  \n",
       "0    0.507  \n",
       "1    0.033  \n",
       "2    0.616  \n",
       "3    0.856  \n",
       "4    0.064  \n",
       "5    0.007  \n",
       "6    0.013  \n",
       "7    0.355  \n",
       "8    0.355  \n",
       "9    0.653  \n",
       "10   0.705  \n",
       "11   0.631  \n",
       "12   0.723  \n",
       "13   0.458  \n",
       "14   0.500  \n",
       "15   0.500  \n",
       "16   0.500  \n",
       "17   0.023  \n",
       "18   0.510  \n",
       "19   0.510  \n",
       "20   0.510  \n",
       "21   0.882  \n",
       "22   0.897  \n",
       "23   0.537  \n",
       "24   0.344  \n",
       "25   0.034  \n",
       "26   0.024  \n",
       "27   0.024  \n",
       "28   0.054  \n",
       "29   0.074  \n",
       "30   0.715  \n",
       "31   0.337  "
      ]
     },
     "execution_count": 5,
     "metadata": {},
     "output_type": "execute_result"
    }
   ],
   "source": [
    "competitors = [\"ClaSS\", \"FLOSS\", \"BOCD\", \"Window\"]\n",
    "dataset = \"UTSA\"\n",
    "methods = list()\n",
    "\n",
    "for candidate_name in competitors:\n",
    "    methods.append((candidate_name, f\"{candidate_name}.csv.gz\"))\n",
    "\n",
    "for idx, (name, file_name) in enumerate(methods):\n",
    "    methods[idx] = name, pd.read_csv(f\"../../experiments/competitor_{dataset}/{file_name}\", usecols=[\"dataset\", eval_score], compression=\"gzip\")\n",
    "    \n",
    "df_scores = pd.DataFrame()\n",
    "\n",
    "for name, df in methods:\n",
    "    df_scores[\"dataset\"] = df.dataset\n",
    "    df_scores[name] = df[eval_score]\n",
    "    \n",
    "df_scores"
   ]
  },
  {
   "cell_type": "markdown",
   "metadata": {},
   "source": [
    "Let's calculate the mean/median/std score."
   ]
  },
  {
   "cell_type": "code",
   "execution_count": 6,
   "metadata": {},
   "outputs": [
    {
     "name": "stderr",
     "output_type": "stream",
     "text": [
      "/var/folders/5_/fv_bzq1n4n76j6l_jqgndj6c0000gn/T/ipykernel_1997/2219294936.py:1: FutureWarning: Dropping of nuisance columns in DataFrame reductions (with 'numeric_only=None') is deprecated; in a future version this will raise TypeError.  Select only valid columns before calling the reduction.\n",
      "  df_scores.mean(axis=0).round(3)\n"
     ]
    },
    {
     "data": {
      "text/plain": [
       "ClaSS     0.824\n",
       "FLOSS     0.606\n",
       "BOCD      0.522\n",
       "Window    0.405\n",
       "dtype: float64"
      ]
     },
     "execution_count": 6,
     "metadata": {},
     "output_type": "execute_result"
    }
   ],
   "source": [
    "df_scores.mean(axis=0).round(3)"
   ]
  },
  {
   "cell_type": "code",
   "execution_count": 7,
   "metadata": {},
   "outputs": [
    {
     "name": "stderr",
     "output_type": "stream",
     "text": [
      "/var/folders/5_/fv_bzq1n4n76j6l_jqgndj6c0000gn/T/ipykernel_1997/1729043111.py:1: FutureWarning: Dropping of nuisance columns in DataFrame reductions (with 'numeric_only=None') is deprecated; in a future version this will raise TypeError.  Select only valid columns before calling the reduction.\n",
      "  df_scores.median(axis=0).round(3)\n"
     ]
    },
    {
     "data": {
      "text/plain": [
       "ClaSS     0.847\n",
       "FLOSS     0.545\n",
       "BOCD      0.512\n",
       "Window    0.500\n",
       "dtype: float64"
      ]
     },
     "execution_count": 7,
     "metadata": {},
     "output_type": "execute_result"
    }
   ],
   "source": [
    "df_scores.median(axis=0).round(3)"
   ]
  },
  {
   "cell_type": "code",
   "execution_count": 8,
   "metadata": {},
   "outputs": [
    {
     "name": "stderr",
     "output_type": "stream",
     "text": [
      "/var/folders/5_/fv_bzq1n4n76j6l_jqgndj6c0000gn/T/ipykernel_1997/1084607075.py:1: FutureWarning: Dropping of nuisance columns in DataFrame reductions (with 'numeric_only=None') is deprecated; in a future version this will raise TypeError.  Select only valid columns before calling the reduction.\n",
      "  df_scores.std(axis=0).round(3)\n"
     ]
    },
    {
     "data": {
      "text/plain": [
       "ClaSS     0.181\n",
       "FLOSS     0.205\n",
       "BOCD      0.137\n",
       "Window    0.289\n",
       "dtype: float64"
      ]
     },
     "execution_count": 8,
     "metadata": {},
     "output_type": "execute_result"
    }
   ],
   "source": [
    "df_scores.std(axis=0).round(3)"
   ]
  },
  {
   "cell_type": "markdown",
   "metadata": {},
   "source": [
    "Let's compute the wins per method."
   ]
  },
  {
   "cell_type": "code",
   "execution_count": 9,
   "metadata": {},
   "outputs": [],
   "source": [
    "ranks = df_scores.rank(1, method = 'min', ascending=False)\n",
    "means = np.array(ranks.mean(axis=0))"
   ]
  },
  {
   "cell_type": "code",
   "execution_count": 10,
   "metadata": {
    "scrolled": true
   },
   "outputs": [
    {
     "name": "stdout",
     "output_type": "stream",
     "text": [
      "ClaSS:wins=24 rank=1.28125\n",
      "FLOSS:wins=5 rank=2.375\n",
      "BOCD:wins=2 rank=2.75\n",
      "Window:wins=2 rank=3.21875\n"
     ]
    }
   ],
   "source": [
    "for mean, name in zip(means, df_scores.columns[1:]):\n",
    "    print(f\"{name}:wins={ranks[ranks[name] == 1].shape[0]} rank={np.round(mean, 5)}\")"
   ]
  },
  {
   "cell_type": "markdown",
   "metadata": {},
   "source": [
    "Let's plot and output the ranks."
   ]
  },
  {
   "cell_type": "code",
   "execution_count": 11,
   "metadata": {},
   "outputs": [
    {
     "data": {
      "image/png": "[encoded data removed]",
      "text/plain": [
       "<Figure size 288x118.8 with 1 Axes>"
      ]
     },
     "metadata": {},
     "output_type": "display_data"
    }
   ],
   "source": [
    "cd = Orange.evaluation.scoring.compute_CD(means, df_scores.shape[0])\n",
    "Orange.evaluation.scoring.graph_ranks(means, df_scores.columns[1:], cd=cd, reverse=True, width=4, filename=f\"../../figures/cd_comparative_{dataset}.pdf\") # "
   ]
  },
  {
   "cell_type": "markdown",
   "metadata": {},
   "source": [
    "Let's compute wins/losses against ClaSP."
   ]
  },
  {
   "cell_type": "code",
   "execution_count": 12,
   "metadata": {},
   "outputs": [
    {
     "name": "stdout",
     "output_type": "stream",
     "text": [
      "ClaSS vs FLOSS: (wins/ties/losses): 27/0/5\n",
      "ClaSS vs BOCD: (wins/ties/losses): 30/0/2\n",
      "ClaSS vs Window: (wins/ties/losses): 30/0/2\n"
     ]
    }
   ],
   "source": [
    "selection = \"ClaSS\"\n",
    "\n",
    "for rival in df_scores.columns[1:]:\n",
    "    if rival == selection: continue\n",
    "    \n",
    "    df_pair = df_scores[[selection, rival]]\n",
    "    pair_ranks = df_pair.rank(1, method = 'min', ascending=False)\n",
    "    \n",
    "    wins = pair_ranks[(pair_ranks[selection] == 1) & (pair_ranks[rival] == 2)].shape[0]\n",
    "    losses = pair_ranks[(pair_ranks[selection] == 2) & (pair_ranks[rival] == 1)].shape[0]\n",
    "    ties = pair_ranks[(pair_ranks[selection] == 1) & (pair_ranks[rival] == 1)].shape[0]\n",
    "    \n",
    "    assert wins + losses + ties == pair_ranks.shape[0]\n",
    "    \n",
    "    print(f\"{selection} vs {rival}: (wins/ties/losses): {wins}/{ties}/{losses}\")"
   ]
  },
  {
   "cell_type": "code",
   "execution_count": 13,
   "metadata": {},
   "outputs": [
    {
     "data": {
      "image/png": "[encoded data removed]",
      "text/plain": [
       "<Figure size 720x360 with 1 Axes>"
      ]
     },
     "metadata": {},
     "output_type": "display_data"
    }
   ],
   "source": [
    "fontsize = 24\n",
    "_, ax = plt.subplots(figsize=(10,5))\n",
    "\n",
    "df_scores.boxplot(ax=ax, rot=90)\n",
    "ax.set_ylabel(\"Covering\", fontsize=fontsize)\n",
    "\n",
    "for tick in ax.xaxis.get_major_ticks():\n",
    "    tick.label.set_fontsize(fontsize)\n",
    "\n",
    "for tick in ax.yaxis.get_major_ticks():\n",
    "    tick.label.set_fontsize(fontsize)\n",
    "    \n",
    "ax.set_xticklabels(df_scores.columns[1:], rotation=45, ha=\"right\")\n",
    "ax.set_yticks(np.round(np.arange(0, 1.0+.2,.2),1))\n",
    "    \n",
    "plt.savefig(f\"../../figures/bp_comparative_{dataset}.pdf\", bbox_inches=\"tight\") "
   ]
  },
  {
   "cell_type": "code",
   "execution_count": null,
   "metadata": {},
   "outputs": [],
   "source": []
  }
 ],
 "metadata": {
  "kernelspec": {
   "display_name": "Python 3 (ipykernel)",
   "language": "python",
   "name": "python3"
  },
  "language_info": {
   "codemirror_mode": {
    "name": "ipython",
    "version": 3
   },
   "file_extension": ".py",
   "mimetype": "text/x-python",
   "name": "python",
   "nbconvert_exporter": "python",
   "pygments_lexer": "ipython3",
   "version": "3.8.12"
  }
 },
 "nbformat": 4,
 "nbformat_minor": 4
}
