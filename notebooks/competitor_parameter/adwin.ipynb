{
 "cells": [
  {
   "cell_type": "markdown",
   "metadata": {},
   "source": [
    "# Comparative Analysis\n",
    "In this notebook, we compare ADWIN with different parameter settings."
   ]
  },
  {
   "cell_type": "code",
   "execution_count": 1,
   "metadata": {},
   "outputs": [],
   "source": [
    "import matplotlib\n",
    "\n",
    "matplotlib.rcParams['pdf.fonttype'] = 42\n",
    "matplotlib.rcParams['ps.fonttype'] = 42"
   ]
  },
  {
   "cell_type": "code",
   "execution_count": 2,
   "metadata": {},
   "outputs": [],
   "source": [
    "import numpy as np\n",
    "\n",
    "import pandas as pd\n",
    "\n",
    "pd.set_option('display.max_rows', None)\n",
    "\n",
    "import matplotlib.pyplot as plt\n",
    "import seaborn as sns\n",
    "\n",
    "sns.set_theme()\n",
    "sns.set_color_codes()\n",
    "\n",
    "import Orange\n",
    "import sys\n",
    "\n",
    "sys.path.append(\"../../\")"
   ]
  },
  {
   "cell_type": "markdown",
   "metadata": {},
   "source": [
    "Let's choose a score for evaluation (F1 or Covering)."
   ]
  },
  {
   "cell_type": "code",
   "execution_count": 3,
   "metadata": {},
   "outputs": [],
   "source": [
    "eval_score = \"covering_score\""
   ]
  },
  {
   "cell_type": "markdown",
   "metadata": {},
   "source": [
    "Let's load the scores from the different methods."
   ]
  },
  {
   "cell_type": "code",
   "execution_count": 4,
   "metadata": {},
   "outputs": [
    {
     "data": {
      "text/plain": "                       dataset  0.002-delta  0.004-delta  0.006-delta  \\\n0                DodgerLoopDay        0.056        0.056        0.046   \n1                       EEGRat        0.616        0.632        0.568   \n2                      EEGRat2        0.500        0.500        0.500   \n3                     FaceFour        0.406        0.371        0.370   \n4            GrandMalSeizures2        0.508        0.508        0.508   \n5                 GreatBarbet1        0.610        0.557        0.429   \n6                      Herring        0.962        0.962        0.699   \n7                  InlineSkate        0.252        0.332        0.327   \n8                   InsectEPG1        0.416        0.331        0.433   \n9          MelbournePedestrian        0.149        0.149        0.149   \n10                    NogunGun        0.039        0.030        0.026   \n11  NonInvasiveFetalECGThorax1        0.169        0.169        0.169   \n12                   ShapesAll        0.198        0.345        0.352   \n13                     TiltECG        0.412        0.454        0.455   \n14            ToeSegmentation1        0.500        0.500        0.500   \n15            ToeSegmentation2        0.500        0.500        0.634   \n16                       Trace        0.369        0.365        0.677   \n17        UWaveGestureLibraryY        0.201        0.201        0.201   \n18        UWaveGestureLibraryZ        0.201        0.201        0.201   \n19                WordSynonyms        0.727        0.727        0.832   \n20                        Yoga        0.504        0.504        0.504   \n\n    0.008-delta  0.01-delta  0.02-delta  0.04-delta  0.06-delta  0.08-delta  \\\n0         0.046       0.046       0.046       0.046       0.046       0.046   \n1         0.616       0.616       0.632       0.472       0.520       0.520   \n2         0.500       0.500       0.500       0.500       0.500       0.500   \n3         0.378       0.539       0.511       0.382       0.452       0.436   \n4         0.508       0.508       0.508       0.508       0.508       0.508   \n5         0.433       0.438       0.465       0.483       0.482       0.518   \n6         0.904       0.904       0.904       0.962       0.910       0.904   \n7         0.195       0.243       0.170       0.166       0.113       0.096   \n8         0.440       0.439       0.414       0.371       0.397       0.412   \n9         0.149       0.149       0.149       0.149       0.149       0.149   \n10        0.026       0.026       0.030       0.026       0.026       0.026   \n11        0.169       0.169       0.169       0.169       0.169       0.169   \n12        0.369       0.388       0.214       0.378       0.135       0.175   \n13        0.474       0.474       0.403       0.319       0.291       0.227   \n14        0.476       0.476       0.476       0.433       0.433       0.433   \n15        0.634       0.634       0.634       0.634       0.668       0.668   \n16        0.429       0.429       0.607       0.377       0.434       0.434   \n17        0.201       0.201       0.201       0.201       0.201       0.201   \n18        0.201       0.201       0.201       0.201       0.201       0.201   \n19        0.832       0.832       0.832       0.832       0.832       0.832   \n20        0.504       0.504       0.504       0.504       0.504       0.504   \n\n    0.1-delta  0.2-delta  0.4-delta  0.6-delta  0.8-delta  1-delta  \n0       0.046      0.046      0.046      0.037      0.037    0.037  \n1       0.344      0.520      0.520      0.520      0.536    0.520  \n2       0.500      0.500      0.500      0.500      0.489    0.482  \n3       0.350      0.260      0.282      0.410      0.255    0.345  \n4       0.508      0.508      0.508      0.508      0.508    0.508  \n5       0.560      0.388      0.289      0.334      0.337    0.279  \n6       0.904      0.167      0.026      0.026      0.019    0.019  \n7       0.119      0.080      0.086      0.073      0.073    0.060  \n8       0.397      0.371      0.324      0.328      0.311    0.316  \n9       0.149      0.149      0.149      0.149      0.149    0.149  \n10      0.026      0.026      0.026      0.026      0.026    0.026  \n11      0.169      0.169      0.171      0.173      0.174    0.174  \n12      0.145      0.095      0.090      0.094      0.090    0.095  \n13      0.255      0.138      0.122      0.128      0.102    0.106  \n14      0.433      0.484      0.510      0.503      0.561    0.561  \n15      0.668      0.450      0.502      0.342      0.259    0.259  \n16      0.440      0.164      0.120      0.088      0.094    0.069  \n17      0.201      0.201      0.201      0.201      0.201    0.201  \n18      0.201      0.201      0.201      0.201      0.201    0.201  \n19      0.832      0.832      0.832      0.697      0.832    0.832  \n20      0.504      0.493      0.503      0.503      0.503    0.497  ",
      "text/html": "<div>\n<style scoped>\n    .dataframe tbody tr th:only-of-type {\n        vertical-align: middle;\n    }\n\n    .dataframe tbody tr th {\n        vertical-align: top;\n    }\n\n    .dataframe thead th {\n        text-align: right;\n    }\n</style>\n<table border=\"1\" class=\"dataframe\">\n  <thead>\n    <tr style=\"text-align: right;\">\n      <th></th>\n      <th>dataset</th>\n      <th>0.002-delta</th>\n      <th>0.004-delta</th>\n      <th>0.006-delta</th>\n      <th>0.008-delta</th>\n      <th>0.01-delta</th>\n      <th>0.02-delta</th>\n      <th>0.04-delta</th>\n      <th>0.06-delta</th>\n      <th>0.08-delta</th>\n      <th>0.1-delta</th>\n      <th>0.2-delta</th>\n      <th>0.4-delta</th>\n      <th>0.6-delta</th>\n      <th>0.8-delta</th>\n      <th>1-delta</th>\n    </tr>\n  </thead>\n  <tbody>\n    <tr>\n      <th>0</th>\n      <td>DodgerLoopDay</td>\n      <td>0.056</td>\n      <td>0.056</td>\n      <td>0.046</td>\n      <td>0.046</td>\n      <td>0.046</td>\n      <td>0.046</td>\n      <td>0.046</td>\n      <td>0.046</td>\n      <td>0.046</td>\n      <td>0.046</td>\n      <td>0.046</td>\n      <td>0.046</td>\n      <td>0.037</td>\n      <td>0.037</td>\n      <td>0.037</td>\n    </tr>\n    <tr>\n      <th>1</th>\n      <td>EEGRat</td>\n      <td>0.616</td>\n      <td>0.632</td>\n      <td>0.568</td>\n      <td>0.616</td>\n      <td>0.616</td>\n      <td>0.632</td>\n      <td>0.472</td>\n      <td>0.520</td>\n      <td>0.520</td>\n      <td>0.344</td>\n      <td>0.520</td>\n      <td>0.520</td>\n      <td>0.520</td>\n      <td>0.536</td>\n      <td>0.520</td>\n    </tr>\n    <tr>\n      <th>2</th>\n      <td>EEGRat2</td>\n      <td>0.500</td>\n      <td>0.500</td>\n      <td>0.500</td>\n      <td>0.500</td>\n      <td>0.500</td>\n      <td>0.500</td>\n      <td>0.500</td>\n      <td>0.500</td>\n      <td>0.500</td>\n      <td>0.500</td>\n      <td>0.500</td>\n      <td>0.500</td>\n      <td>0.500</td>\n      <td>0.489</td>\n      <td>0.482</td>\n    </tr>\n    <tr>\n      <th>3</th>\n      <td>FaceFour</td>\n      <td>0.406</td>\n      <td>0.371</td>\n      <td>0.370</td>\n      <td>0.378</td>\n      <td>0.539</td>\n      <td>0.511</td>\n      <td>0.382</td>\n      <td>0.452</td>\n      <td>0.436</td>\n      <td>0.350</td>\n      <td>0.260</td>\n      <td>0.282</td>\n      <td>0.410</td>\n      <td>0.255</td>\n      <td>0.345</td>\n    </tr>\n    <tr>\n      <th>4</th>\n      <td>GrandMalSeizures2</td>\n      <td>0.508</td>\n      <td>0.508</td>\n      <td>0.508</td>\n      <td>0.508</td>\n      <td>0.508</td>\n      <td>0.508</td>\n      <td>0.508</td>\n      <td>0.508</td>\n      <td>0.508</td>\n      <td>0.508</td>\n      <td>0.508</td>\n      <td>0.508</td>\n      <td>0.508</td>\n      <td>0.508</td>\n      <td>0.508</td>\n    </tr>\n    <tr>\n      <th>5</th>\n      <td>GreatBarbet1</td>\n      <td>0.610</td>\n      <td>0.557</td>\n      <td>0.429</td>\n      <td>0.433</td>\n      <td>0.438</td>\n      <td>0.465</td>\n      <td>0.483</td>\n      <td>0.482</td>\n      <td>0.518</td>\n      <td>0.560</td>\n      <td>0.388</td>\n      <td>0.289</td>\n      <td>0.334</td>\n      <td>0.337</td>\n      <td>0.279</td>\n    </tr>\n    <tr>\n      <th>6</th>\n      <td>Herring</td>\n      <td>0.962</td>\n      <td>0.962</td>\n      <td>0.699</td>\n      <td>0.904</td>\n      <td>0.904</td>\n      <td>0.904</td>\n      <td>0.962</td>\n      <td>0.910</td>\n      <td>0.904</td>\n      <td>0.904</td>\n      <td>0.167</td>\n      <td>0.026</td>\n      <td>0.026</td>\n      <td>0.019</td>\n      <td>0.019</td>\n    </tr>\n    <tr>\n      <th>7</th>\n      <td>InlineSkate</td>\n      <td>0.252</td>\n      <td>0.332</td>\n      <td>0.327</td>\n      <td>0.195</td>\n      <td>0.243</td>\n      <td>0.170</td>\n      <td>0.166</td>\n      <td>0.113</td>\n      <td>0.096</td>\n      <td>0.119</td>\n      <td>0.080</td>\n      <td>0.086</td>\n      <td>0.073</td>\n      <td>0.073</td>\n      <td>0.060</td>\n    </tr>\n    <tr>\n      <th>8</th>\n      <td>InsectEPG1</td>\n      <td>0.416</td>\n      <td>0.331</td>\n      <td>0.433</td>\n      <td>0.440</td>\n      <td>0.439</td>\n      <td>0.414</td>\n      <td>0.371</td>\n      <td>0.397</td>\n      <td>0.412</td>\n      <td>0.397</td>\n      <td>0.371</td>\n      <td>0.324</td>\n      <td>0.328</td>\n      <td>0.311</td>\n      <td>0.316</td>\n    </tr>\n    <tr>\n      <th>9</th>\n      <td>MelbournePedestrian</td>\n      <td>0.149</td>\n      <td>0.149</td>\n      <td>0.149</td>\n      <td>0.149</td>\n      <td>0.149</td>\n      <td>0.149</td>\n      <td>0.149</td>\n      <td>0.149</td>\n      <td>0.149</td>\n      <td>0.149</td>\n      <td>0.149</td>\n      <td>0.149</td>\n      <td>0.149</td>\n      <td>0.149</td>\n      <td>0.149</td>\n    </tr>\n    <tr>\n      <th>10</th>\n      <td>NogunGun</td>\n      <td>0.039</td>\n      <td>0.030</td>\n      <td>0.026</td>\n      <td>0.026</td>\n      <td>0.026</td>\n      <td>0.030</td>\n      <td>0.026</td>\n      <td>0.026</td>\n      <td>0.026</td>\n      <td>0.026</td>\n      <td>0.026</td>\n      <td>0.026</td>\n      <td>0.026</td>\n      <td>0.026</td>\n      <td>0.026</td>\n    </tr>\n    <tr>\n      <th>11</th>\n      <td>NonInvasiveFetalECGThorax1</td>\n      <td>0.169</td>\n      <td>0.169</td>\n      <td>0.169</td>\n      <td>0.169</td>\n      <td>0.169</td>\n      <td>0.169</td>\n      <td>0.169</td>\n      <td>0.169</td>\n      <td>0.169</td>\n      <td>0.169</td>\n      <td>0.169</td>\n      <td>0.171</td>\n      <td>0.173</td>\n      <td>0.174</td>\n      <td>0.174</td>\n    </tr>\n    <tr>\n      <th>12</th>\n      <td>ShapesAll</td>\n      <td>0.198</td>\n      <td>0.345</td>\n      <td>0.352</td>\n      <td>0.369</td>\n      <td>0.388</td>\n      <td>0.214</td>\n      <td>0.378</td>\n      <td>0.135</td>\n      <td>0.175</td>\n      <td>0.145</td>\n      <td>0.095</td>\n      <td>0.090</td>\n      <td>0.094</td>\n      <td>0.090</td>\n      <td>0.095</td>\n    </tr>\n    <tr>\n      <th>13</th>\n      <td>TiltECG</td>\n      <td>0.412</td>\n      <td>0.454</td>\n      <td>0.455</td>\n      <td>0.474</td>\n      <td>0.474</td>\n      <td>0.403</td>\n      <td>0.319</td>\n      <td>0.291</td>\n      <td>0.227</td>\n      <td>0.255</td>\n      <td>0.138</td>\n      <td>0.122</td>\n      <td>0.128</td>\n      <td>0.102</td>\n      <td>0.106</td>\n    </tr>\n    <tr>\n      <th>14</th>\n      <td>ToeSegmentation1</td>\n      <td>0.500</td>\n      <td>0.500</td>\n      <td>0.500</td>\n      <td>0.476</td>\n      <td>0.476</td>\n      <td>0.476</td>\n      <td>0.433</td>\n      <td>0.433</td>\n      <td>0.433</td>\n      <td>0.433</td>\n      <td>0.484</td>\n      <td>0.510</td>\n      <td>0.503</td>\n      <td>0.561</td>\n      <td>0.561</td>\n    </tr>\n    <tr>\n      <th>15</th>\n      <td>ToeSegmentation2</td>\n      <td>0.500</td>\n      <td>0.500</td>\n      <td>0.634</td>\n      <td>0.634</td>\n      <td>0.634</td>\n      <td>0.634</td>\n      <td>0.634</td>\n      <td>0.668</td>\n      <td>0.668</td>\n      <td>0.668</td>\n      <td>0.450</td>\n      <td>0.502</td>\n      <td>0.342</td>\n      <td>0.259</td>\n      <td>0.259</td>\n    </tr>\n    <tr>\n      <th>16</th>\n      <td>Trace</td>\n      <td>0.369</td>\n      <td>0.365</td>\n      <td>0.677</td>\n      <td>0.429</td>\n      <td>0.429</td>\n      <td>0.607</td>\n      <td>0.377</td>\n      <td>0.434</td>\n      <td>0.434</td>\n      <td>0.440</td>\n      <td>0.164</td>\n      <td>0.120</td>\n      <td>0.088</td>\n      <td>0.094</td>\n      <td>0.069</td>\n    </tr>\n    <tr>\n      <th>17</th>\n      <td>UWaveGestureLibraryY</td>\n      <td>0.201</td>\n      <td>0.201</td>\n      <td>0.201</td>\n      <td>0.201</td>\n      <td>0.201</td>\n      <td>0.201</td>\n      <td>0.201</td>\n      <td>0.201</td>\n      <td>0.201</td>\n      <td>0.201</td>\n      <td>0.201</td>\n      <td>0.201</td>\n      <td>0.201</td>\n      <td>0.201</td>\n      <td>0.201</td>\n    </tr>\n    <tr>\n      <th>18</th>\n      <td>UWaveGestureLibraryZ</td>\n      <td>0.201</td>\n      <td>0.201</td>\n      <td>0.201</td>\n      <td>0.201</td>\n      <td>0.201</td>\n      <td>0.201</td>\n      <td>0.201</td>\n      <td>0.201</td>\n      <td>0.201</td>\n      <td>0.201</td>\n      <td>0.201</td>\n      <td>0.201</td>\n      <td>0.201</td>\n      <td>0.201</td>\n      <td>0.201</td>\n    </tr>\n    <tr>\n      <th>19</th>\n      <td>WordSynonyms</td>\n      <td>0.727</td>\n      <td>0.727</td>\n      <td>0.832</td>\n      <td>0.832</td>\n      <td>0.832</td>\n      <td>0.832</td>\n      <td>0.832</td>\n      <td>0.832</td>\n      <td>0.832</td>\n      <td>0.832</td>\n      <td>0.832</td>\n      <td>0.832</td>\n      <td>0.697</td>\n      <td>0.832</td>\n      <td>0.832</td>\n    </tr>\n    <tr>\n      <th>20</th>\n      <td>Yoga</td>\n      <td>0.504</td>\n      <td>0.504</td>\n      <td>0.504</td>\n      <td>0.504</td>\n      <td>0.504</td>\n      <td>0.504</td>\n      <td>0.504</td>\n      <td>0.504</td>\n      <td>0.504</td>\n      <td>0.504</td>\n      <td>0.493</td>\n      <td>0.503</td>\n      <td>0.503</td>\n      <td>0.503</td>\n      <td>0.497</td>\n    </tr>\n  </tbody>\n</table>\n</div>"
     },
     "execution_count": 4,
     "metadata": {},
     "output_type": "execute_result"
    }
   ],
   "source": [
    "deltas = [0.002, 0.004, 0.006, 0.008, 0.01, 0.02, 0.04, 0.06, 0.08, 0.1, 0.2, 0.4, 0.6, 0.8, 1]\n",
    "methods = list()\n",
    "\n",
    "for d in deltas:\n",
    "    candidate_name = f\"{d}-delta\"\n",
    "    methods.append((candidate_name, f\"{candidate_name}.csv\"))\n",
    "\n",
    "for idx, (name, file_name) in enumerate(methods):\n",
    "    methods[idx] = name, pd.read_csv(f\"../../experiments/adwin_delta/{file_name}\")\n",
    "\n",
    "df_scores = pd.DataFrame()\n",
    "\n",
    "for name, df in methods:\n",
    "    df_scores[\"dataset\"] = df.dataset\n",
    "    df_scores[name] = df[eval_score]\n",
    "\n",
    "df_scores"
   ]
  },
  {
   "cell_type": "markdown",
   "metadata": {},
   "source": [
    "Let's calculate the mean/std score."
   ]
  },
  {
   "cell_type": "code",
   "execution_count": 5,
   "metadata": {},
   "outputs": [
    {
     "name": "stderr",
     "output_type": "stream",
     "text": [
      "/var/folders/5_/fv_bzq1n4n76j6l_jqgndj6c0000gn/T/ipykernel_4176/3088260556.py:1: FutureWarning: Dropping of nuisance columns in DataFrame reductions (with 'numeric_only=None') is deprecated; in a future version this will raise TypeError.  Select only valid columns before calling the reduction.\n",
      "  df_scores.mean(axis=0).round(3)\n"
     ]
    },
    {
     "data": {
      "text/plain": "0.002-delta    0.395\n0.004-delta    0.400\n0.006-delta    0.409\n0.008-delta    0.404\n0.01-delta     0.415\n0.02-delta     0.408\n0.04-delta     0.386\n0.06-delta     0.380\n0.08-delta     0.379\n0.1-delta      0.369\n0.2-delta      0.297\n0.4-delta      0.286\n0.6-delta      0.278\n0.8-delta      0.274\n1-delta        0.273\ndtype: float64"
     },
     "execution_count": 5,
     "metadata": {},
     "output_type": "execute_result"
    }
   ],
   "source": [
    "df_scores.mean(axis=0).round(3)"
   ]
  },
  {
   "cell_type": "code",
   "execution_count": 6,
   "metadata": {},
   "outputs": [
    {
     "name": "stderr",
     "output_type": "stream",
     "text": [
      "/var/folders/5_/fv_bzq1n4n76j6l_jqgndj6c0000gn/T/ipykernel_4176/2527189798.py:1: FutureWarning: Dropping of nuisance columns in DataFrame reductions (with 'numeric_only=None') is deprecated; in a future version this will raise TypeError.  Select only valid columns before calling the reduction.\n",
      "  df_scores.std(axis=0).round(3)\n"
     ]
    },
    {
     "data": {
      "text/plain": "0.002-delta    0.232\n0.004-delta    0.226\n0.006-delta    0.218\n0.008-delta    0.234\n0.01-delta     0.233\n0.02-delta     0.244\n0.04-delta     0.237\n0.06-delta     0.244\n0.08-delta     0.245\n0.1-delta      0.243\n0.2-delta      0.209\n0.4-delta      0.220\n0.6-delta      0.203\n0.8-delta      0.221\n1-delta        0.221\ndtype: float64"
     },
     "execution_count": 6,
     "metadata": {},
     "output_type": "execute_result"
    }
   ],
   "source": [
    "df_scores.std(axis=0).round(3)"
   ]
  },
  {
   "cell_type": "markdown",
   "metadata": {},
   "source": [
    "Let's compute the wins per method."
   ]
  },
  {
   "cell_type": "code",
   "execution_count": 7,
   "metadata": {},
   "outputs": [],
   "source": [
    "ranks = df_scores.rank(1, method='min', ascending=False)\n",
    "means = np.array(ranks.mean(axis=0))"
   ]
  },
  {
   "cell_type": "code",
   "execution_count": 8,
   "metadata": {
    "scrolled": true
   },
   "outputs": [
    {
     "name": "stdout",
     "output_type": "stream",
     "text": [
      "0.002-delta:wins=10 rank=3.80952\n",
      "0.004-delta:wins=10 rank=4.14286\n",
      "0.006-delta:wins=8 rank=3.66667\n",
      "0.008-delta:wins=9 rank=3.47619\n",
      "0.01-delta:wins=10 rank=3.0\n",
      "0.02-delta:wins=8 rank=3.33333\n",
      "0.04-delta:wins=8 rank=4.52381\n",
      "0.06-delta:wins=8 rank=4.33333\n",
      "0.08-delta:wins=8 rank=4.33333\n",
      "0.1-delta:wins=8 rank=4.80952\n",
      "0.2-delta:wins=6 rank=7.19048\n",
      "0.4-delta:wins=6 rank=7.14286\n",
      "0.6-delta:wins=5 rank=8.09524\n",
      "0.8-delta:wins=7 rank=8.61905\n",
      "1-delta:wins=7 rank=8.80952\n"
     ]
    }
   ],
   "source": [
    "for mean, name in zip(means, df_scores.columns[1:]):\n",
    "    print(f\"{name}:wins={ranks[ranks[name] == 1].shape[0]} rank={np.round(mean, 5)}\")"
   ]
  },
  {
   "cell_type": "markdown",
   "metadata": {},
   "source": [
    "Let's plot and output the ranks."
   ]
  },
  {
   "cell_type": "code",
   "execution_count": 9,
   "metadata": {},
   "outputs": [
    {
     "data": {
      "text/plain": "<Figure size 360x205.2 with 1 Axes>",
      "image/png": "[encoded data removed]"
     },
     "metadata": {},
     "output_type": "display_data"
    }
   ],
   "source": [
    "cd = Orange.evaluation.scoring.compute_CD(means, df_scores.shape[0])\n",
    "Orange.evaluation.scoring.graph_ranks(means, df_scores.columns[1:], cd=cd, reverse=True, width=5,\n",
    "                                      filename=\"../../figures/cd_ablation_adwin_delta.pdf\")"
   ]
  },
  {
   "cell_type": "markdown",
   "metadata": {},
   "source": [
    "Let's compute pairwise wins/losses."
   ]
  },
  {
   "cell_type": "code",
   "execution_count": 10,
   "metadata": {},
   "outputs": [
    {
     "name": "stdout",
     "output_type": "stream",
     "text": [
      "0.01-delta vs 0.002-delta: (wins/ties/losses): 7/8/6\n",
      "0.01-delta vs 0.004-delta: (wins/ties/losses): 7/7/7\n",
      "0.01-delta vs 0.006-delta: (wins/ties/losses): 7/11/3\n",
      "0.01-delta vs 0.008-delta: (wins/ties/losses): 4/16/1\n",
      "0.01-delta vs 0.02-delta: (wins/ties/losses): 5/12/4\n",
      "0.01-delta vs 0.04-delta: (wins/ties/losses): 8/11/2\n",
      "0.01-delta vs 0.06-delta: (wins/ties/losses): 7/10/4\n",
      "0.01-delta vs 0.08-delta: (wins/ties/losses): 7/11/3\n",
      "0.01-delta vs 0.1-delta: (wins/ties/losses): 7/11/3\n",
      "0.01-delta vs 0.2-delta: (wins/ties/losses): 11/9/1\n",
      "0.01-delta vs 0.4-delta: (wins/ties/losses): 11/8/2\n",
      "0.01-delta vs 0.6-delta: (wins/ties/losses): 13/6/2\n",
      "0.01-delta vs 0.8-delta: (wins/ties/losses): 13/6/2\n",
      "0.01-delta vs 1-delta: (wins/ties/losses): 13/6/2\n"
     ]
    }
   ],
   "source": [
    "selection = \"0.01-delta\"\n",
    "\n",
    "for rival in df_scores.columns[1:]:\n",
    "    if rival == selection: continue\n",
    "\n",
    "    df_pair = df_scores[[selection, rival]]\n",
    "    pair_ranks = df_pair.rank(1, method='min', ascending=False)\n",
    "\n",
    "    wins = pair_ranks[(pair_ranks[selection] == 1) & (pair_ranks[rival] == 2)].shape[0]\n",
    "    losses = pair_ranks[(pair_ranks[selection] == 2) & (pair_ranks[rival] == 1)].shape[0]\n",
    "    ties = pair_ranks[(pair_ranks[selection] == 1) & (pair_ranks[rival] == 1)].shape[0]\n",
    "\n",
    "    assert wins + losses + ties == pair_ranks.shape[0]\n",
    "\n",
    "    print(f\"{selection} vs {rival}: (wins/ties/losses): {wins}/{ties}/{losses}\")"
   ]
  },
  {
   "cell_type": "code",
   "execution_count": 11,
   "metadata": {},
   "outputs": [
    {
     "name": "stderr",
     "output_type": "stream",
     "text": [
      "/var/folders/5_/fv_bzq1n4n76j6l_jqgndj6c0000gn/T/ipykernel_4176/2797409782.py:8: MatplotlibDeprecationWarning: The label function was deprecated in Matplotlib 3.1 and will be removed in 3.8. Use Tick.label1 instead.\n",
      "  tick.label.set_fontsize(fontsize)\n",
      "/var/folders/5_/fv_bzq1n4n76j6l_jqgndj6c0000gn/T/ipykernel_4176/2797409782.py:11: MatplotlibDeprecationWarning: The label function was deprecated in Matplotlib 3.1 and will be removed in 3.8. Use Tick.label1 instead.\n",
      "  tick.label.set_fontsize(fontsize)\n"
     ]
    },
    {
     "data": {
      "text/plain": "<Figure size 720x720 with 1 Axes>",
      "image/png": "[encoded data removed]"
     },
     "metadata": {
      "needs_background": "light"
     },
     "output_type": "display_data"
    }
   ],
   "source": [
    "fontsize = 18\n",
    "_, ax = plt.subplots(figsize=(10, 10))\n",
    "\n",
    "df_scores.boxplot(ax=ax, rot=90)\n",
    "ax.set_ylabel(eval_score, fontsize=fontsize)\n",
    "\n",
    "for tick in ax.xaxis.get_major_ticks():\n",
    "    tick.label.set_fontsize(fontsize)\n",
    "\n",
    "for tick in ax.yaxis.get_major_ticks():\n",
    "    tick.label.set_fontsize(fontsize)\n",
    "\n",
    "plt.savefig(\"../../figures/bp_ablation_adwin_delta.pdf\", bbox_inches=\"tight\") "
   ]
  }
 ],
 "metadata": {
  "kernelspec": {
   "display_name": "Python 3 (ipykernel)",
   "language": "python",
   "name": "python3"
  },
  "language_info": {
   "codemirror_mode": {
    "name": "ipython",
    "version": 3
   },
   "file_extension": ".py",
   "mimetype": "text/x-python",
   "name": "python",
   "nbconvert_exporter": "python",
   "pygments_lexer": "ipython3",
   "version": "3.8.12"
  }
 },
 "nbformat": 4,
 "nbformat_minor": 4
}