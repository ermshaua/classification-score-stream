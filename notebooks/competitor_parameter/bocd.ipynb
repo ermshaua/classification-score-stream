{
 "cells": [
  {
   "cell_type": "markdown",
   "metadata": {},
   "source": [
    "# Comparative Analysis\n",
    "In this notebook, we compare BOCD with different parameter settings."
   ]
  },
  {
   "cell_type": "code",
   "execution_count": 1,
   "metadata": {},
   "outputs": [],
   "source": [
    "import matplotlib\n",
    "\n",
    "matplotlib.rcParams['pdf.fonttype'] = 42\n",
    "matplotlib.rcParams['ps.fonttype'] = 42"
   ]
  },
  {
   "cell_type": "code",
   "execution_count": 2,
   "metadata": {},
   "outputs": [],
   "source": [
    "import numpy as np\n",
    "\n",
    "import pandas as pd\n",
    "\n",
    "pd.set_option('display.max_rows', None)\n",
    "\n",
    "import matplotlib.pyplot as plt\n",
    "import seaborn as sns\n",
    "\n",
    "sns.set_theme()\n",
    "sns.set_color_codes()\n",
    "\n",
    "import Orange\n",
    "import sys\n",
    "\n",
    "sys.path.append(\"../../\")"
   ]
  },
  {
   "cell_type": "markdown",
   "metadata": {},
   "source": [
    "Let's choose a score for evaluation (F1 or Covering)."
   ]
  },
  {
   "cell_type": "code",
   "execution_count": 3,
   "metadata": {},
   "outputs": [],
   "source": [
    "eval_score = \"covering_score\""
   ]
  },
  {
   "cell_type": "markdown",
   "metadata": {},
   "source": [
    "Let's load the scores from the different methods."
   ]
  },
  {
   "cell_type": "code",
   "execution_count": 4,
   "metadata": {},
   "outputs": [
    {
     "data": {
      "text/plain": "                       dataset  -50-threshold  -100-threshold  -150-threshold  \\\n0                DodgerLoopDay          0.082           0.169           1.000   \n1                       EEGRat          0.224           0.853           0.851   \n2                      EEGRat2          0.278           0.503           0.516   \n3                     FaceFour          0.275           0.585           0.483   \n4            GrandMalSeizures2          0.508           0.508           0.508   \n5                 GreatBarbet1          0.392           0.465           0.592   \n6                      Herring          1.000           1.000           1.000   \n7                  InlineSkate          0.217           0.325           0.358   \n8                   InsectEPG1          0.657           0.657           0.657   \n9          MelbournePedestrian          0.333           0.333           0.333   \n10                    NogunGun          0.496           0.642           0.518   \n11  NonInvasiveFetalECGThorax1          0.169           0.169           0.169   \n12                   ShapesAll          0.433           0.366           0.200   \n13                     TiltECG          0.531           0.531           0.531   \n14            ToeSegmentation1          0.173           0.560           0.730   \n15            ToeSegmentation2          0.225           0.491           0.500   \n16                       Trace          0.281           0.344           0.344   \n17        UWaveGestureLibraryY          0.393           0.393           0.393   \n18        UWaveGestureLibraryZ          0.368           0.368           0.368   \n19                WordSynonyms          0.322           0.561           0.788   \n20                        Yoga          0.182           0.545           0.502   \n\n    -200-threshold  -250-threshold  -300-threshold  -350-threshold  \\\n0            1.000           1.000           1.000           1.000   \n1            0.500           0.500           0.500           0.500   \n2            0.525           0.470           0.500           0.500   \n3            0.281           0.281           0.281           0.281   \n4            0.508           0.508           0.508           0.508   \n5            0.577           0.571           0.566           0.560   \n6            1.000           1.000           1.000           1.000   \n7            0.358           0.358           0.358           0.358   \n8            0.653           0.653           0.653           0.653   \n9            0.333           0.333           0.333           0.333   \n10           0.518           0.518           0.518           0.518   \n11           0.169           0.169           0.169           0.169   \n12           0.200           0.200           0.200           0.200   \n13           0.531           0.531           0.531           0.531   \n14           0.672           0.500           0.500           0.500   \n15           0.500           0.500           0.500           0.500   \n16           0.344           0.344           0.344           0.344   \n17           0.393           0.393           0.393           0.393   \n18           0.368           0.368           0.368           0.368   \n19           0.786           0.766           0.761           0.752   \n20           0.504           0.504           0.504           0.504   \n\n    -400-threshold  -450-threshold  -500-threshold  \n0            1.000           1.000           1.000  \n1            0.500           0.500           0.500  \n2            0.500           0.500           0.500  \n3            0.281           0.281           0.281  \n4            0.508           0.508           0.508  \n5            0.355           0.355           0.355  \n6            1.000           1.000           1.000  \n7            0.358           0.358           0.358  \n8            0.653           0.653           0.653  \n9            0.333           0.333           0.333  \n10           0.518           0.518           0.518  \n11           0.169           0.169           0.169  \n12           0.200           0.200           0.200  \n13           0.531           0.531           0.531  \n14           0.500           0.500           0.500  \n15           0.500           0.500           0.500  \n16           0.344           0.344           0.344  \n17           0.393           0.393           0.393  \n18           0.368           0.368           0.368  \n19           0.727           0.727           0.727  \n20           0.504           0.504           0.504  ",
      "text/html": "<div>\n<style scoped>\n    .dataframe tbody tr th:only-of-type {\n        vertical-align: middle;\n    }\n\n    .dataframe tbody tr th {\n        vertical-align: top;\n    }\n\n    .dataframe thead th {\n        text-align: right;\n    }\n</style>\n<table border=\"1\" class=\"dataframe\">\n  <thead>\n    <tr style=\"text-align: right;\">\n      <th></th>\n      <th>dataset</th>\n      <th>-50-threshold</th>\n      <th>-100-threshold</th>\n      <th>-150-threshold</th>\n      <th>-200-threshold</th>\n      <th>-250-threshold</th>\n      <th>-300-threshold</th>\n      <th>-350-threshold</th>\n      <th>-400-threshold</th>\n      <th>-450-threshold</th>\n      <th>-500-threshold</th>\n    </tr>\n  </thead>\n  <tbody>\n    <tr>\n      <th>0</th>\n      <td>DodgerLoopDay</td>\n      <td>0.082</td>\n      <td>0.169</td>\n      <td>1.000</td>\n      <td>1.000</td>\n      <td>1.000</td>\n      <td>1.000</td>\n      <td>1.000</td>\n      <td>1.000</td>\n      <td>1.000</td>\n      <td>1.000</td>\n    </tr>\n    <tr>\n      <th>1</th>\n      <td>EEGRat</td>\n      <td>0.224</td>\n      <td>0.853</td>\n      <td>0.851</td>\n      <td>0.500</td>\n      <td>0.500</td>\n      <td>0.500</td>\n      <td>0.500</td>\n      <td>0.500</td>\n      <td>0.500</td>\n      <td>0.500</td>\n    </tr>\n    <tr>\n      <th>2</th>\n      <td>EEGRat2</td>\n      <td>0.278</td>\n      <td>0.503</td>\n      <td>0.516</td>\n      <td>0.525</td>\n      <td>0.470</td>\n      <td>0.500</td>\n      <td>0.500</td>\n      <td>0.500</td>\n      <td>0.500</td>\n      <td>0.500</td>\n    </tr>\n    <tr>\n      <th>3</th>\n      <td>FaceFour</td>\n      <td>0.275</td>\n      <td>0.585</td>\n      <td>0.483</td>\n      <td>0.281</td>\n      <td>0.281</td>\n      <td>0.281</td>\n      <td>0.281</td>\n      <td>0.281</td>\n      <td>0.281</td>\n      <td>0.281</td>\n    </tr>\n    <tr>\n      <th>4</th>\n      <td>GrandMalSeizures2</td>\n      <td>0.508</td>\n      <td>0.508</td>\n      <td>0.508</td>\n      <td>0.508</td>\n      <td>0.508</td>\n      <td>0.508</td>\n      <td>0.508</td>\n      <td>0.508</td>\n      <td>0.508</td>\n      <td>0.508</td>\n    </tr>\n    <tr>\n      <th>5</th>\n      <td>GreatBarbet1</td>\n      <td>0.392</td>\n      <td>0.465</td>\n      <td>0.592</td>\n      <td>0.577</td>\n      <td>0.571</td>\n      <td>0.566</td>\n      <td>0.560</td>\n      <td>0.355</td>\n      <td>0.355</td>\n      <td>0.355</td>\n    </tr>\n    <tr>\n      <th>6</th>\n      <td>Herring</td>\n      <td>1.000</td>\n      <td>1.000</td>\n      <td>1.000</td>\n      <td>1.000</td>\n      <td>1.000</td>\n      <td>1.000</td>\n      <td>1.000</td>\n      <td>1.000</td>\n      <td>1.000</td>\n      <td>1.000</td>\n    </tr>\n    <tr>\n      <th>7</th>\n      <td>InlineSkate</td>\n      <td>0.217</td>\n      <td>0.325</td>\n      <td>0.358</td>\n      <td>0.358</td>\n      <td>0.358</td>\n      <td>0.358</td>\n      <td>0.358</td>\n      <td>0.358</td>\n      <td>0.358</td>\n      <td>0.358</td>\n    </tr>\n    <tr>\n      <th>8</th>\n      <td>InsectEPG1</td>\n      <td>0.657</td>\n      <td>0.657</td>\n      <td>0.657</td>\n      <td>0.653</td>\n      <td>0.653</td>\n      <td>0.653</td>\n      <td>0.653</td>\n      <td>0.653</td>\n      <td>0.653</td>\n      <td>0.653</td>\n    </tr>\n    <tr>\n      <th>9</th>\n      <td>MelbournePedestrian</td>\n      <td>0.333</td>\n      <td>0.333</td>\n      <td>0.333</td>\n      <td>0.333</td>\n      <td>0.333</td>\n      <td>0.333</td>\n      <td>0.333</td>\n      <td>0.333</td>\n      <td>0.333</td>\n      <td>0.333</td>\n    </tr>\n    <tr>\n      <th>10</th>\n      <td>NogunGun</td>\n      <td>0.496</td>\n      <td>0.642</td>\n      <td>0.518</td>\n      <td>0.518</td>\n      <td>0.518</td>\n      <td>0.518</td>\n      <td>0.518</td>\n      <td>0.518</td>\n      <td>0.518</td>\n      <td>0.518</td>\n    </tr>\n    <tr>\n      <th>11</th>\n      <td>NonInvasiveFetalECGThorax1</td>\n      <td>0.169</td>\n      <td>0.169</td>\n      <td>0.169</td>\n      <td>0.169</td>\n      <td>0.169</td>\n      <td>0.169</td>\n      <td>0.169</td>\n      <td>0.169</td>\n      <td>0.169</td>\n      <td>0.169</td>\n    </tr>\n    <tr>\n      <th>12</th>\n      <td>ShapesAll</td>\n      <td>0.433</td>\n      <td>0.366</td>\n      <td>0.200</td>\n      <td>0.200</td>\n      <td>0.200</td>\n      <td>0.200</td>\n      <td>0.200</td>\n      <td>0.200</td>\n      <td>0.200</td>\n      <td>0.200</td>\n    </tr>\n    <tr>\n      <th>13</th>\n      <td>TiltECG</td>\n      <td>0.531</td>\n      <td>0.531</td>\n      <td>0.531</td>\n      <td>0.531</td>\n      <td>0.531</td>\n      <td>0.531</td>\n      <td>0.531</td>\n      <td>0.531</td>\n      <td>0.531</td>\n      <td>0.531</td>\n    </tr>\n    <tr>\n      <th>14</th>\n      <td>ToeSegmentation1</td>\n      <td>0.173</td>\n      <td>0.560</td>\n      <td>0.730</td>\n      <td>0.672</td>\n      <td>0.500</td>\n      <td>0.500</td>\n      <td>0.500</td>\n      <td>0.500</td>\n      <td>0.500</td>\n      <td>0.500</td>\n    </tr>\n    <tr>\n      <th>15</th>\n      <td>ToeSegmentation2</td>\n      <td>0.225</td>\n      <td>0.491</td>\n      <td>0.500</td>\n      <td>0.500</td>\n      <td>0.500</td>\n      <td>0.500</td>\n      <td>0.500</td>\n      <td>0.500</td>\n      <td>0.500</td>\n      <td>0.500</td>\n    </tr>\n    <tr>\n      <th>16</th>\n      <td>Trace</td>\n      <td>0.281</td>\n      <td>0.344</td>\n      <td>0.344</td>\n      <td>0.344</td>\n      <td>0.344</td>\n      <td>0.344</td>\n      <td>0.344</td>\n      <td>0.344</td>\n      <td>0.344</td>\n      <td>0.344</td>\n    </tr>\n    <tr>\n      <th>17</th>\n      <td>UWaveGestureLibraryY</td>\n      <td>0.393</td>\n      <td>0.393</td>\n      <td>0.393</td>\n      <td>0.393</td>\n      <td>0.393</td>\n      <td>0.393</td>\n      <td>0.393</td>\n      <td>0.393</td>\n      <td>0.393</td>\n      <td>0.393</td>\n    </tr>\n    <tr>\n      <th>18</th>\n      <td>UWaveGestureLibraryZ</td>\n      <td>0.368</td>\n      <td>0.368</td>\n      <td>0.368</td>\n      <td>0.368</td>\n      <td>0.368</td>\n      <td>0.368</td>\n      <td>0.368</td>\n      <td>0.368</td>\n      <td>0.368</td>\n      <td>0.368</td>\n    </tr>\n    <tr>\n      <th>19</th>\n      <td>WordSynonyms</td>\n      <td>0.322</td>\n      <td>0.561</td>\n      <td>0.788</td>\n      <td>0.786</td>\n      <td>0.766</td>\n      <td>0.761</td>\n      <td>0.752</td>\n      <td>0.727</td>\n      <td>0.727</td>\n      <td>0.727</td>\n    </tr>\n    <tr>\n      <th>20</th>\n      <td>Yoga</td>\n      <td>0.182</td>\n      <td>0.545</td>\n      <td>0.502</td>\n      <td>0.504</td>\n      <td>0.504</td>\n      <td>0.504</td>\n      <td>0.504</td>\n      <td>0.504</td>\n      <td>0.504</td>\n      <td>0.504</td>\n    </tr>\n  </tbody>\n</table>\n</div>"
     },
     "execution_count": 4,
     "metadata": {},
     "output_type": "execute_result"
    }
   ],
   "source": [
    "thresholds = -np.arange(50, 500 + 1, 50)\n",
    "methods = list()\n",
    "\n",
    "for t in thresholds:\n",
    "    candidate_name = f\"{t}-threshold\"\n",
    "    methods.append((candidate_name, f\"{candidate_name}.csv\"))\n",
    "\n",
    "for idx, (name, file_name) in enumerate(methods):\n",
    "    methods[idx] = name, pd.read_csv(f\"../../experiments/bocd_threshold/{file_name}\")\n",
    "\n",
    "df_scores = pd.DataFrame()\n",
    "\n",
    "for name, df in methods:\n",
    "    df_scores[\"dataset\"] = df.dataset\n",
    "    df_scores[name] = df[eval_score]\n",
    "\n",
    "df_scores"
   ]
  },
  {
   "cell_type": "markdown",
   "metadata": {},
   "source": [
    "Let's calculate the mean/std score."
   ]
  },
  {
   "cell_type": "code",
   "execution_count": 5,
   "metadata": {},
   "outputs": [
    {
     "name": "stderr",
     "output_type": "stream",
     "text": [
      "/var/folders/5_/fv_bzq1n4n76j6l_jqgndj6c0000gn/T/ipykernel_3141/3088260556.py:1: FutureWarning: Dropping of nuisance columns in DataFrame reductions (with 'numeric_only=None') is deprecated; in a future version this will raise TypeError.  Select only valid columns before calling the reduction.\n",
      "  df_scores.mean(axis=0).round(3)\n"
     ]
    },
    {
     "data": {
      "text/plain": "-50-threshold     0.359\n-100-threshold    0.494\n-150-threshold    0.540\n-200-threshold    0.510\n-250-threshold    0.498\n-300-threshold    0.499\n-350-threshold    0.499\n-400-threshold    0.488\n-450-threshold    0.488\n-500-threshold    0.488\ndtype: float64"
     },
     "execution_count": 5,
     "metadata": {},
     "output_type": "execute_result"
    }
   ],
   "source": [
    "df_scores.mean(axis=0).round(3)"
   ]
  },
  {
   "cell_type": "code",
   "execution_count": 6,
   "metadata": {},
   "outputs": [
    {
     "name": "stderr",
     "output_type": "stream",
     "text": [
      "/var/folders/5_/fv_bzq1n4n76j6l_jqgndj6c0000gn/T/ipykernel_3141/2527189798.py:1: FutureWarning: Dropping of nuisance columns in DataFrame reductions (with 'numeric_only=None') is deprecated; in a future version this will raise TypeError.  Select only valid columns before calling the reduction.\n",
      "  df_scores.std(axis=0).round(3)\n"
     ]
    },
    {
     "data": {
      "text/plain": "-50-threshold     0.204\n-100-threshold    0.198\n-150-threshold    0.230\n-200-threshold    0.222\n-250-threshold    0.218\n-300-threshold    0.217\n-350-threshold    0.217\n-400-threshold    0.217\n-450-threshold    0.217\n-500-threshold    0.217\ndtype: float64"
     },
     "execution_count": 6,
     "metadata": {},
     "output_type": "execute_result"
    }
   ],
   "source": [
    "df_scores.std(axis=0).round(3)"
   ]
  },
  {
   "cell_type": "markdown",
   "metadata": {},
   "source": [
    "Let's compute the wins per method."
   ]
  },
  {
   "cell_type": "code",
   "execution_count": 7,
   "metadata": {},
   "outputs": [],
   "source": [
    "ranks = df_scores.rank(1, method='min', ascending=False)\n",
    "means = np.array(ranks.mean(axis=0))"
   ]
  },
  {
   "cell_type": "code",
   "execution_count": 8,
   "metadata": {
    "scrolled": true
   },
   "outputs": [
    {
     "name": "stdout",
     "output_type": "stream",
     "text": [
      "-50-threshold:wins=9 rank=6.0\n",
      "-100-threshold:wins=13 rank=3.0\n",
      "-150-threshold:wins=15 rank=1.66667\n",
      "-200-threshold:wins=12 rank=1.66667\n",
      "-250-threshold:wins=11 rank=2.2381\n",
      "-300-threshold:wins=11 rank=2.09524\n",
      "-350-threshold:wins=11 rank=2.19048\n",
      "-400-threshold:wins=11 rank=2.38095\n",
      "-450-threshold:wins=11 rank=2.38095\n",
      "-500-threshold:wins=11 rank=2.38095\n"
     ]
    }
   ],
   "source": [
    "for mean, name in zip(means, df_scores.columns[1:]):\n",
    "    print(f\"{name}:wins={ranks[ranks[name] == 1].shape[0]} rank={np.round(mean, 5)}\")"
   ]
  },
  {
   "cell_type": "markdown",
   "metadata": {},
   "source": [
    "Let's plot and output the ranks."
   ]
  },
  {
   "cell_type": "code",
   "execution_count": 9,
   "metadata": {},
   "outputs": [
    {
     "data": {
      "text/plain": "<Figure size 360x154.8 with 1 Axes>",
      "image/png": "[encoded data removed]"
     },
     "metadata": {},
     "output_type": "display_data"
    }
   ],
   "source": [
    "cd = Orange.evaluation.scoring.compute_CD(means, df_scores.shape[0])\n",
    "Orange.evaluation.scoring.graph_ranks(means, df_scores.columns[1:], cd=cd, reverse=True, width=5,\n",
    "                                      filename=\"../../figures/cd_ablation_bocd_threshold.pdf\")"
   ]
  },
  {
   "cell_type": "markdown",
   "metadata": {},
   "source": [
    "Let's compute pairwise wins/losses."
   ]
  },
  {
   "cell_type": "code",
   "execution_count": 10,
   "metadata": {},
   "outputs": [
    {
     "name": "stdout",
     "output_type": "stream",
     "text": [
      "-150-threshold vs -50-threshold: (wins/ties/losses): 12/8/1\n",
      "-150-threshold vs -100-threshold: (wins/ties/losses): 7/9/5\n",
      "-150-threshold vs -200-threshold: (wins/ties/losses): 6/13/2\n",
      "-150-threshold vs -250-threshold: (wins/ties/losses): 7/13/1\n",
      "-150-threshold vs -300-threshold: (wins/ties/losses): 7/13/1\n",
      "-150-threshold vs -350-threshold: (wins/ties/losses): 7/13/1\n",
      "-150-threshold vs -400-threshold: (wins/ties/losses): 7/13/1\n",
      "-150-threshold vs -450-threshold: (wins/ties/losses): 7/13/1\n",
      "-150-threshold vs -500-threshold: (wins/ties/losses): 7/13/1\n"
     ]
    }
   ],
   "source": [
    "selection = \"-150-threshold\"\n",
    "\n",
    "for rival in df_scores.columns[1:]:\n",
    "    if rival == selection: continue\n",
    "\n",
    "    df_pair = df_scores[[selection, rival]]\n",
    "    pair_ranks = df_pair.rank(1, method='min', ascending=False)\n",
    "\n",
    "    wins = pair_ranks[(pair_ranks[selection] == 1) & (pair_ranks[rival] == 2)].shape[0]\n",
    "    losses = pair_ranks[(pair_ranks[selection] == 2) & (pair_ranks[rival] == 1)].shape[0]\n",
    "    ties = pair_ranks[(pair_ranks[selection] == 1) & (pair_ranks[rival] == 1)].shape[0]\n",
    "\n",
    "    assert wins + losses + ties == pair_ranks.shape[0]\n",
    "\n",
    "    print(f\"{selection} vs {rival}: (wins/ties/losses): {wins}/{ties}/{losses}\")"
   ]
  },
  {
   "cell_type": "code",
   "execution_count": 11,
   "metadata": {},
   "outputs": [
    {
     "name": "stderr",
     "output_type": "stream",
     "text": [
      "/var/folders/5_/fv_bzq1n4n76j6l_jqgndj6c0000gn/T/ipykernel_3141/1277847787.py:8: MatplotlibDeprecationWarning: The label function was deprecated in Matplotlib 3.1 and will be removed in 3.8. Use Tick.label1 instead.\n",
      "  tick.label.set_fontsize(fontsize)\n",
      "/var/folders/5_/fv_bzq1n4n76j6l_jqgndj6c0000gn/T/ipykernel_3141/1277847787.py:11: MatplotlibDeprecationWarning: The label function was deprecated in Matplotlib 3.1 and will be removed in 3.8. Use Tick.label1 instead.\n",
      "  tick.label.set_fontsize(fontsize)\n"
     ]
    },
    {
     "data": {
      "text/plain": "<Figure size 720x720 with 1 Axes>",
      "image/png": "[encoded data removed]"
     },
     "metadata": {
      "needs_background": "light"
     },
     "output_type": "display_data"
    }
   ],
   "source": [
    "fontsize = 18\n",
    "_, ax = plt.subplots(figsize=(10, 10))\n",
    "\n",
    "df_scores.boxplot(ax=ax, rot=90)\n",
    "ax.set_ylabel(eval_score, fontsize=fontsize)\n",
    "\n",
    "for tick in ax.xaxis.get_major_ticks():\n",
    "    tick.label.set_fontsize(fontsize)\n",
    "\n",
    "for tick in ax.yaxis.get_major_ticks():\n",
    "    tick.label.set_fontsize(fontsize)\n",
    "\n",
    "plt.savefig(\"../../figures/bp_ablation_bocd_threshold.pdf\", bbox_inches=\"tight\") "
   ]
  }
 ],
 "metadata": {
  "kernelspec": {
   "display_name": "Python 3 (ipykernel)",
   "language": "python",
   "name": "python3"
  },
  "language_info": {
   "codemirror_mode": {
    "name": "ipython",
    "version": 3
   },
   "file_extension": ".py",
   "mimetype": "text/x-python",
   "name": "python",
   "nbconvert_exporter": "python",
   "pygments_lexer": "ipython3",
   "version": "3.8.12"
  }
 },
 "nbformat": 4,
 "nbformat_minor": 4
}