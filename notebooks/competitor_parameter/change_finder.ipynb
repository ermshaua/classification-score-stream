{
 "cells": [
  {
   "cell_type": "markdown",
   "metadata": {},
   "source": [
    "# Comparative Analysis\n",
    "In this notebook, we compare ChangeFinder with different parameter settings."
   ]
  },
  {
   "cell_type": "code",
   "execution_count": 1,
   "metadata": {},
   "outputs": [],
   "source": [
    "import matplotlib\n",
    "\n",
    "matplotlib.rcParams['pdf.fonttype'] = 42\n",
    "matplotlib.rcParams['ps.fonttype'] = 42"
   ]
  },
  {
   "cell_type": "code",
   "execution_count": 2,
   "outputs": [],
   "source": [
    "import numpy as np\n",
    "\n",
    "import pandas as pd\n",
    "\n",
    "pd.set_option('display.max_rows', None)\n",
    "\n",
    "import matplotlib.pyplot as plt\n",
    "import seaborn as sns\n",
    "\n",
    "sns.set_theme()\n",
    "sns.set_color_codes()\n",
    "\n",
    "import Orange\n",
    "import sys\n",
    "\n",
    "sys.path.append(\"../../\")"
   ],
   "metadata": {
    "collapsed": false,
    "pycharm": {
     "name": "#%%\n"
    }
   }
  },
  {
   "cell_type": "markdown",
   "metadata": {},
   "source": [
    "Let's choose a score for evaluation (F1 or Covering)."
   ]
  },
  {
   "cell_type": "code",
   "execution_count": 3,
   "metadata": {},
   "outputs": [],
   "source": [
    "eval_score = \"covering_score\""
   ]
  },
  {
   "cell_type": "markdown",
   "metadata": {},
   "source": [
    "Let's load the scores from the different methods."
   ]
  },
  {
   "cell_type": "code",
   "execution_count": 4,
   "metadata": {},
   "outputs": [
    {
     "data": {
      "text/plain": "                       dataset  10-threshold  20-threshold  30-threshold  \\\n0                DodgerLoopDay         0.372         0.626         1.000   \n1                       EEGRat         0.842         0.771         0.500   \n2                      EEGRat2         0.449         0.500         0.500   \n3                     FaceFour         0.424         0.580         0.648   \n4            GrandMalSeizures2         0.574         0.469         0.508   \n5                 GreatBarbet1         0.853         0.722         0.355   \n6                      Herring         0.999         1.000         1.000   \n7                  InlineSkate         0.425         0.610         0.634   \n8                   InsectEPG1         0.314         0.504         0.653   \n9          MelbournePedestrian         0.295         0.149         0.149   \n10                    NogunGun         0.235         0.395         0.395   \n11  NonInvasiveFetalECGThorax1         0.415         0.169         0.169   \n12                   ShapesAll         0.641         0.720         0.740   \n13                     TiltECG         0.023         0.043         0.408   \n14            ToeSegmentation1         0.686         0.500         0.500   \n15            ToeSegmentation2         0.634         0.634         0.500   \n16                       Trace         0.297         0.414         0.344   \n17        UWaveGestureLibraryY         0.425         0.201         0.201   \n18        UWaveGestureLibraryZ         0.201         0.201         0.201   \n19                WordSynonyms         0.525         0.524         0.841   \n20                        Yoga         0.135         0.183         0.241   \n\n    40-threshold  50-threshold  60-threshold  70-threshold  80-threshold  \\\n0          1.000         1.000         1.000         1.000         1.000   \n1          0.500         0.500         0.500         0.500         0.500   \n2          0.500         0.500         0.500         0.500         0.500   \n3          0.481         0.481         0.281         0.281         0.281   \n4          0.508         0.508         0.508         0.508         0.508   \n5          0.355         0.355         0.355         0.355         0.355   \n6          1.000         1.000         1.000         1.000         1.000   \n7          0.633         0.615         0.358         0.358         0.358   \n8          0.653         0.653         0.653         0.653         0.653   \n9          0.149         0.149         0.149         0.149         0.149   \n10         0.559         0.661         0.661         0.518         0.518   \n11         0.169         0.169         0.169         0.169         0.169   \n12         0.540         0.514         0.200         0.200         0.200   \n13         0.871         0.531         0.531         0.531         0.531   \n14         0.500         0.500         0.500         0.500         0.500   \n15         0.500         0.500         0.500         0.500         0.500   \n16         0.344         0.344         0.344         0.344         0.344   \n17         0.201         0.201         0.201         0.201         0.201   \n18         0.201         0.201         0.201         0.201         0.201   \n19         0.727         0.727         0.727         0.727         0.727   \n20         0.437         0.669         0.733         0.504         0.504   \n\n    90-threshold  100-threshold  \n0          1.000          1.000  \n1          0.500          0.500  \n2          0.500          0.500  \n3          0.281          0.281  \n4          0.508          0.508  \n5          0.355          0.355  \n6          1.000          1.000  \n7          0.358          0.358  \n8          0.653          0.653  \n9          0.149          0.149  \n10         0.518          0.518  \n11         0.169          0.169  \n12         0.200          0.200  \n13         0.531          0.531  \n14         0.500          0.500  \n15         0.500          0.500  \n16         0.344          0.344  \n17         0.201          0.201  \n18         0.201          0.201  \n19         0.727          0.727  \n20         0.504          0.504  ",
      "text/html": "<div>\n<style scoped>\n    .dataframe tbody tr th:only-of-type {\n        vertical-align: middle;\n    }\n\n    .dataframe tbody tr th {\n        vertical-align: top;\n    }\n\n    .dataframe thead th {\n        text-align: right;\n    }\n</style>\n<table border=\"1\" class=\"dataframe\">\n  <thead>\n    <tr style=\"text-align: right;\">\n      <th></th>\n      <th>dataset</th>\n      <th>10-threshold</th>\n      <th>20-threshold</th>\n      <th>30-threshold</th>\n      <th>40-threshold</th>\n      <th>50-threshold</th>\n      <th>60-threshold</th>\n      <th>70-threshold</th>\n      <th>80-threshold</th>\n      <th>90-threshold</th>\n      <th>100-threshold</th>\n    </tr>\n  </thead>\n  <tbody>\n    <tr>\n      <th>0</th>\n      <td>DodgerLoopDay</td>\n      <td>0.372</td>\n      <td>0.626</td>\n      <td>1.000</td>\n      <td>1.000</td>\n      <td>1.000</td>\n      <td>1.000</td>\n      <td>1.000</td>\n      <td>1.000</td>\n      <td>1.000</td>\n      <td>1.000</td>\n    </tr>\n    <tr>\n      <th>1</th>\n      <td>EEGRat</td>\n      <td>0.842</td>\n      <td>0.771</td>\n      <td>0.500</td>\n      <td>0.500</td>\n      <td>0.500</td>\n      <td>0.500</td>\n      <td>0.500</td>\n      <td>0.500</td>\n      <td>0.500</td>\n      <td>0.500</td>\n    </tr>\n    <tr>\n      <th>2</th>\n      <td>EEGRat2</td>\n      <td>0.449</td>\n      <td>0.500</td>\n      <td>0.500</td>\n      <td>0.500</td>\n      <td>0.500</td>\n      <td>0.500</td>\n      <td>0.500</td>\n      <td>0.500</td>\n      <td>0.500</td>\n      <td>0.500</td>\n    </tr>\n    <tr>\n      <th>3</th>\n      <td>FaceFour</td>\n      <td>0.424</td>\n      <td>0.580</td>\n      <td>0.648</td>\n      <td>0.481</td>\n      <td>0.481</td>\n      <td>0.281</td>\n      <td>0.281</td>\n      <td>0.281</td>\n      <td>0.281</td>\n      <td>0.281</td>\n    </tr>\n    <tr>\n      <th>4</th>\n      <td>GrandMalSeizures2</td>\n      <td>0.574</td>\n      <td>0.469</td>\n      <td>0.508</td>\n      <td>0.508</td>\n      <td>0.508</td>\n      <td>0.508</td>\n      <td>0.508</td>\n      <td>0.508</td>\n      <td>0.508</td>\n      <td>0.508</td>\n    </tr>\n    <tr>\n      <th>5</th>\n      <td>GreatBarbet1</td>\n      <td>0.853</td>\n      <td>0.722</td>\n      <td>0.355</td>\n      <td>0.355</td>\n      <td>0.355</td>\n      <td>0.355</td>\n      <td>0.355</td>\n      <td>0.355</td>\n      <td>0.355</td>\n      <td>0.355</td>\n    </tr>\n    <tr>\n      <th>6</th>\n      <td>Herring</td>\n      <td>0.999</td>\n      <td>1.000</td>\n      <td>1.000</td>\n      <td>1.000</td>\n      <td>1.000</td>\n      <td>1.000</td>\n      <td>1.000</td>\n      <td>1.000</td>\n      <td>1.000</td>\n      <td>1.000</td>\n    </tr>\n    <tr>\n      <th>7</th>\n      <td>InlineSkate</td>\n      <td>0.425</td>\n      <td>0.610</td>\n      <td>0.634</td>\n      <td>0.633</td>\n      <td>0.615</td>\n      <td>0.358</td>\n      <td>0.358</td>\n      <td>0.358</td>\n      <td>0.358</td>\n      <td>0.358</td>\n    </tr>\n    <tr>\n      <th>8</th>\n      <td>InsectEPG1</td>\n      <td>0.314</td>\n      <td>0.504</td>\n      <td>0.653</td>\n      <td>0.653</td>\n      <td>0.653</td>\n      <td>0.653</td>\n      <td>0.653</td>\n      <td>0.653</td>\n      <td>0.653</td>\n      <td>0.653</td>\n    </tr>\n    <tr>\n      <th>9</th>\n      <td>MelbournePedestrian</td>\n      <td>0.295</td>\n      <td>0.149</td>\n      <td>0.149</td>\n      <td>0.149</td>\n      <td>0.149</td>\n      <td>0.149</td>\n      <td>0.149</td>\n      <td>0.149</td>\n      <td>0.149</td>\n      <td>0.149</td>\n    </tr>\n    <tr>\n      <th>10</th>\n      <td>NogunGun</td>\n      <td>0.235</td>\n      <td>0.395</td>\n      <td>0.395</td>\n      <td>0.559</td>\n      <td>0.661</td>\n      <td>0.661</td>\n      <td>0.518</td>\n      <td>0.518</td>\n      <td>0.518</td>\n      <td>0.518</td>\n    </tr>\n    <tr>\n      <th>11</th>\n      <td>NonInvasiveFetalECGThorax1</td>\n      <td>0.415</td>\n      <td>0.169</td>\n      <td>0.169</td>\n      <td>0.169</td>\n      <td>0.169</td>\n      <td>0.169</td>\n      <td>0.169</td>\n      <td>0.169</td>\n      <td>0.169</td>\n      <td>0.169</td>\n    </tr>\n    <tr>\n      <th>12</th>\n      <td>ShapesAll</td>\n      <td>0.641</td>\n      <td>0.720</td>\n      <td>0.740</td>\n      <td>0.540</td>\n      <td>0.514</td>\n      <td>0.200</td>\n      <td>0.200</td>\n      <td>0.200</td>\n      <td>0.200</td>\n      <td>0.200</td>\n    </tr>\n    <tr>\n      <th>13</th>\n      <td>TiltECG</td>\n      <td>0.023</td>\n      <td>0.043</td>\n      <td>0.408</td>\n      <td>0.871</td>\n      <td>0.531</td>\n      <td>0.531</td>\n      <td>0.531</td>\n      <td>0.531</td>\n      <td>0.531</td>\n      <td>0.531</td>\n    </tr>\n    <tr>\n      <th>14</th>\n      <td>ToeSegmentation1</td>\n      <td>0.686</td>\n      <td>0.500</td>\n      <td>0.500</td>\n      <td>0.500</td>\n      <td>0.500</td>\n      <td>0.500</td>\n      <td>0.500</td>\n      <td>0.500</td>\n      <td>0.500</td>\n      <td>0.500</td>\n    </tr>\n    <tr>\n      <th>15</th>\n      <td>ToeSegmentation2</td>\n      <td>0.634</td>\n      <td>0.634</td>\n      <td>0.500</td>\n      <td>0.500</td>\n      <td>0.500</td>\n      <td>0.500</td>\n      <td>0.500</td>\n      <td>0.500</td>\n      <td>0.500</td>\n      <td>0.500</td>\n    </tr>\n    <tr>\n      <th>16</th>\n      <td>Trace</td>\n      <td>0.297</td>\n      <td>0.414</td>\n      <td>0.344</td>\n      <td>0.344</td>\n      <td>0.344</td>\n      <td>0.344</td>\n      <td>0.344</td>\n      <td>0.344</td>\n      <td>0.344</td>\n      <td>0.344</td>\n    </tr>\n    <tr>\n      <th>17</th>\n      <td>UWaveGestureLibraryY</td>\n      <td>0.425</td>\n      <td>0.201</td>\n      <td>0.201</td>\n      <td>0.201</td>\n      <td>0.201</td>\n      <td>0.201</td>\n      <td>0.201</td>\n      <td>0.201</td>\n      <td>0.201</td>\n      <td>0.201</td>\n    </tr>\n    <tr>\n      <th>18</th>\n      <td>UWaveGestureLibraryZ</td>\n      <td>0.201</td>\n      <td>0.201</td>\n      <td>0.201</td>\n      <td>0.201</td>\n      <td>0.201</td>\n      <td>0.201</td>\n      <td>0.201</td>\n      <td>0.201</td>\n      <td>0.201</td>\n      <td>0.201</td>\n    </tr>\n    <tr>\n      <th>19</th>\n      <td>WordSynonyms</td>\n      <td>0.525</td>\n      <td>0.524</td>\n      <td>0.841</td>\n      <td>0.727</td>\n      <td>0.727</td>\n      <td>0.727</td>\n      <td>0.727</td>\n      <td>0.727</td>\n      <td>0.727</td>\n      <td>0.727</td>\n    </tr>\n    <tr>\n      <th>20</th>\n      <td>Yoga</td>\n      <td>0.135</td>\n      <td>0.183</td>\n      <td>0.241</td>\n      <td>0.437</td>\n      <td>0.669</td>\n      <td>0.733</td>\n      <td>0.504</td>\n      <td>0.504</td>\n      <td>0.504</td>\n      <td>0.504</td>\n    </tr>\n  </tbody>\n</table>\n</div>"
     },
     "execution_count": 4,
     "metadata": {},
     "output_type": "execute_result"
    }
   ],
   "source": [
    "thresholds = list(range(10, 100 + 1, 10))\n",
    "methods = list()\n",
    "\n",
    "for t in thresholds:\n",
    "    candidate_name = f\"{t}-threshold\"\n",
    "    methods.append((candidate_name, f\"{candidate_name}.csv\"))\n",
    "\n",
    "for idx, (name, file_name) in enumerate(methods):\n",
    "    methods[idx] = name, pd.read_csv(f\"../../experiments/change_finder_threshold/{file_name}\")\n",
    "\n",
    "df_scores = pd.DataFrame()\n",
    "\n",
    "for name, df in methods:\n",
    "    df_scores[\"dataset\"] = df.dataset\n",
    "    df_scores[name] = df[eval_score]\n",
    "\n",
    "df_scores"
   ]
  },
  {
   "cell_type": "markdown",
   "metadata": {},
   "source": [
    "Let's calculate the mean/std score."
   ]
  },
  {
   "cell_type": "code",
   "execution_count": 5,
   "metadata": {},
   "outputs": [
    {
     "name": "stderr",
     "output_type": "stream",
     "text": [
      "/var/folders/5_/fv_bzq1n4n76j6l_jqgndj6c0000gn/T/ipykernel_4189/3088260556.py:1: FutureWarning: Dropping of nuisance columns in DataFrame reductions (with 'numeric_only=None') is deprecated; in a future version this will raise TypeError.  Select only valid columns before calling the reduction.\n",
      "  df_scores.mean(axis=0).round(3)\n"
     ]
    },
    {
     "data": {
      "text/plain": "10-threshold     0.465\n20-threshold     0.472\n30-threshold     0.499\n40-threshold     0.516\n50-threshold     0.513\n60-threshold     0.480\n70-threshold     0.462\n80-threshold     0.462\n90-threshold     0.462\n100-threshold    0.462\ndtype: float64"
     },
     "execution_count": 5,
     "metadata": {},
     "output_type": "execute_result"
    }
   ],
   "source": [
    "df_scores.mean(axis=0).round(3)"
   ]
  },
  {
   "cell_type": "code",
   "execution_count": 6,
   "metadata": {},
   "outputs": [
    {
     "name": "stderr",
     "output_type": "stream",
     "text": [
      "/var/folders/5_/fv_bzq1n4n76j6l_jqgndj6c0000gn/T/ipykernel_4189/2527189798.py:1: FutureWarning: Dropping of nuisance columns in DataFrame reductions (with 'numeric_only=None') is deprecated; in a future version this will raise TypeError.  Select only valid columns before calling the reduction.\n",
      "  df_scores.std(axis=0).round(3)\n"
     ]
    },
    {
     "data": {
      "text/plain": "10-threshold     0.247\n20-threshold     0.245\n30-threshold     0.253\n40-threshold     0.244\n50-threshold     0.234\n60-threshold     0.251\n70-threshold     0.241\n80-threshold     0.241\n90-threshold     0.241\n100-threshold    0.241\ndtype: float64"
     },
     "execution_count": 6,
     "metadata": {},
     "output_type": "execute_result"
    }
   ],
   "source": [
    "df_scores.std(axis=0).round(3)"
   ]
  },
  {
   "cell_type": "markdown",
   "metadata": {},
   "source": [
    "Let's compute the wins per method."
   ]
  },
  {
   "cell_type": "code",
   "execution_count": 7,
   "metadata": {},
   "outputs": [],
   "source": [
    "ranks = df_scores.rank(1, method='min', ascending=False)\n",
    "means = np.array(ranks.mean(axis=0))"
   ]
  },
  {
   "cell_type": "code",
   "execution_count": 8,
   "metadata": {
    "scrolled": true
   },
   "outputs": [
    {
     "name": "stdout",
     "output_type": "stream",
     "text": [
      "10-threshold:wins=9 rank=5.28571\n",
      "20-threshold:wins=5 rank=4.2381\n",
      "30-threshold:wins=9 rank=2.57143\n",
      "40-threshold:wins=6 rank=2.28571\n",
      "50-threshold:wins=6 rank=2.09524\n",
      "60-threshold:wins=7 rank=2.38095\n",
      "70-threshold:wins=5 rank=2.61905\n",
      "80-threshold:wins=5 rank=2.61905\n",
      "90-threshold:wins=5 rank=2.61905\n",
      "100-threshold:wins=5 rank=2.61905\n"
     ]
    }
   ],
   "source": [
    "for mean, name in zip(means, df_scores.columns[1:]):\n",
    "    print(f\"{name}:wins={ranks[ranks[name] == 1].shape[0]} rank={np.round(mean, 5)}\")"
   ]
  },
  {
   "cell_type": "markdown",
   "metadata": {},
   "source": [
    "Let's plot and output the ranks."
   ]
  },
  {
   "cell_type": "code",
   "execution_count": 9,
   "metadata": {},
   "outputs": [
    {
     "data": {
      "text/plain": "<Figure size 360x162 with 1 Axes>",
      "image/png": "[encoded data removed]"
     },
     "metadata": {},
     "output_type": "display_data"
    }
   ],
   "source": [
    "cd = Orange.evaluation.scoring.compute_CD(means, df_scores.shape[0])\n",
    "Orange.evaluation.scoring.graph_ranks(means, df_scores.columns[1:], cd=cd, reverse=True, width=5,\n",
    "                                      filename=\"../../figures/cd_ablation_change_finder_threshold.pdf\")"
   ]
  },
  {
   "cell_type": "markdown",
   "metadata": {},
   "source": [
    "Let's compute pairwise wins/losses."
   ]
  },
  {
   "cell_type": "code",
   "execution_count": 10,
   "metadata": {},
   "outputs": [
    {
     "name": "stdout",
     "output_type": "stream",
     "text": [
      "50-threshold vs 10-threshold: (wins/ties/losses): 11/1/9\n",
      "50-threshold vs 20-threshold: (wins/ties/losses): 8/7/6\n",
      "50-threshold vs 30-threshold: (wins/ties/losses): 3/14/4\n",
      "50-threshold vs 40-threshold: (wins/ties/losses): 2/16/3\n",
      "50-threshold vs 60-threshold: (wins/ties/losses): 3/17/1\n",
      "50-threshold vs 70-threshold: (wins/ties/losses): 5/16/0\n",
      "50-threshold vs 80-threshold: (wins/ties/losses): 5/16/0\n",
      "50-threshold vs 90-threshold: (wins/ties/losses): 5/16/0\n",
      "50-threshold vs 100-threshold: (wins/ties/losses): 5/16/0\n"
     ]
    }
   ],
   "source": [
    "selection = \"50-threshold\"\n",
    "\n",
    "for rival in df_scores.columns[1:]:\n",
    "    if rival == selection: continue\n",
    "\n",
    "    df_pair = df_scores[[selection, rival]]\n",
    "    pair_ranks = df_pair.rank(1, method='min', ascending=False)\n",
    "\n",
    "    wins = pair_ranks[(pair_ranks[selection] == 1) & (pair_ranks[rival] == 2)].shape[0]\n",
    "    losses = pair_ranks[(pair_ranks[selection] == 2) & (pair_ranks[rival] == 1)].shape[0]\n",
    "    ties = pair_ranks[(pair_ranks[selection] == 1) & (pair_ranks[rival] == 1)].shape[0]\n",
    "\n",
    "    assert wins + losses + ties == pair_ranks.shape[0]\n",
    "\n",
    "    print(f\"{selection} vs {rival}: (wins/ties/losses): {wins}/{ties}/{losses}\")"
   ]
  },
  {
   "cell_type": "code",
   "execution_count": 11,
   "metadata": {
    "pycharm": {
     "name": "#%%\n"
    }
   },
   "outputs": [
    {
     "name": "stderr",
     "output_type": "stream",
     "text": [
      "/var/folders/5_/fv_bzq1n4n76j6l_jqgndj6c0000gn/T/ipykernel_4189/3964093716.py:8: MatplotlibDeprecationWarning: The label function was deprecated in Matplotlib 3.1 and will be removed in 3.8. Use Tick.label1 instead.\n",
      "  tick.label.set_fontsize(fontsize)\n",
      "/var/folders/5_/fv_bzq1n4n76j6l_jqgndj6c0000gn/T/ipykernel_4189/3964093716.py:11: MatplotlibDeprecationWarning: The label function was deprecated in Matplotlib 3.1 and will be removed in 3.8. Use Tick.label1 instead.\n",
      "  tick.label.set_fontsize(fontsize)\n"
     ]
    },
    {
     "data": {
      "text/plain": "<Figure size 720x720 with 1 Axes>",
      "image/png": "[encoded data removed]"
     },
     "metadata": {
      "needs_background": "light"
     },
     "output_type": "display_data"
    }
   ],
   "source": [
    "fontsize = 18\n",
    "_, ax = plt.subplots(figsize=(10, 10))\n",
    "\n",
    "df_scores.boxplot(ax=ax, rot=90)\n",
    "ax.set_ylabel(eval_score, fontsize=fontsize)\n",
    "\n",
    "for tick in ax.xaxis.get_major_ticks():\n",
    "    tick.label.set_fontsize(fontsize)\n",
    "\n",
    "for tick in ax.yaxis.get_major_ticks():\n",
    "    tick.label.set_fontsize(fontsize)\n",
    "\n",
    "plt.savefig(\"../../figures/bp_ablation_change_finder_threshold.pdf\", bbox_inches=\"tight\")"
   ]
  }
 ],
 "metadata": {
  "kernelspec": {
   "display_name": "Python 3 (ipykernel)",
   "language": "python",
   "name": "python3"
  },
  "language_info": {
   "codemirror_mode": {
    "name": "ipython",
    "version": 3
   },
   "file_extension": ".py",
   "mimetype": "text/x-python",
   "name": "python",
   "nbconvert_exporter": "python",
   "pygments_lexer": "ipython3",
   "version": "3.8.12"
  }
 },
 "nbformat": 4,
 "nbformat_minor": 4
}