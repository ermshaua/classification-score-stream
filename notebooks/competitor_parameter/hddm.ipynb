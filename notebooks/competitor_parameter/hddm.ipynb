{
 "cells": [
  {
   "cell_type": "markdown",
   "metadata": {},
   "source": [
    "# Comparative Analysis\n",
    "In this notebook, we compare DDM with different parameter settings."
   ]
  },
  {
   "cell_type": "code",
   "execution_count": 1,
   "metadata": {},
   "outputs": [],
   "source": [
    "import matplotlib\n",
    "\n",
    "matplotlib.rcParams['pdf.fonttype'] = 42\n",
    "matplotlib.rcParams['ps.fonttype'] = 42"
   ]
  },
  {
   "cell_type": "code",
   "execution_count": 2,
   "metadata": {},
   "outputs": [],
   "source": [
    "import numpy as np\n",
    "import pandas as pd\n",
    "import daproli as dp\n",
    "\n",
    "import pandas as pd\n",
    "pd.set_option('display.max_rows', None)\n",
    "\n",
    "import matplotlib.pyplot as plt\n",
    "import seaborn as sns\n",
    "\n",
    "sns.set_theme()\n",
    "sns.set_color_codes()\n",
    "\n",
    "import Orange\n",
    "import sys\n",
    "sys.path.append(\"../../\")\n",
    "\n",
    "from tqdm import tqdm"
   ]
  },
  {
   "cell_type": "code",
   "execution_count": 3,
   "metadata": {},
   "outputs": [],
   "source": [
    "from src.visualizer import plot_profile, plot_profile_with_ts"
   ]
  },
  {
   "cell_type": "markdown",
   "metadata": {},
   "source": [
    "Let's choose a score for evaluation (F1 or Covering)."
   ]
  },
  {
   "cell_type": "code",
   "execution_count": 4,
   "metadata": {},
   "outputs": [],
   "source": [
    "eval_score = \"covering_score\""
   ]
  },
  {
   "cell_type": "markdown",
   "metadata": {},
   "source": [
    "Let's load the scores from the different methods."
   ]
  },
  {
   "cell_type": "code",
   "execution_count": 5,
   "metadata": {},
   "outputs": [
    {
     "data": {
      "text/html": [
       "<div>\n",
       "<style scoped>\n",
       "    .dataframe tbody tr th:only-of-type {\n",
       "        vertical-align: middle;\n",
       "    }\n",
       "\n",
       "    .dataframe tbody tr th {\n",
       "        vertical-align: top;\n",
       "    }\n",
       "\n",
       "    .dataframe thead th {\n",
       "        text-align: right;\n",
       "    }\n",
       "</style>\n",
       "<table border=\"1\" class=\"dataframe\">\n",
       "  <thead>\n",
       "    <tr style=\"text-align: right;\">\n",
       "      <th></th>\n",
       "      <th>dataset</th>\n",
       "      <th>1e-10-drift_confidence</th>\n",
       "      <th>1e-20-drift_confidence</th>\n",
       "      <th>1e-30-drift_confidence</th>\n",
       "      <th>1e-40-drift_confidence</th>\n",
       "      <th>1e-50-drift_confidence</th>\n",
       "      <th>1e-60-drift_confidence</th>\n",
       "      <th>1e-70-drift_confidence</th>\n",
       "      <th>1e-80-drift_confidence</th>\n",
       "      <th>1e-90-drift_confidence</th>\n",
       "      <th>1e-100-drift_confidence</th>\n",
       "    </tr>\n",
       "  </thead>\n",
       "  <tbody>\n",
       "    <tr>\n",
       "      <th>0</th>\n",
       "      <td>DodgerLoopDay</td>\n",
       "      <td>0.086</td>\n",
       "      <td>0.088</td>\n",
       "      <td>0.090</td>\n",
       "      <td>0.093</td>\n",
       "      <td>0.095</td>\n",
       "      <td>0.097</td>\n",
       "      <td>0.095</td>\n",
       "      <td>0.247</td>\n",
       "      <td>0.277</td>\n",
       "      <td>0.510</td>\n",
       "    </tr>\n",
       "    <tr>\n",
       "      <th>1</th>\n",
       "      <td>EEGRat</td>\n",
       "      <td>0.450</td>\n",
       "      <td>0.584</td>\n",
       "      <td>0.789</td>\n",
       "      <td>0.746</td>\n",
       "      <td>0.500</td>\n",
       "      <td>0.500</td>\n",
       "      <td>0.500</td>\n",
       "      <td>0.500</td>\n",
       "      <td>0.500</td>\n",
       "      <td>0.500</td>\n",
       "    </tr>\n",
       "    <tr>\n",
       "      <th>2</th>\n",
       "      <td>EEGRat2</td>\n",
       "      <td>0.410</td>\n",
       "      <td>0.469</td>\n",
       "      <td>0.500</td>\n",
       "      <td>0.500</td>\n",
       "      <td>0.500</td>\n",
       "      <td>0.500</td>\n",
       "      <td>0.500</td>\n",
       "      <td>0.500</td>\n",
       "      <td>0.500</td>\n",
       "      <td>0.500</td>\n",
       "    </tr>\n",
       "    <tr>\n",
       "      <th>3</th>\n",
       "      <td>FaceFour</td>\n",
       "      <td>0.125</td>\n",
       "      <td>0.163</td>\n",
       "      <td>0.272</td>\n",
       "      <td>0.389</td>\n",
       "      <td>0.379</td>\n",
       "      <td>0.487</td>\n",
       "      <td>0.571</td>\n",
       "      <td>0.487</td>\n",
       "      <td>0.613</td>\n",
       "      <td>0.613</td>\n",
       "    </tr>\n",
       "    <tr>\n",
       "      <th>4</th>\n",
       "      <td>GrandMalSeizures2</td>\n",
       "      <td>0.006</td>\n",
       "      <td>0.007</td>\n",
       "      <td>0.007</td>\n",
       "      <td>0.007</td>\n",
       "      <td>0.008</td>\n",
       "      <td>0.008</td>\n",
       "      <td>0.007</td>\n",
       "      <td>0.007</td>\n",
       "      <td>0.008</td>\n",
       "      <td>0.009</td>\n",
       "    </tr>\n",
       "    <tr>\n",
       "      <th>5</th>\n",
       "      <td>GreatBarbet1</td>\n",
       "      <td>0.293</td>\n",
       "      <td>0.407</td>\n",
       "      <td>0.530</td>\n",
       "      <td>0.658</td>\n",
       "      <td>0.682</td>\n",
       "      <td>0.674</td>\n",
       "      <td>0.665</td>\n",
       "      <td>0.656</td>\n",
       "      <td>0.355</td>\n",
       "      <td>0.355</td>\n",
       "    </tr>\n",
       "    <tr>\n",
       "      <th>6</th>\n",
       "      <td>Herring</td>\n",
       "      <td>0.014</td>\n",
       "      <td>0.026</td>\n",
       "      <td>0.627</td>\n",
       "      <td>1.000</td>\n",
       "      <td>1.000</td>\n",
       "      <td>1.000</td>\n",
       "      <td>1.000</td>\n",
       "      <td>1.000</td>\n",
       "      <td>1.000</td>\n",
       "      <td>1.000</td>\n",
       "    </tr>\n",
       "    <tr>\n",
       "      <th>7</th>\n",
       "      <td>InlineSkate</td>\n",
       "      <td>0.097</td>\n",
       "      <td>0.122</td>\n",
       "      <td>0.098</td>\n",
       "      <td>0.132</td>\n",
       "      <td>0.149</td>\n",
       "      <td>0.220</td>\n",
       "      <td>0.461</td>\n",
       "      <td>0.358</td>\n",
       "      <td>0.358</td>\n",
       "      <td>0.358</td>\n",
       "    </tr>\n",
       "    <tr>\n",
       "      <th>8</th>\n",
       "      <td>InsectEPG1</td>\n",
       "      <td>0.933</td>\n",
       "      <td>0.653</td>\n",
       "      <td>0.653</td>\n",
       "      <td>0.653</td>\n",
       "      <td>0.653</td>\n",
       "      <td>0.653</td>\n",
       "      <td>0.653</td>\n",
       "      <td>0.653</td>\n",
       "      <td>0.653</td>\n",
       "      <td>0.653</td>\n",
       "    </tr>\n",
       "    <tr>\n",
       "      <th>9</th>\n",
       "      <td>MelbournePedestrian</td>\n",
       "      <td>0.149</td>\n",
       "      <td>0.149</td>\n",
       "      <td>0.149</td>\n",
       "      <td>0.149</td>\n",
       "      <td>0.149</td>\n",
       "      <td>0.149</td>\n",
       "      <td>0.149</td>\n",
       "      <td>0.149</td>\n",
       "      <td>0.149</td>\n",
       "      <td>0.149</td>\n",
       "    </tr>\n",
       "    <tr>\n",
       "      <th>10</th>\n",
       "      <td>NogunGun</td>\n",
       "      <td>0.033</td>\n",
       "      <td>0.031</td>\n",
       "      <td>0.033</td>\n",
       "      <td>0.033</td>\n",
       "      <td>0.033</td>\n",
       "      <td>0.036</td>\n",
       "      <td>0.035</td>\n",
       "      <td>0.034</td>\n",
       "      <td>0.035</td>\n",
       "      <td>0.037</td>\n",
       "    </tr>\n",
       "    <tr>\n",
       "      <th>11</th>\n",
       "      <td>NonInvasiveFetalECGThorax1</td>\n",
       "      <td>0.065</td>\n",
       "      <td>0.169</td>\n",
       "      <td>0.169</td>\n",
       "      <td>0.169</td>\n",
       "      <td>0.169</td>\n",
       "      <td>0.169</td>\n",
       "      <td>0.169</td>\n",
       "      <td>0.169</td>\n",
       "      <td>0.169</td>\n",
       "      <td>0.169</td>\n",
       "    </tr>\n",
       "    <tr>\n",
       "      <th>12</th>\n",
       "      <td>ShapesAll</td>\n",
       "      <td>0.090</td>\n",
       "      <td>0.191</td>\n",
       "      <td>0.378</td>\n",
       "      <td>0.283</td>\n",
       "      <td>0.315</td>\n",
       "      <td>0.395</td>\n",
       "      <td>0.393</td>\n",
       "      <td>0.200</td>\n",
       "      <td>0.200</td>\n",
       "      <td>0.200</td>\n",
       "    </tr>\n",
       "    <tr>\n",
       "      <th>13</th>\n",
       "      <td>TiltECG</td>\n",
       "      <td>0.002</td>\n",
       "      <td>0.002</td>\n",
       "      <td>0.002</td>\n",
       "      <td>0.002</td>\n",
       "      <td>0.002</td>\n",
       "      <td>0.002</td>\n",
       "      <td>0.002</td>\n",
       "      <td>0.002</td>\n",
       "      <td>0.002</td>\n",
       "      <td>0.002</td>\n",
       "    </tr>\n",
       "    <tr>\n",
       "      <th>14</th>\n",
       "      <td>ToeSegmentation1</td>\n",
       "      <td>0.145</td>\n",
       "      <td>0.773</td>\n",
       "      <td>0.500</td>\n",
       "      <td>0.500</td>\n",
       "      <td>0.500</td>\n",
       "      <td>0.500</td>\n",
       "      <td>0.500</td>\n",
       "      <td>0.500</td>\n",
       "      <td>0.500</td>\n",
       "      <td>0.500</td>\n",
       "    </tr>\n",
       "    <tr>\n",
       "      <th>15</th>\n",
       "      <td>ToeSegmentation2</td>\n",
       "      <td>0.088</td>\n",
       "      <td>0.374</td>\n",
       "      <td>0.735</td>\n",
       "      <td>0.465</td>\n",
       "      <td>0.500</td>\n",
       "      <td>0.500</td>\n",
       "      <td>0.500</td>\n",
       "      <td>0.500</td>\n",
       "      <td>0.500</td>\n",
       "      <td>0.500</td>\n",
       "    </tr>\n",
       "    <tr>\n",
       "      <th>16</th>\n",
       "      <td>Trace</td>\n",
       "      <td>0.048</td>\n",
       "      <td>0.049</td>\n",
       "      <td>0.440</td>\n",
       "      <td>0.344</td>\n",
       "      <td>0.344</td>\n",
       "      <td>0.344</td>\n",
       "      <td>0.344</td>\n",
       "      <td>0.344</td>\n",
       "      <td>0.344</td>\n",
       "      <td>0.344</td>\n",
       "    </tr>\n",
       "    <tr>\n",
       "      <th>17</th>\n",
       "      <td>UWaveGestureLibraryY</td>\n",
       "      <td>0.201</td>\n",
       "      <td>0.201</td>\n",
       "      <td>0.201</td>\n",
       "      <td>0.201</td>\n",
       "      <td>0.201</td>\n",
       "      <td>0.201</td>\n",
       "      <td>0.201</td>\n",
       "      <td>0.201</td>\n",
       "      <td>0.201</td>\n",
       "      <td>0.201</td>\n",
       "    </tr>\n",
       "    <tr>\n",
       "      <th>18</th>\n",
       "      <td>UWaveGestureLibraryZ</td>\n",
       "      <td>0.201</td>\n",
       "      <td>0.201</td>\n",
       "      <td>0.201</td>\n",
       "      <td>0.201</td>\n",
       "      <td>0.201</td>\n",
       "      <td>0.201</td>\n",
       "      <td>0.201</td>\n",
       "      <td>0.201</td>\n",
       "      <td>0.201</td>\n",
       "      <td>0.201</td>\n",
       "    </tr>\n",
       "    <tr>\n",
       "      <th>19</th>\n",
       "      <td>WordSynonyms</td>\n",
       "      <td>0.151</td>\n",
       "      <td>0.727</td>\n",
       "      <td>0.727</td>\n",
       "      <td>0.727</td>\n",
       "      <td>0.727</td>\n",
       "      <td>0.727</td>\n",
       "      <td>0.727</td>\n",
       "      <td>0.727</td>\n",
       "      <td>0.727</td>\n",
       "      <td>0.727</td>\n",
       "    </tr>\n",
       "    <tr>\n",
       "      <th>20</th>\n",
       "      <td>Yoga</td>\n",
       "      <td>0.043</td>\n",
       "      <td>0.504</td>\n",
       "      <td>0.504</td>\n",
       "      <td>0.504</td>\n",
       "      <td>0.504</td>\n",
       "      <td>0.504</td>\n",
       "      <td>0.504</td>\n",
       "      <td>0.504</td>\n",
       "      <td>0.504</td>\n",
       "      <td>0.504</td>\n",
       "    </tr>\n",
       "  </tbody>\n",
       "</table>\n",
       "</div>"
      ],
      "text/plain": [
       "                       dataset  1e-10-drift_confidence  \\\n",
       "0                DodgerLoopDay                   0.086   \n",
       "1                       EEGRat                   0.450   \n",
       "2                      EEGRat2                   0.410   \n",
       "3                     FaceFour                   0.125   \n",
       "4            GrandMalSeizures2                   0.006   \n",
       "5                 GreatBarbet1                   0.293   \n",
       "6                      Herring                   0.014   \n",
       "7                  InlineSkate                   0.097   \n",
       "8                   InsectEPG1                   0.933   \n",
       "9          MelbournePedestrian                   0.149   \n",
       "10                    NogunGun                   0.033   \n",
       "11  NonInvasiveFetalECGThorax1                   0.065   \n",
       "12                   ShapesAll                   0.090   \n",
       "13                     TiltECG                   0.002   \n",
       "14            ToeSegmentation1                   0.145   \n",
       "15            ToeSegmentation2                   0.088   \n",
       "16                       Trace                   0.048   \n",
       "17        UWaveGestureLibraryY                   0.201   \n",
       "18        UWaveGestureLibraryZ                   0.201   \n",
       "19                WordSynonyms                   0.151   \n",
       "20                        Yoga                   0.043   \n",
       "\n",
       "    1e-20-drift_confidence  1e-30-drift_confidence  1e-40-drift_confidence  \\\n",
       "0                    0.088                   0.090                   0.093   \n",
       "1                    0.584                   0.789                   0.746   \n",
       "2                    0.469                   0.500                   0.500   \n",
       "3                    0.163                   0.272                   0.389   \n",
       "4                    0.007                   0.007                   0.007   \n",
       "5                    0.407                   0.530                   0.658   \n",
       "6                    0.026                   0.627                   1.000   \n",
       "7                    0.122                   0.098                   0.132   \n",
       "8                    0.653                   0.653                   0.653   \n",
       "9                    0.149                   0.149                   0.149   \n",
       "10                   0.031                   0.033                   0.033   \n",
       "11                   0.169                   0.169                   0.169   \n",
       "12                   0.191                   0.378                   0.283   \n",
       "13                   0.002                   0.002                   0.002   \n",
       "14                   0.773                   0.500                   0.500   \n",
       "15                   0.374                   0.735                   0.465   \n",
       "16                   0.049                   0.440                   0.344   \n",
       "17                   0.201                   0.201                   0.201   \n",
       "18                   0.201                   0.201                   0.201   \n",
       "19                   0.727                   0.727                   0.727   \n",
       "20                   0.504                   0.504                   0.504   \n",
       "\n",
       "    1e-50-drift_confidence  1e-60-drift_confidence  1e-70-drift_confidence  \\\n",
       "0                    0.095                   0.097                   0.095   \n",
       "1                    0.500                   0.500                   0.500   \n",
       "2                    0.500                   0.500                   0.500   \n",
       "3                    0.379                   0.487                   0.571   \n",
       "4                    0.008                   0.008                   0.007   \n",
       "5                    0.682                   0.674                   0.665   \n",
       "6                    1.000                   1.000                   1.000   \n",
       "7                    0.149                   0.220                   0.461   \n",
       "8                    0.653                   0.653                   0.653   \n",
       "9                    0.149                   0.149                   0.149   \n",
       "10                   0.033                   0.036                   0.035   \n",
       "11                   0.169                   0.169                   0.169   \n",
       "12                   0.315                   0.395                   0.393   \n",
       "13                   0.002                   0.002                   0.002   \n",
       "14                   0.500                   0.500                   0.500   \n",
       "15                   0.500                   0.500                   0.500   \n",
       "16                   0.344                   0.344                   0.344   \n",
       "17                   0.201                   0.201                   0.201   \n",
       "18                   0.201                   0.201                   0.201   \n",
       "19                   0.727                   0.727                   0.727   \n",
       "20                   0.504                   0.504                   0.504   \n",
       "\n",
       "    1e-80-drift_confidence  1e-90-drift_confidence  1e-100-drift_confidence  \n",
       "0                    0.247                   0.277                    0.510  \n",
       "1                    0.500                   0.500                    0.500  \n",
       "2                    0.500                   0.500                    0.500  \n",
       "3                    0.487                   0.613                    0.613  \n",
       "4                    0.007                   0.008                    0.009  \n",
       "5                    0.656                   0.355                    0.355  \n",
       "6                    1.000                   1.000                    1.000  \n",
       "7                    0.358                   0.358                    0.358  \n",
       "8                    0.653                   0.653                    0.653  \n",
       "9                    0.149                   0.149                    0.149  \n",
       "10                   0.034                   0.035                    0.037  \n",
       "11                   0.169                   0.169                    0.169  \n",
       "12                   0.200                   0.200                    0.200  \n",
       "13                   0.002                   0.002                    0.002  \n",
       "14                   0.500                   0.500                    0.500  \n",
       "15                   0.500                   0.500                    0.500  \n",
       "16                   0.344                   0.344                    0.344  \n",
       "17                   0.201                   0.201                    0.201  \n",
       "18                   0.201                   0.201                    0.201  \n",
       "19                   0.727                   0.727                    0.727  \n",
       "20                   0.504                   0.504                    0.504  "
      ]
     },
     "execution_count": 5,
     "metadata": {},
     "output_type": "execute_result"
    }
   ],
   "source": [
    "confs = (1e-10, 1e-20, 1e-30, 1e-40, 1e-50, 1e-60, 1e-70, 1e-80, 1e-90, 1e-100)\n",
    "methods = list()\n",
    "\n",
    "for c in confs:\n",
    "    candidate_name = f\"{c}-drift_confidence\"\n",
    "    methods.append((candidate_name, f\"{candidate_name}.csv\"))\n",
    "\n",
    "for idx, (name, file_name) in enumerate(methods):\n",
    "    methods[idx] = name, pd.read_csv(f\"../../experiments/hddm_drift_confidence/{file_name}\")\n",
    "    \n",
    "df_scores = pd.DataFrame()\n",
    "\n",
    "for name, df in methods:\n",
    "    df_scores[\"dataset\"] = df.dataset\n",
    "    df_scores[name] = df[eval_score]\n",
    "    \n",
    "df_scores"
   ]
  },
  {
   "cell_type": "markdown",
   "metadata": {},
   "source": [
    "Let's calculate the mean/std score."
   ]
  },
  {
   "cell_type": "code",
   "execution_count": 6,
   "metadata": {},
   "outputs": [
    {
     "name": "stderr",
     "output_type": "stream",
     "text": [
      "/var/folders/5_/fv_bzq1n4n76j6l_jqgndj6c0000gn/T/ipykernel_5245/2219294936.py:1: FutureWarning: The default value of numeric_only in DataFrame.mean is deprecated. In a future version, it will default to False. In addition, specifying 'numeric_only=None' is deprecated. Select only valid columns or specify the value of numeric_only to silence this warning.\n",
      "  df_scores.mean(axis=0).round(3)\n"
     ]
    },
    {
     "data": {
      "text/plain": [
       "1e-10-drift_confidence     0.173\n",
       "1e-20-drift_confidence     0.280\n",
       "1e-30-drift_confidence     0.362\n",
       "1e-40-drift_confidence     0.369\n",
       "1e-50-drift_confidence     0.362\n",
       "1e-60-drift_confidence     0.375\n",
       "1e-70-drift_confidence     0.389\n",
       "1e-80-drift_confidence     0.378\n",
       "1e-90-drift_confidence     0.371\n",
       "1e-100-drift_confidence    0.382\n",
       "dtype: float64"
      ]
     },
     "execution_count": 6,
     "metadata": {},
     "output_type": "execute_result"
    }
   ],
   "source": [
    "df_scores.mean(axis=0).round(3)"
   ]
  },
  {
   "cell_type": "code",
   "execution_count": 7,
   "metadata": {},
   "outputs": [
    {
     "name": "stderr",
     "output_type": "stream",
     "text": [
      "/var/folders/5_/fv_bzq1n4n76j6l_jqgndj6c0000gn/T/ipykernel_5245/1084607075.py:1: FutureWarning: The default value of numeric_only in DataFrame.std is deprecated. In a future version, it will default to False. In addition, specifying 'numeric_only=None' is deprecated. Select only valid columns or specify the value of numeric_only to silence this warning.\n",
      "  df_scores.std(axis=0).round(3)\n"
     ]
    },
    {
     "data": {
      "text/plain": [
       "1e-10-drift_confidence     0.213\n",
       "1e-20-drift_confidence     0.249\n",
       "1e-30-drift_confidence     0.260\n",
       "1e-40-drift_confidence     0.279\n",
       "1e-50-drift_confidence     0.268\n",
       "1e-60-drift_confidence     0.266\n",
       "1e-70-drift_confidence     0.266\n",
       "1e-80-drift_confidence     0.260\n",
       "1e-90-drift_confidence     0.256\n",
       "1e-100-drift_confidence    0.257\n",
       "dtype: float64"
      ]
     },
     "execution_count": 7,
     "metadata": {},
     "output_type": "execute_result"
    }
   ],
   "source": [
    "df_scores.std(axis=0).round(3)"
   ]
  },
  {
   "cell_type": "markdown",
   "metadata": {},
   "source": [
    "Let's compute the wins per method."
   ]
  },
  {
   "cell_type": "code",
   "execution_count": 8,
   "metadata": {},
   "outputs": [
    {
     "name": "stderr",
     "output_type": "stream",
     "text": [
      "/var/folders/5_/fv_bzq1n4n76j6l_jqgndj6c0000gn/T/ipykernel_5245/3065857076.py:1: FutureWarning: Dropping of nuisance columns in DataFrame.rank is deprecated; in a future version this will raise TypeError. Select only valid columns before calling rank.\n",
      "  ranks = df_scores.rank(1, method = 'min', ascending=False)\n"
     ]
    }
   ],
   "source": [
    "ranks = df_scores.rank(1, method = 'min', ascending=False)\n",
    "means = np.array(ranks.mean(axis=0))"
   ]
  },
  {
   "cell_type": "code",
   "execution_count": 9,
   "metadata": {
    "scrolled": true
   },
   "outputs": [
    {
     "name": "stdout",
     "output_type": "stream",
     "text": [
      "1e-10-drift_confidence:wins=5 rank=7.66667\n",
      "1e-20-drift_confidence:wins=8 rank=5.04762\n",
      "1e-30-drift_confidence:wins=11 rank=3.2381\n",
      "1e-40-drift_confidence:wins=9 rank=3.09524\n",
      "1e-50-drift_confidence:wins=10 rank=2.47619\n",
      "1e-60-drift_confidence:wins=10 rank=1.95238\n",
      "1e-70-drift_confidence:wins=10 rank=2.04762\n",
      "1e-80-drift_confidence:wins=9 rank=2.42857\n",
      "1e-90-drift_confidence:wins=10 rank=2.14286\n",
      "1e-100-drift_confidence:wins=13 rank=1.95238\n"
     ]
    }
   ],
   "source": [
    "for mean, name in zip(means, df_scores.columns[1:]):\n",
    "    print(f\"{name}:wins={ranks[ranks[name] == 1].shape[0]} rank={np.round(mean, 5)}\")"
   ]
  },
  {
   "cell_type": "markdown",
   "metadata": {},
   "source": [
    "Let's plot and output the ranks."
   ]
  },
  {
   "cell_type": "code",
   "execution_count": 10,
   "metadata": {},
   "outputs": [
    {
     "data": {
      "image/png": "[encoded data removed]",
      "text/plain": [
       "<Figure size 360x169.2 with 1 Axes>"
      ]
     },
     "metadata": {},
     "output_type": "display_data"
    }
   ],
   "source": [
    "cd = Orange.evaluation.scoring.compute_CD(means, df_scores.shape[0])\n",
    "Orange.evaluation.scoring.graph_ranks(means, df_scores.columns[1:], cd=cd, reverse=True, width=5, filename=\"../../figures/cd_ablation_hddm_drift_confidence.pdf\")"
   ]
  },
  {
   "cell_type": "markdown",
   "metadata": {},
   "source": [
    "Let's compute wins/losses against ClaSP."
   ]
  },
  {
   "cell_type": "code",
   "execution_count": 11,
   "metadata": {},
   "outputs": [
    {
     "name": "stdout",
     "output_type": "stream",
     "text": [
      "1e-60-drift_confidence vs 1e-10-drift_confidence: (wins/ties/losses): 16/4/1\n",
      "1e-60-drift_confidence vs 1e-20-drift_confidence: (wins/ties/losses): 11/8/2\n",
      "1e-60-drift_confidence vs 1e-30-drift_confidence: (wins/ties/losses): 8/10/3\n",
      "1e-60-drift_confidence vs 1e-40-drift_confidence: (wins/ties/losses): 8/12/1\n",
      "1e-60-drift_confidence vs 1e-50-drift_confidence: (wins/ties/losses): 5/15/1\n",
      "1e-60-drift_confidence vs 1e-70-drift_confidence: (wins/ties/losses): 5/14/2\n",
      "1e-60-drift_confidence vs 1e-80-drift_confidence: (wins/ties/losses): 4/15/2\n",
      "1e-60-drift_confidence vs 1e-90-drift_confidence: (wins/ties/losses): 3/15/3\n",
      "1e-60-drift_confidence vs 1e-100-drift_confidence: (wins/ties/losses): 2/14/5\n"
     ]
    }
   ],
   "source": [
    "selection = \"1e-60-drift_confidence\"\n",
    "\n",
    "for rival in df_scores.columns[1:]:\n",
    "    if rival == selection: continue\n",
    "    \n",
    "    df_pair = df_scores[[selection, rival]]\n",
    "    pair_ranks = df_pair.rank(1, method = 'min', ascending=False)\n",
    "    \n",
    "    wins = pair_ranks[(pair_ranks[selection] == 1) & (pair_ranks[rival] == 2)].shape[0]\n",
    "    losses = pair_ranks[(pair_ranks[selection] == 2) & (pair_ranks[rival] == 1)].shape[0]\n",
    "    ties = pair_ranks[(pair_ranks[selection] == 1) & (pair_ranks[rival] == 1)].shape[0]\n",
    "    \n",
    "    assert wins + losses + ties == pair_ranks.shape[0]\n",
    "    \n",
    "    print(f\"{selection} vs {rival}: (wins/ties/losses): {wins}/{ties}/{losses}\")"
   ]
  },
  {
   "cell_type": "code",
   "execution_count": 12,
   "metadata": {},
   "outputs": [
    {
     "name": "stderr",
     "output_type": "stream",
     "text": [
      "/var/folders/5_/fv_bzq1n4n76j6l_jqgndj6c0000gn/T/ipykernel_5245/4134506879.py:8: MatplotlibDeprecationWarning: The label function was deprecated in Matplotlib 3.1 and will be removed in 3.8. Use Tick.label1 instead.\n",
      "  tick.label.set_fontsize(fontsize)\n",
      "/var/folders/5_/fv_bzq1n4n76j6l_jqgndj6c0000gn/T/ipykernel_5245/4134506879.py:11: MatplotlibDeprecationWarning: The label function was deprecated in Matplotlib 3.1 and will be removed in 3.8. Use Tick.label1 instead.\n",
      "  tick.label.set_fontsize(fontsize)\n"
     ]
    },
    {
     "data": {
      "image/png": "[encoded data removed]",
      "text/plain": [
       "<Figure size 720x720 with 1 Axes>"
      ]
     },
     "metadata": {
      "needs_background": "light"
     },
     "output_type": "display_data"
    }
   ],
   "source": [
    "fontsize = 18\n",
    "_, ax = plt.subplots(figsize=(10,10))\n",
    "\n",
    "df_scores.boxplot(ax=ax, rot=90)\n",
    "ax.set_ylabel(eval_score, fontsize=fontsize)\n",
    "\n",
    "for tick in ax.xaxis.get_major_ticks():\n",
    "    tick.label.set_fontsize(fontsize)\n",
    "\n",
    "for tick in ax.yaxis.get_major_ticks():\n",
    "    tick.label.set_fontsize(fontsize)\n",
    "    \n",
    "plt.savefig(\"../../figures/bp_ablation_hddm_drift_confidence.pdf\", bbox_inches=\"tight\") "
   ]
  },
  {
   "cell_type": "code",
   "execution_count": null,
   "metadata": {},
   "outputs": [],
   "source": []
  }
 ],
 "metadata": {
  "kernelspec": {
   "display_name": "Python 3 (ipykernel)",
   "language": "python",
   "name": "python3"
  },
  "language_info": {
   "codemirror_mode": {
    "name": "ipython",
    "version": 3
   },
   "file_extension": ".py",
   "mimetype": "text/x-python",
   "name": "python",
   "nbconvert_exporter": "python",
   "pygments_lexer": "ipython3",
   "version": "3.8.12"
  }
 },
 "nbformat": 4,
 "nbformat_minor": 4
}
