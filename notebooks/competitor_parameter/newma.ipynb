{
 "cells": [
  {
   "cell_type": "markdown",
   "metadata": {},
   "source": [
    "# Comparative Analysis\n",
    "In this notebook, we compare NEWMA with different parameter settings."
   ]
  },
  {
   "cell_type": "code",
   "execution_count": 1,
   "metadata": {},
   "outputs": [],
   "source": [
    "import matplotlib\n",
    "\n",
    "matplotlib.rcParams['pdf.fonttype'] = 42\n",
    "matplotlib.rcParams['ps.fonttype'] = 42"
   ]
  },
  {
   "cell_type": "code",
   "execution_count": 2,
   "metadata": {},
   "outputs": [],
   "source": [
    "import numpy as np\n",
    "\n",
    "import pandas as pd\n",
    "\n",
    "pd.set_option('display.max_rows', None)\n",
    "\n",
    "import matplotlib.pyplot as plt\n",
    "import seaborn as sns\n",
    "\n",
    "sns.set_theme()\n",
    "sns.set_color_codes()\n",
    "\n",
    "import Orange\n",
    "import sys\n",
    "\n",
    "sys.path.append(\"../../\")"
   ]
  },
  {
   "cell_type": "markdown",
   "metadata": {},
   "source": [
    "Let's choose a score for evaluation (F1 or Covering)."
   ]
  },
  {
   "cell_type": "code",
   "execution_count": 3,
   "metadata": {},
   "outputs": [],
   "source": [
    "eval_score = \"covering_score\""
   ]
  },
  {
   "cell_type": "markdown",
   "metadata": {},
   "source": [
    "Let's load the scores from the different methods."
   ]
  },
  {
   "cell_type": "code",
   "execution_count": 4,
   "metadata": {},
   "outputs": [
    {
     "data": {
      "text/plain": "                       dataset  0.95-threshold  0.96-threshold  \\\n0                DodgerLoopDay           0.057           0.057   \n1                       EEGRat           0.095           0.104   \n2                      EEGRat2           0.078           0.086   \n3                     FaceFour           0.097           0.097   \n4            GrandMalSeizures2           0.035           0.035   \n5                 GreatBarbet1           0.063           0.075   \n6                      Herring           0.045           0.051   \n7                  InlineSkate           0.091           0.091   \n8                   InsectEPG1           0.018           0.019   \n9          MelbournePedestrian           0.119           0.173   \n10                    NogunGun           0.056           0.056   \n11  NonInvasiveFetalECGThorax1           0.023           0.023   \n12                   ShapesAll           0.097           0.112   \n13                     TiltECG           0.011           0.011   \n14            ToeSegmentation1           0.062           0.062   \n15            ToeSegmentation2           0.083           0.083   \n16                       Trace           0.043           0.056   \n17        UWaveGestureLibraryY           0.106           0.119   \n18        UWaveGestureLibraryZ           0.091           0.112   \n19                WordSynonyms           0.081           0.081   \n20                        Yoga           0.020           0.023   \n\n    0.97-threshold  0.98-threshold  0.99-threshold  1.0-threshold  \n0            0.058           0.078           0.118          1.000  \n1            0.124           0.157           0.209          0.500  \n2            0.086           0.086           0.110          0.500  \n3            0.111           0.118           0.149          0.281  \n4            0.035           0.035           0.039          0.508  \n5            0.095           0.126           0.148          0.355  \n6            0.154           0.718           1.000          1.000  \n7            0.115           0.149           0.228          0.358  \n8            0.022           0.022           0.034          0.653  \n9            0.341           0.394           0.440          0.149  \n10           0.056           0.057           0.056          0.518  \n11           0.023           0.023           0.023          0.169  \n12           0.123           0.169           0.405          0.200  \n13           0.011           0.011           0.014          0.531  \n14           0.062           0.081           0.124          0.500  \n15           0.091           0.096           0.100          0.500  \n16           0.070           0.111           0.282          0.344  \n17           0.132           0.170           0.213          0.201  \n18           0.121           0.151           0.215          0.201  \n19           0.081           0.081           0.094          0.727  \n20           0.028           0.032           0.060          0.504  ",
      "text/html": "<div>\n<style scoped>\n    .dataframe tbody tr th:only-of-type {\n        vertical-align: middle;\n    }\n\n    .dataframe tbody tr th {\n        vertical-align: top;\n    }\n\n    .dataframe thead th {\n        text-align: right;\n    }\n</style>\n<table border=\"1\" class=\"dataframe\">\n  <thead>\n    <tr style=\"text-align: right;\">\n      <th></th>\n      <th>dataset</th>\n      <th>0.95-threshold</th>\n      <th>0.96-threshold</th>\n      <th>0.97-threshold</th>\n      <th>0.98-threshold</th>\n      <th>0.99-threshold</th>\n      <th>1.0-threshold</th>\n    </tr>\n  </thead>\n  <tbody>\n    <tr>\n      <th>0</th>\n      <td>DodgerLoopDay</td>\n      <td>0.057</td>\n      <td>0.057</td>\n      <td>0.058</td>\n      <td>0.078</td>\n      <td>0.118</td>\n      <td>1.000</td>\n    </tr>\n    <tr>\n      <th>1</th>\n      <td>EEGRat</td>\n      <td>0.095</td>\n      <td>0.104</td>\n      <td>0.124</td>\n      <td>0.157</td>\n      <td>0.209</td>\n      <td>0.500</td>\n    </tr>\n    <tr>\n      <th>2</th>\n      <td>EEGRat2</td>\n      <td>0.078</td>\n      <td>0.086</td>\n      <td>0.086</td>\n      <td>0.086</td>\n      <td>0.110</td>\n      <td>0.500</td>\n    </tr>\n    <tr>\n      <th>3</th>\n      <td>FaceFour</td>\n      <td>0.097</td>\n      <td>0.097</td>\n      <td>0.111</td>\n      <td>0.118</td>\n      <td>0.149</td>\n      <td>0.281</td>\n    </tr>\n    <tr>\n      <th>4</th>\n      <td>GrandMalSeizures2</td>\n      <td>0.035</td>\n      <td>0.035</td>\n      <td>0.035</td>\n      <td>0.035</td>\n      <td>0.039</td>\n      <td>0.508</td>\n    </tr>\n    <tr>\n      <th>5</th>\n      <td>GreatBarbet1</td>\n      <td>0.063</td>\n      <td>0.075</td>\n      <td>0.095</td>\n      <td>0.126</td>\n      <td>0.148</td>\n      <td>0.355</td>\n    </tr>\n    <tr>\n      <th>6</th>\n      <td>Herring</td>\n      <td>0.045</td>\n      <td>0.051</td>\n      <td>0.154</td>\n      <td>0.718</td>\n      <td>1.000</td>\n      <td>1.000</td>\n    </tr>\n    <tr>\n      <th>7</th>\n      <td>InlineSkate</td>\n      <td>0.091</td>\n      <td>0.091</td>\n      <td>0.115</td>\n      <td>0.149</td>\n      <td>0.228</td>\n      <td>0.358</td>\n    </tr>\n    <tr>\n      <th>8</th>\n      <td>InsectEPG1</td>\n      <td>0.018</td>\n      <td>0.019</td>\n      <td>0.022</td>\n      <td>0.022</td>\n      <td>0.034</td>\n      <td>0.653</td>\n    </tr>\n    <tr>\n      <th>9</th>\n      <td>MelbournePedestrian</td>\n      <td>0.119</td>\n      <td>0.173</td>\n      <td>0.341</td>\n      <td>0.394</td>\n      <td>0.440</td>\n      <td>0.149</td>\n    </tr>\n    <tr>\n      <th>10</th>\n      <td>NogunGun</td>\n      <td>0.056</td>\n      <td>0.056</td>\n      <td>0.056</td>\n      <td>0.057</td>\n      <td>0.056</td>\n      <td>0.518</td>\n    </tr>\n    <tr>\n      <th>11</th>\n      <td>NonInvasiveFetalECGThorax1</td>\n      <td>0.023</td>\n      <td>0.023</td>\n      <td>0.023</td>\n      <td>0.023</td>\n      <td>0.023</td>\n      <td>0.169</td>\n    </tr>\n    <tr>\n      <th>12</th>\n      <td>ShapesAll</td>\n      <td>0.097</td>\n      <td>0.112</td>\n      <td>0.123</td>\n      <td>0.169</td>\n      <td>0.405</td>\n      <td>0.200</td>\n    </tr>\n    <tr>\n      <th>13</th>\n      <td>TiltECG</td>\n      <td>0.011</td>\n      <td>0.011</td>\n      <td>0.011</td>\n      <td>0.011</td>\n      <td>0.014</td>\n      <td>0.531</td>\n    </tr>\n    <tr>\n      <th>14</th>\n      <td>ToeSegmentation1</td>\n      <td>0.062</td>\n      <td>0.062</td>\n      <td>0.062</td>\n      <td>0.081</td>\n      <td>0.124</td>\n      <td>0.500</td>\n    </tr>\n    <tr>\n      <th>15</th>\n      <td>ToeSegmentation2</td>\n      <td>0.083</td>\n      <td>0.083</td>\n      <td>0.091</td>\n      <td>0.096</td>\n      <td>0.100</td>\n      <td>0.500</td>\n    </tr>\n    <tr>\n      <th>16</th>\n      <td>Trace</td>\n      <td>0.043</td>\n      <td>0.056</td>\n      <td>0.070</td>\n      <td>0.111</td>\n      <td>0.282</td>\n      <td>0.344</td>\n    </tr>\n    <tr>\n      <th>17</th>\n      <td>UWaveGestureLibraryY</td>\n      <td>0.106</td>\n      <td>0.119</td>\n      <td>0.132</td>\n      <td>0.170</td>\n      <td>0.213</td>\n      <td>0.201</td>\n    </tr>\n    <tr>\n      <th>18</th>\n      <td>UWaveGestureLibraryZ</td>\n      <td>0.091</td>\n      <td>0.112</td>\n      <td>0.121</td>\n      <td>0.151</td>\n      <td>0.215</td>\n      <td>0.201</td>\n    </tr>\n    <tr>\n      <th>19</th>\n      <td>WordSynonyms</td>\n      <td>0.081</td>\n      <td>0.081</td>\n      <td>0.081</td>\n      <td>0.081</td>\n      <td>0.094</td>\n      <td>0.727</td>\n    </tr>\n    <tr>\n      <th>20</th>\n      <td>Yoga</td>\n      <td>0.020</td>\n      <td>0.023</td>\n      <td>0.028</td>\n      <td>0.032</td>\n      <td>0.060</td>\n      <td>0.504</td>\n    </tr>\n  </tbody>\n</table>\n</div>"
     },
     "execution_count": 4,
     "metadata": {},
     "output_type": "execute_result"
    }
   ],
   "source": [
    "thresholds = (0.95, 0.96, 0.97, 0.98, 0.99, 1.)\n",
    "methods = list()\n",
    "\n",
    "for t in thresholds:\n",
    "    candidate_name = f\"{t}-threshold\"\n",
    "    methods.append((candidate_name, f\"{candidate_name}.csv\"))\n",
    "\n",
    "for idx, (name, file_name) in enumerate(methods):\n",
    "    methods[idx] = name, pd.read_csv(f\"../../experiments/newma_thresholding_quantile/{file_name}\")\n",
    "\n",
    "df_scores = pd.DataFrame()\n",
    "\n",
    "for name, df in methods:\n",
    "    df_scores[\"dataset\"] = df.dataset\n",
    "    df_scores[name] = df[eval_score]\n",
    "\n",
    "df_scores"
   ]
  },
  {
   "cell_type": "markdown",
   "metadata": {},
   "source": [
    "Let's calculate the mean/std score."
   ]
  },
  {
   "cell_type": "code",
   "execution_count": 5,
   "metadata": {},
   "outputs": [
    {
     "name": "stderr",
     "output_type": "stream",
     "text": [
      "/var/folders/5_/fv_bzq1n4n76j6l_jqgndj6c0000gn/T/ipykernel_4223/3088260556.py:1: FutureWarning: Dropping of nuisance columns in DataFrame reductions (with 'numeric_only=None') is deprecated; in a future version this will raise TypeError.  Select only valid columns before calling the reduction.\n",
      "  df_scores.mean(axis=0).round(3)\n"
     ]
    },
    {
     "data": {
      "text/plain": "0.95-threshold    0.065\n0.96-threshold    0.073\n0.97-threshold    0.092\n0.98-threshold    0.136\n0.99-threshold    0.193\n1.0-threshold     0.462\ndtype: float64"
     },
     "execution_count": 5,
     "metadata": {},
     "output_type": "execute_result"
    }
   ],
   "source": [
    "df_scores.mean(axis=0).round(3)"
   ]
  },
  {
   "cell_type": "code",
   "execution_count": 6,
   "metadata": {},
   "outputs": [
    {
     "name": "stderr",
     "output_type": "stream",
     "text": [
      "/var/folders/5_/fv_bzq1n4n76j6l_jqgndj6c0000gn/T/ipykernel_4223/2527189798.py:1: FutureWarning: Dropping of nuisance columns in DataFrame reductions (with 'numeric_only=None') is deprecated; in a future version this will raise TypeError.  Select only valid columns before calling the reduction.\n",
      "  df_scores.std(axis=0).round(3)\n"
     ]
    },
    {
     "data": {
      "text/plain": "0.95-threshold    0.032\n0.96-threshold    0.040\n0.97-threshold    0.070\n0.98-threshold    0.157\n0.99-threshold    0.218\n1.0-threshold     0.241\ndtype: float64"
     },
     "execution_count": 6,
     "metadata": {},
     "output_type": "execute_result"
    }
   ],
   "source": [
    "df_scores.std(axis=0).round(3)"
   ]
  },
  {
   "cell_type": "markdown",
   "metadata": {},
   "source": [
    "Let's compute the wins per method."
   ]
  },
  {
   "cell_type": "code",
   "execution_count": 7,
   "metadata": {},
   "outputs": [],
   "source": [
    "ranks = df_scores.rank(1, method='min', ascending=False)\n",
    "means = np.array(ranks.mean(axis=0))"
   ]
  },
  {
   "cell_type": "code",
   "execution_count": 8,
   "metadata": {
    "scrolled": true
   },
   "outputs": [
    {
     "name": "stdout",
     "output_type": "stream",
     "text": [
      "0.95-threshold:wins=0 rank=4.95238\n",
      "0.96-threshold:wins=0 rank=4.28571\n",
      "0.97-threshold:wins=0 rank=3.57143\n",
      "0.98-threshold:wins=0 rank=2.85714\n",
      "0.99-threshold:wins=5 rank=1.80952\n",
      "1.0-threshold:wins=17 rank=1.33333\n"
     ]
    }
   ],
   "source": [
    "for mean, name in zip(means, df_scores.columns[1:]):\n",
    "    print(f\"{name}:wins={ranks[ranks[name] == 1].shape[0]} rank={np.round(mean, 5)}\")"
   ]
  },
  {
   "cell_type": "markdown",
   "metadata": {},
   "source": [
    "Let's plot and output the ranks."
   ]
  },
  {
   "cell_type": "code",
   "execution_count": 9,
   "metadata": {},
   "outputs": [
    {
     "data": {
      "text/plain": "<Figure size 360x140.4 with 1 Axes>",
      "image/png": "[encoded data removed]"
     },
     "metadata": {},
     "output_type": "display_data"
    }
   ],
   "source": [
    "cd = Orange.evaluation.scoring.compute_CD(means, df_scores.shape[0])\n",
    "Orange.evaluation.scoring.graph_ranks(means, df_scores.columns[1:], cd=cd, reverse=True, width=5,\n",
    "                                      filename=\"../../figures/cd_ablation_newma_thresholding_quantile.pdf\")"
   ]
  },
  {
   "cell_type": "markdown",
   "metadata": {},
   "source": [
    "Let's compute pairwise wins/losses."
   ]
  },
  {
   "cell_type": "code",
   "execution_count": 10,
   "metadata": {},
   "outputs": [
    {
     "name": "stdout",
     "output_type": "stream",
     "text": [
      "1.0-threshold vs 0.95-threshold: (wins/ties/losses): 21/0/0\n",
      "1.0-threshold vs 0.96-threshold: (wins/ties/losses): 20/0/1\n",
      "1.0-threshold vs 0.97-threshold: (wins/ties/losses): 20/0/1\n",
      "1.0-threshold vs 0.98-threshold: (wins/ties/losses): 20/0/1\n",
      "1.0-threshold vs 0.99-threshold: (wins/ties/losses): 16/1/4\n"
     ]
    }
   ],
   "source": [
    "selection = \"1.0-threshold\"\n",
    "\n",
    "for rival in df_scores.columns[1:]:\n",
    "    if rival == selection: continue\n",
    "\n",
    "    df_pair = df_scores[[selection, rival]]\n",
    "    pair_ranks = df_pair.rank(1, method='min', ascending=False)\n",
    "\n",
    "    wins = pair_ranks[(pair_ranks[selection] == 1) & (pair_ranks[rival] == 2)].shape[0]\n",
    "    losses = pair_ranks[(pair_ranks[selection] == 2) & (pair_ranks[rival] == 1)].shape[0]\n",
    "    ties = pair_ranks[(pair_ranks[selection] == 1) & (pair_ranks[rival] == 1)].shape[0]\n",
    "\n",
    "    assert wins + losses + ties == pair_ranks.shape[0]\n",
    "\n",
    "    print(f\"{selection} vs {rival}: (wins/ties/losses): {wins}/{ties}/{losses}\")"
   ]
  },
  {
   "cell_type": "code",
   "execution_count": 11,
   "metadata": {},
   "outputs": [
    {
     "name": "stderr",
     "output_type": "stream",
     "text": [
      "/var/folders/5_/fv_bzq1n4n76j6l_jqgndj6c0000gn/T/ipykernel_4223/3922786506.py:8: MatplotlibDeprecationWarning: The label function was deprecated in Matplotlib 3.1 and will be removed in 3.8. Use Tick.label1 instead.\n",
      "  tick.label.set_fontsize(fontsize)\n",
      "/var/folders/5_/fv_bzq1n4n76j6l_jqgndj6c0000gn/T/ipykernel_4223/3922786506.py:11: MatplotlibDeprecationWarning: The label function was deprecated in Matplotlib 3.1 and will be removed in 3.8. Use Tick.label1 instead.\n",
      "  tick.label.set_fontsize(fontsize)\n"
     ]
    },
    {
     "data": {
      "text/plain": "<Figure size 720x720 with 1 Axes>",
      "image/png": "[encoded data removed]"
     },
     "metadata": {
      "needs_background": "light"
     },
     "output_type": "display_data"
    }
   ],
   "source": [
    "fontsize = 18\n",
    "_, ax = plt.subplots(figsize=(10, 10))\n",
    "\n",
    "df_scores.boxplot(ax=ax, rot=90)\n",
    "ax.set_ylabel(eval_score, fontsize=fontsize)\n",
    "\n",
    "for tick in ax.xaxis.get_major_ticks():\n",
    "    tick.label.set_fontsize(fontsize)\n",
    "\n",
    "for tick in ax.yaxis.get_major_ticks():\n",
    "    tick.label.set_fontsize(fontsize)\n",
    "\n",
    "plt.savefig(\"../../figures/bp_ablation_newma_thresholding_quantile.pdf\", bbox_inches=\"tight\") "
   ]
  }
 ],
 "metadata": {
  "kernelspec": {
   "display_name": "Python 3 (ipykernel)",
   "language": "python",
   "name": "python3"
  },
  "language_info": {
   "codemirror_mode": {
    "name": "ipython",
    "version": 3
   },
   "file_extension": ".py",
   "mimetype": "text/x-python",
   "name": "python",
   "nbconvert_exporter": "python",
   "pygments_lexer": "ipython3",
   "version": "3.8.12"
  }
 },
 "nbformat": 4,
 "nbformat_minor": 4
}