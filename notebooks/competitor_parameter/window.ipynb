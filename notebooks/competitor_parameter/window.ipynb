{
 "cells": [
  {
   "cell_type": "markdown",
   "metadata": {},
   "source": [
    "# Comparative Analysis\n",
    "In this notebook, we compare Window with different parameter settings."
   ]
  },
  {
   "cell_type": "code",
   "execution_count": 1,
   "metadata": {},
   "outputs": [],
   "source": [
    "import matplotlib\n",
    "\n",
    "matplotlib.rcParams['pdf.fonttype'] = 42\n",
    "matplotlib.rcParams['ps.fonttype'] = 42"
   ]
  },
  {
   "cell_type": "code",
   "execution_count": 2,
   "metadata": {},
   "outputs": [],
   "source": [
    "import numpy as np\n",
    "\n",
    "import pandas as pd\n",
    "\n",
    "pd.set_option('display.max_rows', None)\n",
    "\n",
    "import matplotlib.pyplot as plt\n",
    "import seaborn as sns\n",
    "\n",
    "sns.set_theme()\n",
    "sns.set_color_codes()\n",
    "\n",
    "import Orange\n",
    "import sys\n",
    "\n",
    "sys.path.append(\"../../\")"
   ]
  },
  {
   "cell_type": "markdown",
   "metadata": {},
   "source": [
    "Let's choose a score for evaluation (F1 or Covering)."
   ]
  },
  {
   "cell_type": "code",
   "execution_count": 3,
   "metadata": {},
   "outputs": [],
   "source": [
    "eval_score = \"covering_score\""
   ]
  },
  {
   "cell_type": "markdown",
   "metadata": {},
   "source": [
    "Let's load the scores from the different methods."
   ]
  },
  {
   "cell_type": "code",
   "execution_count": 4,
   "metadata": {},
   "outputs": [
    {
     "data": {
      "text/plain": "                       dataset  l1-cost-0.85-threshold  \\\n0                DodgerLoopDay                   0.123   \n1                       EEGRat                   0.500   \n2                      EEGRat2                   0.500   \n3                     FaceFour                   0.281   \n4            GrandMalSeizures2                   0.057   \n5                 GreatBarbet1                   0.355   \n6                      Herring                   1.000   \n7                  InlineSkate                   0.530   \n8                   InsectEPG1                   0.653   \n9          MelbournePedestrian                   0.149   \n10                    NogunGun                   0.834   \n11  NonInvasiveFetalECGThorax1                   0.169   \n12                   ShapesAll                   0.250   \n13                     TiltECG                   0.069   \n14            ToeSegmentation1                   0.500   \n15            ToeSegmentation2                   0.500   \n16                       Trace                   0.344   \n17        UWaveGestureLibraryY                   0.201   \n18        UWaveGestureLibraryZ                   0.201   \n19                WordSynonyms                   0.727   \n20                        Yoga                   0.504   \n\n    l2-cost-0.45-threshold  normal-cost-0.95-threshold  ar-cost-0.2-threshold  \\\n0                    0.064                       0.066                  1.000   \n1                    0.641                       0.697                  0.616   \n2                    0.500                       0.500                  0.856   \n3                    0.281                       0.684                  0.281   \n4                    0.012                       0.606                  0.013   \n5                    0.355                       0.355                  0.355   \n6                    0.445                       0.553                  1.000   \n7                    0.081                       0.049                  0.732   \n8                    0.653                       0.653                  0.653   \n9                    0.149                       0.149                  0.403   \n10                   0.288                       0.518                  0.458   \n11                   0.169                       0.169                  0.169   \n12                   0.431                       0.312                  0.200   \n13                   0.074                       0.531                  0.074   \n14                   0.500                       0.500                  0.840   \n15                   0.584                       0.657                  0.500   \n16                   0.344                       0.344                  0.344   \n17                   0.201                       0.201                  0.381   \n18                   0.201                       0.201                  0.589   \n19                   0.727                       0.727                  0.820   \n20                   0.504                       0.504                  0.504   \n\n    mahalanobis-cost-0.85-threshold  rank-cost-0.95-threshold  \n0                             0.061                     0.060  \n1                             0.730                     0.729  \n2                             0.500                     0.500  \n3                             0.281                     0.281  \n4                             0.446                     0.446  \n5                             0.355                     0.355  \n6                             1.000                     1.000  \n7                             0.182                     0.157  \n8                             0.653                     0.653  \n9                             0.149                     0.149  \n10                            0.518                     0.518  \n11                            0.169                     0.169  \n12                            0.405                     0.414  \n13                            0.531                     0.531  \n14                            0.500                     0.500  \n15                            0.500                     0.500  \n16                            0.344                     0.344  \n17                            0.201                     0.201  \n18                            0.201                     0.201  \n19                            0.727                     0.727  \n20                            0.504                     0.504  ",
      "text/html": "<div>\n<style scoped>\n    .dataframe tbody tr th:only-of-type {\n        vertical-align: middle;\n    }\n\n    .dataframe tbody tr th {\n        vertical-align: top;\n    }\n\n    .dataframe thead th {\n        text-align: right;\n    }\n</style>\n<table border=\"1\" class=\"dataframe\">\n  <thead>\n    <tr style=\"text-align: right;\">\n      <th></th>\n      <th>dataset</th>\n      <th>l1-cost-0.85-threshold</th>\n      <th>l2-cost-0.45-threshold</th>\n      <th>normal-cost-0.95-threshold</th>\n      <th>ar-cost-0.2-threshold</th>\n      <th>mahalanobis-cost-0.85-threshold</th>\n      <th>rank-cost-0.95-threshold</th>\n    </tr>\n  </thead>\n  <tbody>\n    <tr>\n      <th>0</th>\n      <td>DodgerLoopDay</td>\n      <td>0.123</td>\n      <td>0.064</td>\n      <td>0.066</td>\n      <td>1.000</td>\n      <td>0.061</td>\n      <td>0.060</td>\n    </tr>\n    <tr>\n      <th>1</th>\n      <td>EEGRat</td>\n      <td>0.500</td>\n      <td>0.641</td>\n      <td>0.697</td>\n      <td>0.616</td>\n      <td>0.730</td>\n      <td>0.729</td>\n    </tr>\n    <tr>\n      <th>2</th>\n      <td>EEGRat2</td>\n      <td>0.500</td>\n      <td>0.500</td>\n      <td>0.500</td>\n      <td>0.856</td>\n      <td>0.500</td>\n      <td>0.500</td>\n    </tr>\n    <tr>\n      <th>3</th>\n      <td>FaceFour</td>\n      <td>0.281</td>\n      <td>0.281</td>\n      <td>0.684</td>\n      <td>0.281</td>\n      <td>0.281</td>\n      <td>0.281</td>\n    </tr>\n    <tr>\n      <th>4</th>\n      <td>GrandMalSeizures2</td>\n      <td>0.057</td>\n      <td>0.012</td>\n      <td>0.606</td>\n      <td>0.013</td>\n      <td>0.446</td>\n      <td>0.446</td>\n    </tr>\n    <tr>\n      <th>5</th>\n      <td>GreatBarbet1</td>\n      <td>0.355</td>\n      <td>0.355</td>\n      <td>0.355</td>\n      <td>0.355</td>\n      <td>0.355</td>\n      <td>0.355</td>\n    </tr>\n    <tr>\n      <th>6</th>\n      <td>Herring</td>\n      <td>1.000</td>\n      <td>0.445</td>\n      <td>0.553</td>\n      <td>1.000</td>\n      <td>1.000</td>\n      <td>1.000</td>\n    </tr>\n    <tr>\n      <th>7</th>\n      <td>InlineSkate</td>\n      <td>0.530</td>\n      <td>0.081</td>\n      <td>0.049</td>\n      <td>0.732</td>\n      <td>0.182</td>\n      <td>0.157</td>\n    </tr>\n    <tr>\n      <th>8</th>\n      <td>InsectEPG1</td>\n      <td>0.653</td>\n      <td>0.653</td>\n      <td>0.653</td>\n      <td>0.653</td>\n      <td>0.653</td>\n      <td>0.653</td>\n    </tr>\n    <tr>\n      <th>9</th>\n      <td>MelbournePedestrian</td>\n      <td>0.149</td>\n      <td>0.149</td>\n      <td>0.149</td>\n      <td>0.403</td>\n      <td>0.149</td>\n      <td>0.149</td>\n    </tr>\n    <tr>\n      <th>10</th>\n      <td>NogunGun</td>\n      <td>0.834</td>\n      <td>0.288</td>\n      <td>0.518</td>\n      <td>0.458</td>\n      <td>0.518</td>\n      <td>0.518</td>\n    </tr>\n    <tr>\n      <th>11</th>\n      <td>NonInvasiveFetalECGThorax1</td>\n      <td>0.169</td>\n      <td>0.169</td>\n      <td>0.169</td>\n      <td>0.169</td>\n      <td>0.169</td>\n      <td>0.169</td>\n    </tr>\n    <tr>\n      <th>12</th>\n      <td>ShapesAll</td>\n      <td>0.250</td>\n      <td>0.431</td>\n      <td>0.312</td>\n      <td>0.200</td>\n      <td>0.405</td>\n      <td>0.414</td>\n    </tr>\n    <tr>\n      <th>13</th>\n      <td>TiltECG</td>\n      <td>0.069</td>\n      <td>0.074</td>\n      <td>0.531</td>\n      <td>0.074</td>\n      <td>0.531</td>\n      <td>0.531</td>\n    </tr>\n    <tr>\n      <th>14</th>\n      <td>ToeSegmentation1</td>\n      <td>0.500</td>\n      <td>0.500</td>\n      <td>0.500</td>\n      <td>0.840</td>\n      <td>0.500</td>\n      <td>0.500</td>\n    </tr>\n    <tr>\n      <th>15</th>\n      <td>ToeSegmentation2</td>\n      <td>0.500</td>\n      <td>0.584</td>\n      <td>0.657</td>\n      <td>0.500</td>\n      <td>0.500</td>\n      <td>0.500</td>\n    </tr>\n    <tr>\n      <th>16</th>\n      <td>Trace</td>\n      <td>0.344</td>\n      <td>0.344</td>\n      <td>0.344</td>\n      <td>0.344</td>\n      <td>0.344</td>\n      <td>0.344</td>\n    </tr>\n    <tr>\n      <th>17</th>\n      <td>UWaveGestureLibraryY</td>\n      <td>0.201</td>\n      <td>0.201</td>\n      <td>0.201</td>\n      <td>0.381</td>\n      <td>0.201</td>\n      <td>0.201</td>\n    </tr>\n    <tr>\n      <th>18</th>\n      <td>UWaveGestureLibraryZ</td>\n      <td>0.201</td>\n      <td>0.201</td>\n      <td>0.201</td>\n      <td>0.589</td>\n      <td>0.201</td>\n      <td>0.201</td>\n    </tr>\n    <tr>\n      <th>19</th>\n      <td>WordSynonyms</td>\n      <td>0.727</td>\n      <td>0.727</td>\n      <td>0.727</td>\n      <td>0.820</td>\n      <td>0.727</td>\n      <td>0.727</td>\n    </tr>\n    <tr>\n      <th>20</th>\n      <td>Yoga</td>\n      <td>0.504</td>\n      <td>0.504</td>\n      <td>0.504</td>\n      <td>0.504</td>\n      <td>0.504</td>\n      <td>0.504</td>\n    </tr>\n  </tbody>\n</table>\n</div>"
     },
     "execution_count": 4,
     "metadata": {},
     "output_type": "execute_result"
    }
   ],
   "source": [
    "variants = [\n",
    "    (\"l1\", 0.85),\n",
    "    (\"l2\", 0.45),\n",
    "    (\"normal\", 0.95),\n",
    "    (\"ar\", 0.2),\n",
    "    (\"mahalanobis\", 0.85),\n",
    "    (\"rank\", 0.95)\n",
    "]\n",
    "\n",
    "methods = list()\n",
    "\n",
    "for cost, t in variants:\n",
    "    candidate_name = f\"{cost}-cost-{t}-threshold\"\n",
    "    methods.append((candidate_name, f\"{candidate_name}.csv\"))\n",
    "\n",
    "for idx, (name, file_name) in enumerate(methods):\n",
    "    methods[idx] = name, pd.read_csv(f\"../../experiments/window_cost_threshold/{file_name}\")\n",
    "\n",
    "df_scores = pd.DataFrame()\n",
    "\n",
    "for name, df in methods:\n",
    "    df_scores[\"dataset\"] = df.dataset\n",
    "    df_scores[name] = df[eval_score]\n",
    "\n",
    "df_scores"
   ]
  },
  {
   "cell_type": "markdown",
   "metadata": {},
   "source": [
    "Let's calculate the mean/std score."
   ]
  },
  {
   "cell_type": "code",
   "execution_count": 5,
   "metadata": {},
   "outputs": [
    {
     "name": "stderr",
     "output_type": "stream",
     "text": [
      "/var/folders/5_/fv_bzq1n4n76j6l_jqgndj6c0000gn/T/ipykernel_3276/3088260556.py:1: FutureWarning: Dropping of nuisance columns in DataFrame reductions (with 'numeric_only=None') is deprecated; in a future version this will raise TypeError.  Select only valid columns before calling the reduction.\n",
      "  df_scores.mean(axis=0).round(3)\n"
     ]
    },
    {
     "data": {
      "text/plain": "l1-cost-0.85-threshold             0.402\nl2-cost-0.45-threshold             0.343\nnormal-cost-0.95-threshold         0.427\nar-cost-0.2-threshold              0.514\nmahalanobis-cost-0.85-threshold    0.427\nrank-cost-0.95-threshold           0.426\ndtype: float64"
     },
     "execution_count": 5,
     "metadata": {},
     "output_type": "execute_result"
    }
   ],
   "source": [
    "df_scores.mean(axis=0).round(3)"
   ]
  },
  {
   "cell_type": "code",
   "execution_count": 6,
   "metadata": {},
   "outputs": [
    {
     "name": "stderr",
     "output_type": "stream",
     "text": [
      "/var/folders/5_/fv_bzq1n4n76j6l_jqgndj6c0000gn/T/ipykernel_3276/2527189798.py:1: FutureWarning: Dropping of nuisance columns in DataFrame reductions (with 'numeric_only=None') is deprecated; in a future version this will raise TypeError.  Select only valid columns before calling the reduction.\n",
      "  df_scores.std(axis=0).round(3)\n"
     ]
    },
    {
     "data": {
      "text/plain": "l1-cost-0.85-threshold             0.258\nl2-cost-0.45-threshold             0.215\nnormal-cost-0.95-threshold         0.219\nar-cost-0.2-threshold              0.290\nmahalanobis-cost-0.85-threshold    0.232\nrank-cost-0.95-threshold           0.233\ndtype: float64"
     },
     "execution_count": 6,
     "metadata": {},
     "output_type": "execute_result"
    }
   ],
   "source": [
    "df_scores.std(axis=0).round(3)"
   ]
  },
  {
   "cell_type": "markdown",
   "metadata": {},
   "source": [
    "Let's compute the wins per method."
   ]
  },
  {
   "cell_type": "code",
   "execution_count": 7,
   "metadata": {},
   "outputs": [],
   "source": [
    "ranks = df_scores.rank(1, method='min', ascending=False)\n",
    "means = np.array(ranks.mean(axis=0))"
   ]
  },
  {
   "cell_type": "code",
   "execution_count": 8,
   "metadata": {
    "scrolled": true
   },
   "outputs": [
    {
     "name": "stdout",
     "output_type": "stream",
     "text": [
      "l1-cost-0.85-threshold:wins=7 rank=2.33333\n",
      "l2-cost-0.45-threshold:wins=6 rank=2.71429\n",
      "normal-cost-0.95-threshold:wins=9 rank=2.09524\n",
      "ar-cost-0.2-threshold:wins=14 rank=2.09524\n",
      "mahalanobis-cost-0.85-threshold:wins=8 rank=1.90476\n",
      "rank-cost-0.95-threshold:wins=7 rank=2.0\n"
     ]
    }
   ],
   "source": [
    "for mean, name in zip(means, df_scores.columns[1:]):\n",
    "    print(f\"{name}:wins={ranks[ranks[name] == 1].shape[0]} rank={np.round(mean, 5)}\")"
   ]
  },
  {
   "cell_type": "markdown",
   "metadata": {},
   "source": [
    "Let's plot and output the ranks."
   ]
  },
  {
   "cell_type": "code",
   "execution_count": 9,
   "metadata": {},
   "outputs": [
    {
     "data": {
      "text/plain": "<Figure size 360x126 with 1 Axes>",
      "image/png": "[encoded data removed]"
     },
     "metadata": {},
     "output_type": "display_data"
    }
   ],
   "source": [
    "cd = Orange.evaluation.scoring.compute_CD(means, df_scores.shape[0])\n",
    "Orange.evaluation.scoring.graph_ranks(means, ranks.columns, cd=cd, reverse=True, width=5,\n",
    "                                      filename=\"../../figures/cd_ablation_window_cost_threshold.pdf\")"
   ]
  },
  {
   "cell_type": "markdown",
   "metadata": {},
   "source": [
    "Let's compute pairwise wins/losses."
   ]
  },
  {
   "cell_type": "code",
   "execution_count": 10,
   "metadata": {},
   "outputs": [
    {
     "name": "stdout",
     "output_type": "stream",
     "text": [
      "ar-cost-0.2-threshold vs l1-cost-0.85-threshold: (wins/ties/losses): 10/8/3\n",
      "ar-cost-0.2-threshold vs l2-cost-0.45-threshold: (wins/ties/losses): 11/7/3\n",
      "ar-cost-0.2-threshold vs normal-cost-0.95-threshold: (wins/ties/losses): 9/5/7\n",
      "ar-cost-0.2-threshold vs mahalanobis-cost-0.85-threshold: (wins/ties/losses): 8/8/5\n",
      "ar-cost-0.2-threshold vs rank-cost-0.95-threshold: (wins/ties/losses): 8/8/5\n"
     ]
    }
   ],
   "source": [
    "selection = \"ar-cost-0.2-threshold\"\n",
    "\n",
    "for rival in df_scores.columns[1:]:\n",
    "    if rival == selection: continue\n",
    "\n",
    "    df_pair = df_scores[[selection, rival]]\n",
    "    pair_ranks = df_pair.rank(1, method='min', ascending=False)\n",
    "\n",
    "    wins = pair_ranks[(pair_ranks[selection] == 1) & (pair_ranks[rival] == 2)].shape[0]\n",
    "    losses = pair_ranks[(pair_ranks[selection] == 2) & (pair_ranks[rival] == 1)].shape[0]\n",
    "    ties = pair_ranks[(pair_ranks[selection] == 1) & (pair_ranks[rival] == 1)].shape[0]\n",
    "\n",
    "    assert wins + losses + ties == pair_ranks.shape[0]\n",
    "\n",
    "    print(f\"{selection} vs {rival}: (wins/ties/losses): {wins}/{ties}/{losses}\")"
   ]
  },
  {
   "cell_type": "code",
   "execution_count": 11,
   "metadata": {},
   "outputs": [
    {
     "name": "stderr",
     "output_type": "stream",
     "text": [
      "/var/folders/5_/fv_bzq1n4n76j6l_jqgndj6c0000gn/T/ipykernel_3276/4072302408.py:8: MatplotlibDeprecationWarning: The label function was deprecated in Matplotlib 3.1 and will be removed in 3.8. Use Tick.label1 instead.\n",
      "  tick.label.set_fontsize(fontsize)\n",
      "/var/folders/5_/fv_bzq1n4n76j6l_jqgndj6c0000gn/T/ipykernel_3276/4072302408.py:11: MatplotlibDeprecationWarning: The label function was deprecated in Matplotlib 3.1 and will be removed in 3.8. Use Tick.label1 instead.\n",
      "  tick.label.set_fontsize(fontsize)\n"
     ]
    },
    {
     "data": {
      "text/plain": "<Figure size 720x720 with 1 Axes>",
      "image/png": "[encoded data removed]"
     },
     "metadata": {
      "needs_background": "light"
     },
     "output_type": "display_data"
    }
   ],
   "source": [
    "fontsize = 18\n",
    "_, ax = plt.subplots(figsize=(10, 10))\n",
    "\n",
    "df_scores.boxplot(ax=ax, rot=90)\n",
    "ax.set_ylabel(eval_score, fontsize=fontsize)\n",
    "\n",
    "for tick in ax.xaxis.get_major_ticks():\n",
    "    tick.label.set_fontsize(fontsize)\n",
    "\n",
    "for tick in ax.yaxis.get_major_ticks():\n",
    "    tick.label.set_fontsize(fontsize)\n",
    "\n",
    "plt.savefig(\"../../figures/bp_ablation_window_cost_threshold.pdf\", bbox_inches=\"tight\") "
   ]
  }
 ],
 "metadata": {
  "kernelspec": {
   "display_name": "Python 3 (ipykernel)",
   "language": "python",
   "name": "python3"
  },
  "language_info": {
   "codemirror_mode": {
    "name": "ipython",
    "version": 3
   },
   "file_extension": ".py",
   "mimetype": "text/x-python",
   "name": "python",
   "nbconvert_exporter": "python",
   "pygments_lexer": "ipython3",
   "version": "3.8.12"
  }
 },
 "nbformat": 4,
 "nbformat_minor": 4
}